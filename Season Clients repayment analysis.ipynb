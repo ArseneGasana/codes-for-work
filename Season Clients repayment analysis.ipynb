{
 "cells": [
  {
   "cell_type": "code",
   "execution_count": 1,
   "metadata": {},
   "outputs": [],
   "source": [
    "import pandas as pd\n",
    "#from dataprep.eda import plot, plot_missing, plot_correlation\n",
    "data = pd.read_csv(r'C:\\Users\\user\\Desktop\\Analysis\\Credit carry over\\Season Clients Light_20200720-094824.csv')"
   ]
  },
  {
   "cell_type": "markdown",
   "metadata": {},
   "source": [
    "#### Country level analysis"
   ]
  },
  {
   "cell_type": "code",
   "execution_count": 33,
   "metadata": {},
   "outputs": [],
   "source": [
    "WithZeroCred = data[data['TotalCredit']==0]\n",
    "WithCred = data[data['TotalCredit']>0]\n",
    "FinishedCredit = data[data['% Repaid']==100]\n",
    "NotFinishedCredit = WithCred[WithCred['% Repaid']<100]\n",
    "TotalClientsFinishedCred = FinishedCredit['OAFID'].count()\n",
    "TotalClientsWithRemCred = NotFinishedCredit['OAFID'].count()\n",
    "\n",
    "\n",
    "RwandaTotalCredit = data['TotalCredit'].sum()\n",
    "RwandaRemainCredit = data['RemainingCredit'].sum()\n",
    "RwandaRepaidCredit = data['TotalRepaid'].sum()\n",
    "RwandaPercRepaid = RwandaRepaidCredit*100/RwandaTotalCredit\n",
    "RwandaRegions = len(data['RegionName'].unique().tolist())\n",
    "RwandaDistricts = len(data['DistrictName'].unique().tolist())\n",
    "RwandaSites = len(data['SiteName'].unique().tolist())\n",
    "TotalClients = WithCred['OAFID'].count()"
   ]
  },
  {
   "cell_type": "code",
   "execution_count": 34,
   "metadata": {},
   "outputs": [
    {
     "name": "stdout",
     "output_type": "stream",
     "text": [
      "Regions: 4\n",
      "District: 26\n",
      "Sites: 1022\n",
      "Total Number of Clients: 464310\n",
      "Total Credit: 10697620970.0\n",
      "Total Repaid: 9519523309.25\n",
      "Remaining Credit: 1178097660.75\n",
      "% Repaid: 88.98729293126189\n",
      "Clients who finished their credit: 343600\n",
      "Clients with remainining credit: 120710\n"
     ]
    }
   ],
   "source": [
    "print('Regions:',RwandaRegions)\n",
    "print('District:',RwandaDistricts)\n",
    "print('Sites:',RwandaSites)\n",
    "print('Total Number of Clients:',TotalClients)\n",
    "print('Total Credit:',RwandaTotalCredit)\n",
    "print('Total Repaid:',RwandaRepaidCredit)\n",
    "print('Remaining Credit:',RwandaRemainCredit)\n",
    "print('% Repaid:',RwandaPercRepaid)\n",
    "print('Clients who finished their credit:',TotalClientsFinishedCred)\n",
    "print('Clients with remainining credit:',TotalClientsWithRemCred)"
   ]
  },
  {
   "cell_type": "markdown",
   "metadata": {},
   "source": [
    "#### Region level analysis"
   ]
  },
  {
   "cell_type": "code",
   "execution_count": 5,
   "metadata": {},
   "outputs": [
    {
     "name": "stdout",
     "output_type": "stream",
     "text": [
      "Total number of clients: 464310\n"
     ]
    },
    {
     "data": {
      "text/html": [
       "<div>\n",
       "<style scoped>\n",
       "    .dataframe tbody tr th:only-of-type {\n",
       "        vertical-align: middle;\n",
       "    }\n",
       "\n",
       "    .dataframe tbody tr th {\n",
       "        vertical-align: top;\n",
       "    }\n",
       "\n",
       "    .dataframe thead th {\n",
       "        text-align: right;\n",
       "    }\n",
       "</style>\n",
       "<table border=\"1\" class=\"dataframe\">\n",
       "  <thead>\n",
       "    <tr style=\"text-align: right;\">\n",
       "      <th></th>\n",
       "      <th>RegionName</th>\n",
       "      <th>TotalCredit</th>\n",
       "      <th>TotalRepaid</th>\n",
       "      <th>RemainingCredit</th>\n",
       "      <th>#Clients</th>\n",
       "    </tr>\n",
       "  </thead>\n",
       "  <tbody>\n",
       "    <tr>\n",
       "      <th>0</th>\n",
       "      <td>East</td>\n",
       "      <td>3,508,662,490.0</td>\n",
       "      <td>3,072,074,353.0</td>\n",
       "      <td>436,588,137.0</td>\n",
       "      <td>119643</td>\n",
       "    </tr>\n",
       "    <tr>\n",
       "      <th>1</th>\n",
       "      <td>South</td>\n",
       "      <td>3,082,917,530.0</td>\n",
       "      <td>2,779,647,538.75</td>\n",
       "      <td>303,269,991.25</td>\n",
       "      <td>138090</td>\n",
       "    </tr>\n",
       "    <tr>\n",
       "      <th>2</th>\n",
       "      <td>South West</td>\n",
       "      <td>1,562,041,230.0</td>\n",
       "      <td>1,455,220,684.5</td>\n",
       "      <td>106,820,545.5</td>\n",
       "      <td>74349</td>\n",
       "    </tr>\n",
       "    <tr>\n",
       "      <th>3</th>\n",
       "      <td>West</td>\n",
       "      <td>2,543,999,720.0</td>\n",
       "      <td>2,212,688,858.0</td>\n",
       "      <td>331,310,862.0</td>\n",
       "      <td>132228</td>\n",
       "    </tr>\n",
       "  </tbody>\n",
       "</table>\n",
       "</div>"
      ],
      "text/plain": [
       "   RegionName     TotalCredit      TotalRepaid  RemainingCredit  #Clients\n",
       "0        East 3,508,662,490.0  3,072,074,353.0    436,588,137.0    119643\n",
       "1       South 3,082,917,530.0 2,779,647,538.75   303,269,991.25    138090\n",
       "2  South West 1,562,041,230.0  1,455,220,684.5    106,820,545.5     74349\n",
       "3        West 2,543,999,720.0  2,212,688,858.0    331,310,862.0    132228"
      ]
     },
     "execution_count": 5,
     "metadata": {},
     "output_type": "execute_result"
    }
   ],
   "source": [
    "RegionSummaryTotals = WithCred.groupby('RegionName')[['TotalCredit','TotalRepaid','RemainingCredit']].sum()\n",
    "RegionSummaryCounts = WithCred.groupby('RegionName')['OAFID'].count()\n",
    "RegionSummary = pd.merge(RegionSummaryTotals,RegionSummaryCounts, on=\"RegionName\", how=\"outer\").reset_index()\n",
    "TotalClients = RegionSummary['OAFID'].sum()\n",
    "print('Total number of clients:',TotalClients)\n",
    "pd.set_option('display.float_format','{:,}'.format)\n",
    "RegionSummary.rename(columns={'OAFID':'#Clients'}, inplace=True)\n",
    "RegionSummary\n",
    "\n"
   ]
  },
  {
   "cell_type": "markdown",
   "metadata": {},
   "source": [
    "#### District level Analysis"
   ]
  },
  {
   "cell_type": "code",
   "execution_count": 16,
   "metadata": {},
   "outputs": [
    {
     "name": "stdout",
     "output_type": "stream",
     "text": [
      "Total number of clients: 464310\n",
      "Enter a district name:Gatsibo\n"
     ]
    },
    {
     "data": {
      "text/plain": [
       "TotalCredit       681,624,300.0\n",
       "TotalRepaid       602,833,983.0\n",
       "RemainingCredit    78,790,317.0\n",
       "#Clients               26,272.0\n",
       "Name: Gatsibo, dtype: float64"
      ]
     },
     "execution_count": 16,
     "metadata": {},
     "output_type": "execute_result"
    }
   ],
   "source": [
    "DistrictSummaryTotals = WithCred.groupby('DistrictName')[['TotalCredit','TotalRepaid','RemainingCredit']].sum()\n",
    "DistrictSummaryCounts = WithCred.groupby('DistrictName')['OAFID'].count()\n",
    "DistrictSummary = pd.merge(DistrictSummaryTotals,DistrictSummaryCounts, on=\"DistrictName\", how=\"outer\")\n",
    "pd.set_option('display.float_format','{:,}'.format)\n",
    "print('Total number of clients:',TotalClientsDist)\n",
    "DistrictSummary.rename(columns={'OAFID':'#Clients'}, inplace=True)\n",
    "District = input('Enter a district name:')\n",
    "DistrictSummary.loc[str(District)]"
   ]
  },
  {
   "cell_type": "markdown",
   "metadata": {},
   "source": [
    "#### Site level analysis"
   ]
  },
  {
   "cell_type": "code",
   "execution_count": 41,
   "metadata": {},
   "outputs": [
    {
     "name": "stderr",
     "output_type": "stream",
     "text": [
      "C:\\Users\\user\\anaconda3\\lib\\site-packages\\ipykernel_launcher.py:1: SettingWithCopyWarning: \n",
      "A value is trying to be set on a copy of a slice from a DataFrame.\n",
      "Try using .loc[row_indexer,col_indexer] = value instead\n",
      "\n",
      "See the caveats in the documentation: https://pandas.pydata.org/pandas-docs/stable/user_guide/indexing.html#returning-a-view-versus-a-copy\n",
      "  \"\"\"Entry point for launching an IPython kernel.\n"
     ]
    },
    {
     "name": "stdout",
     "output_type": "stream",
     "text": [
      "Enter a site name:Biryogo\n"
     ]
    },
    {
     "data": {
      "text/plain": [
       "SiteUID            Bugesera_Biryogo\n",
       "TotalCredit             4,560,430.0\n",
       "TotalRepaid             4,102,265.0\n",
       "RemainingCredit           458,165.0\n",
       "#Clients                        277\n",
       "District                   Bugesera\n",
       "Name: Biryogo, dtype: object"
      ]
     },
     "execution_count": 41,
     "metadata": {},
     "output_type": "execute_result"
    }
   ],
   "source": [
    "WithCred['SiteUID'] = WithCred['DistrictName']+'_'+WithCred['SiteName']\n",
    "\n",
    "SiteSummaryTotals = WithCred.groupby('SiteUID')[['TotalCredit','TotalRepaid','RemainingCredit']].sum()\n",
    "SiteSummaryCounts = WithCred.groupby('SiteUID')['OAFID'].count()\n",
    "SiteSummary = pd.merge(SiteSummaryTotals,SiteSummaryCounts, on=\"SiteUID\", how=\"outer\").reset_index()\n",
    "pd.set_option('display.float_format','{:,}'.format)\n",
    "SiteSummary.rename(columns={'OAFID':'#Clients'}, inplace=True)\n",
    "new = SiteSummary[\"SiteUID\"].str.split(\"_\", n = 1, expand = True) \n",
    "SiteSummary['District']=new[0]\n",
    "SiteSummary['Site']=new[1]\n",
    "FinalSiteSummary=SiteSummary.set_index('Site')\n",
    "Site = input('Enter a site name:')\n",
    "FinalSiteSummary.loc[str(Site)]"
   ]
  },
  {
   "cell_type": "markdown",
   "metadata": {},
   "source": [
    "#### Repayment buckets analysis"
   ]
  },
  {
   "cell_type": "code",
   "execution_count": 43,
   "metadata": {},
   "outputs": [
    {
     "data": {
      "text/html": [
       "<div>\n",
       "<style scoped>\n",
       "    .dataframe tbody tr th:only-of-type {\n",
       "        vertical-align: middle;\n",
       "    }\n",
       "\n",
       "    .dataframe tbody tr th {\n",
       "        vertical-align: top;\n",
       "    }\n",
       "\n",
       "    .dataframe thead th {\n",
       "        text-align: right;\n",
       "    }\n",
       "</style>\n",
       "<table border=\"1\" class=\"dataframe\">\n",
       "  <thead>\n",
       "    <tr style=\"text-align: right;\">\n",
       "      <th></th>\n",
       "      <th>index</th>\n",
       "      <th>Number</th>\n",
       "    </tr>\n",
       "  </thead>\n",
       "  <tbody>\n",
       "    <tr>\n",
       "      <th>0</th>\n",
       "      <td>Between 0 and 10</td>\n",
       "      <td>972</td>\n",
       "    </tr>\n",
       "    <tr>\n",
       "      <th>1</th>\n",
       "      <td>Between 10 and 20</td>\n",
       "      <td>2905</td>\n",
       "    </tr>\n",
       "    <tr>\n",
       "      <th>2</th>\n",
       "      <td>Between 20 and 30</td>\n",
       "      <td>5523</td>\n",
       "    </tr>\n",
       "    <tr>\n",
       "      <th>3</th>\n",
       "      <td>Between 30 and 40</td>\n",
       "      <td>8921</td>\n",
       "    </tr>\n",
       "    <tr>\n",
       "      <th>4</th>\n",
       "      <td>Between 40 and 50</td>\n",
       "      <td>11276</td>\n",
       "    </tr>\n",
       "    <tr>\n",
       "      <th>5</th>\n",
       "      <td>Between 50 and 60</td>\n",
       "      <td>13966</td>\n",
       "    </tr>\n",
       "    <tr>\n",
       "      <th>6</th>\n",
       "      <td>Between 60 and 70</td>\n",
       "      <td>17503</td>\n",
       "    </tr>\n",
       "    <tr>\n",
       "      <th>7</th>\n",
       "      <td>Between 70 and 80</td>\n",
       "      <td>18829</td>\n",
       "    </tr>\n",
       "    <tr>\n",
       "      <th>8</th>\n",
       "      <td>Between 80 and 90</td>\n",
       "      <td>20189</td>\n",
       "    </tr>\n",
       "    <tr>\n",
       "      <th>9</th>\n",
       "      <td>Between 90 and 100</td>\n",
       "      <td>361975</td>\n",
       "    </tr>\n",
       "    <tr>\n",
       "      <th>10</th>\n",
       "      <td>OverPaid</td>\n",
       "      <td>0</td>\n",
       "    </tr>\n",
       "  </tbody>\n",
       "</table>\n",
       "</div>"
      ],
      "text/plain": [
       "                 index  Number\n",
       "0     Between 0 and 10     972\n",
       "1    Between 10 and 20    2905\n",
       "2    Between 20 and 30    5523\n",
       "3    Between 30 and 40    8921\n",
       "4    Between 40 and 50   11276\n",
       "5    Between 50 and 60   13966\n",
       "6    Between 60 and 70   17503\n",
       "7    Between 70 and 80   18829\n",
       "8    Between 80 and 90   20189\n",
       "9   Between 90 and 100  361975\n",
       "10            OverPaid       0"
      ]
     },
     "execution_count": 43,
     "metadata": {},
     "output_type": "execute_result"
    }
   ],
   "source": [
    "Between_0_10 = data[(data['% Repaid']>0)&(data['% Repaid']<=10)]['OAFID'].count()\n",
    "Between_10_20 =data[(data['% Repaid']>10)&(data['% Repaid']<=20)]['OAFID'].count()\n",
    "Between_20_30 =data[(data['% Repaid']>20)&(data['% Repaid']<=30)]['OAFID'].count()\n",
    "Between_30_40 =data[(data['% Repaid']>30)&(data['% Repaid']<=40)]['OAFID'].count()\n",
    "Between_40_50 =data[(data['% Repaid']>40)&(data['% Repaid']<=50)]['OAFID'].count()\n",
    "Between_50_60 =data[(data['% Repaid']>50)&(data['% Repaid']<=60)]['OAFID'].count()\n",
    "Between_60_70 =data[(data['% Repaid']>60)&(data['% Repaid']<=70)]['OAFID'].count()\n",
    "Between_70_80 =data[(data['% Repaid']>70)&(data['% Repaid']<=80)]['OAFID'].count()\n",
    "Between_80_90 =data[(data['% Repaid']>80)&(data['% Repaid']<=90)]['OAFID'].count()\n",
    "Between_90_100 =data[(data['% Repaid']>90)&(data['% Repaid']<=100)]['OAFID'].count()\n",
    "OverPaid = data[data['% Repaid']>100]['OAFID'].count()\n",
    "RepaymentbucketDict = {'Between 0 and 10':Between_0_10,\n",
    "                    'Between 10 and 20':Between_10_20,\n",
    "                    'Between 20 and 30':Between_20_30,\n",
    "                    'Between 30 and 40':Between_30_40,\n",
    "                    'Between 40 and 50':Between_40_50,\n",
    "                    'Between 50 and 60':Between_50_60,\n",
    "                    'Between 60 and 70':Between_60_70,\n",
    "                    'Between 70 and 80':Between_70_80,\n",
    "                    'Between 80 and 90':Between_80_90,\n",
    "                    'Between 90 and 100':Between_90_100,\n",
    "                    'OverPaid':OverPaid}\n",
    "RepaymentbucketDf = pd.DataFrame.from_dict(RepaymentbucketDict, orient='index', columns=['Number']).reset_index()\n",
    "RepaymentbucketDf.style.set_properties(**{'text-align':'left'})\n",
    "RepaymentbucketDf"
   ]
  },
  {
   "cell_type": "code",
   "execution_count": null,
   "metadata": {},
   "outputs": [],
   "source": []
  },
  {
   "cell_type": "code",
   "execution_count": null,
   "metadata": {},
   "outputs": [],
   "source": []
  },
  {
   "cell_type": "code",
   "execution_count": null,
   "metadata": {},
   "outputs": [],
   "source": []
  },
  {
   "cell_type": "code",
   "execution_count": null,
   "metadata": {},
   "outputs": [],
   "source": []
  }
 ],
 "metadata": {
  "kernelspec": {
   "display_name": "Python 3",
   "language": "python",
   "name": "python3"
  },
  "language_info": {
   "codemirror_mode": {
    "name": "ipython",
    "version": 3
   },
   "file_extension": ".py",
   "mimetype": "text/x-python",
   "name": "python",
   "nbconvert_exporter": "python",
   "pygments_lexer": "ipython3",
   "version": "3.7.6"
  }
 },
 "nbformat": 4,
 "nbformat_minor": 4
}
