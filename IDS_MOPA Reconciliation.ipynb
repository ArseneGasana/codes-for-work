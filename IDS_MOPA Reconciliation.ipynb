{
 "cells": [
  {
   "cell_type": "code",
   "execution_count": 1,
   "metadata": {},
   "outputs": [],
   "source": [
    "import pandas as pd"
   ]
  },
  {
   "source": [
    "ANALYSIS ON IDS"
   ],
   "cell_type": "markdown",
   "metadata": {}
  },
  {
   "cell_type": "code",
   "execution_count": 92,
   "metadata": {
    "tags": []
   },
   "outputs": [],
   "source": [
    "#import IDS data\n",
    "IDS_data = pd.read_csv(r'C:\\Users\\user\\Desktop\\MOPA Reconciliation\\Gisagara &Nyanza\\Season Clients Detailed_20200923-102226.csv')\n"
   ]
  },
  {
   "cell_type": "code",
   "execution_count": 99,
   "metadata": {},
   "outputs": [
    {
     "output_type": "execute_result",
     "data": {
      "text/plain": "  Product  #Clients  Quantity\n0     DAP      1734   16040.0\n1     NPK       611   10960.0\n2   PAN53      1716    5070.0\n3    UREA      2045   20425.5\n4   WH403         1       2.0",
      "text/html": "<div>\n<style scoped>\n    .dataframe tbody tr th:only-of-type {\n        vertical-align: middle;\n    }\n\n    .dataframe tbody tr th {\n        vertical-align: top;\n    }\n\n    .dataframe thead th {\n        text-align: right;\n    }\n</style>\n<table border=\"1\" class=\"dataframe\">\n  <thead>\n    <tr style=\"text-align: right;\">\n      <th></th>\n      <th>Product</th>\n      <th>#Clients</th>\n      <th>Quantity</th>\n    </tr>\n  </thead>\n  <tbody>\n    <tr>\n      <th>0</th>\n      <td>DAP</td>\n      <td>1734</td>\n      <td>16040.0</td>\n    </tr>\n    <tr>\n      <th>1</th>\n      <td>NPK</td>\n      <td>611</td>\n      <td>10960.0</td>\n    </tr>\n    <tr>\n      <th>2</th>\n      <td>PAN53</td>\n      <td>1716</td>\n      <td>5070.0</td>\n    </tr>\n    <tr>\n      <th>3</th>\n      <td>UREA</td>\n      <td>2045</td>\n      <td>20425.5</td>\n    </tr>\n    <tr>\n      <th>4</th>\n      <td>WH403</td>\n      <td>1</td>\n      <td>2.0</td>\n    </tr>\n  </tbody>\n</table>\n</div>"
     },
     "metadata": {},
     "execution_count": 99
    }
   ],
   "source": [
    "#Preliminary info on IDS data on subsidized inputs\n",
    "GovLocationParent = 'Mukingo'\n",
    "SectorDf = IDS_data [IDS_data ['GovLocationParent']==GovLocationParent ]\n",
    "SectorClients = SectorDf.groupby('GovLocationParent')['OAFID'].count()\n",
    "\n",
    "SubsInputsdf = SectorDf[['DistrictName','SectorName','SiteName','LastName','FirstName','OAFID','NationalID','2021A_DAP kg','2021A_NPK 17 kg','2021A_Pan 53 kg','2021A_Pan 691 kg','2021A_SC 403 kg','2021A_SC 637 kg','2021A_UREA kg','2021A_WH 403 kg','2021A_WH 505 kg','2021A_WH 605 kg']]\n",
    "\n",
    "SubsInputsMelt = SubsInputsdf.melt(['DistrictName','SectorName','SiteName','LastName','FirstName','OAFID','NationalID'],['2021A_DAP kg','2021A_NPK 17 kg','2021A_Pan 53 kg','2021A_Pan 691 kg','2021A_SC 403 kg','2021A_SC 637 kg','2021A_UREA kg','2021A_WH 403 kg','2021A_WH 505 kg','2021A_WH 605 kg'], 'inputName','Quantity').fillna(0)\n",
    "\n",
    "#Cleaning some IDS columns\n",
    "SubsInputsMelt['NationalID'] =SubsInputsMelt['NationalID'].astype(str).replace('\\.0', '', regex=True)\n",
    "\n",
    "IDSInputsTxns = SubsInputsMelt[SubsInputsMelt['Quantity']>0]\n",
    "IDSInputsTxns ['inputName'] = IDSInputsTxns ['inputName'].replace(['2021A_DAP kg','2021A_NPK 17 kg','2021A_UREA kg','2021A_WH 403 kg','2021A_SC 403 kg','2021A_Pan 53 kg'],['DAP','NPK','UREA','WH403','SC403','PAN53'])\n",
    "IDSInputsTxns =IDSInputsTxns.rename(columns={'inputName':'Product'})\n",
    "IDSInputsTxns['ProductID'] = IDSInputsTxns['NationalID'] + IDSInputsTxns['Product']\n",
    "\n",
    "IDSClientsPerInput = IDSInputsTxns.groupby('Product')['OAFID'].count().reset_index()\n",
    "IDSQtyPerInput = IDSInputsTxns.groupby('Product')['Quantity'].sum().reset_index()\n",
    "SectorSummary = pd.merge(IDSClientsPerInput,IDSQtyPerInput,on='Product',how='outer').rename(columns={'OAFID':'#Clients'})\n",
    "\n",
    "\n",
    "SectorSummary "
   ]
  },
  {
   "cell_type": "code",
   "execution_count": 100,
   "metadata": {},
   "outputs": [],
   "source": [
    "#Other IDS data\n",
    "TotalIDSClients = SubsInputsdf['NationalID'].nunique()\n",
    "\n",
    "#Transactions\n",
    "IDSTotalTxn = IDSInputsTxns['OAFID'].count()\n",
    "SubsInputsMelt.to_excel('SubsInputsMelt.xlsx')"
   ]
  },
  {
   "source": [
    "ANALYSIS ON MOPA"
   ],
   "cell_type": "markdown",
   "metadata": {}
  },
  {
   "cell_type": "code",
   "execution_count": 101,
   "metadata": {},
   "outputs": [],
   "source": [
    "#import MOPA data\n",
    "MOPA = pd.read_excel(r'C:\\Users\\user\\Desktop\\MOPA Reconciliation\\Gisagara &Nyanza\\Mukingo.xlsx')"
   ]
  },
  {
   "cell_type": "code",
   "execution_count": 103,
   "metadata": {},
   "outputs": [],
   "source": [
    "#Cleaning MOPA data\n",
    "ColSplit = MOPA ['Requested Qty'].str.split(\" \", n = 2, expand = True)\n",
    "MOPA['Requested_qty'] = ColSplit[0].astype(float)\n",
    "MOPA['Paid_qty'] = MOPA['Paid Qty'].str.extract('(\\d+)').astype(float)\n",
    "MOPA['Product'] = MOPA['Product'].str.upper()\n",
    "MOPA = MOPA.rename(columns={'National Id':'NationalID'})\n",
    "MOPA['NationalID'] = MOPA['NationalID'].astype(str)\n",
    "MOPA['ProductID'] = MOPA['NationalID'] + MOPA['Product']\n",
    "MOPA_dataCols = MOPA[['Name','NationalID','Product','Requested_qty','Paid_qty']]"
   ]
  },
  {
   "cell_type": "code",
   "execution_count": 104,
   "metadata": {
    "tags": []
   },
   "outputs": [
    {
     "output_type": "execute_result",
     "data": {
      "text/plain": "  Product  Requested_qty  Paid_qty  #Clients\n0     DAP       34415.00   13698.0      1489\n1     NPK       26630.00    8465.0       438\n2   PAN53         141.25     112.0        36\n3    UREA       47862.60   16837.0      1703",
      "text/html": "<div>\n<style scoped>\n    .dataframe tbody tr th:only-of-type {\n        vertical-align: middle;\n    }\n\n    .dataframe tbody tr th {\n        vertical-align: top;\n    }\n\n    .dataframe thead th {\n        text-align: right;\n    }\n</style>\n<table border=\"1\" class=\"dataframe\">\n  <thead>\n    <tr style=\"text-align: right;\">\n      <th></th>\n      <th>Product</th>\n      <th>Requested_qty</th>\n      <th>Paid_qty</th>\n      <th>#Clients</th>\n    </tr>\n  </thead>\n  <tbody>\n    <tr>\n      <th>0</th>\n      <td>DAP</td>\n      <td>34415.00</td>\n      <td>13698.0</td>\n      <td>1489</td>\n    </tr>\n    <tr>\n      <th>1</th>\n      <td>NPK</td>\n      <td>26630.00</td>\n      <td>8465.0</td>\n      <td>438</td>\n    </tr>\n    <tr>\n      <th>2</th>\n      <td>PAN53</td>\n      <td>141.25</td>\n      <td>112.0</td>\n      <td>36</td>\n    </tr>\n    <tr>\n      <th>3</th>\n      <td>UREA</td>\n      <td>47862.60</td>\n      <td>16837.0</td>\n      <td>1703</td>\n    </tr>\n  </tbody>\n</table>\n</div>"
     },
     "metadata": {},
     "execution_count": 104
    }
   ],
   "source": [
    "#Preliminary info on IDS data on subsidized inputs\n",
    "\n",
    "ClientsqtyPerInput =MOPA_dataCols.groupby('Product')['Requested_qty','Paid_qty'].sum().reset_index()\n",
    "ClientsNumPerInput = MOPA_dataCols.groupby('Product')['NationalID'].count().reset_index()\n",
    "\n",
    "#Number of clients who took each input in mopa and the total quantity taken per each input\n",
    "SummaryMOPA = pd.merge(ClientsqtyPerInput,ClientsNumPerInput,on='Product', how='outer').rename(columns={'NationalID':'#Clients'})\n",
    "SummaryMOPA['Product'] = SummaryMOPA['Product'].replace(['NPK 17:17:17'],['NPK'])\n",
    "SummaryMOPA"
   ]
  },
  {
   "cell_type": "code",
   "execution_count": 105,
   "metadata": {},
   "outputs": [],
   "source": [
    "#Other data on IDS\n",
    "TotalMOPAClients = MOPA['NationalID'].nunique()\n",
    "#Transactions\n",
    "TotalMOPATxn = MOPA['NationalID'].count()"
   ]
  },
  {
   "source": [
    "MATCHING IDS TO MOPA "
   ],
   "cell_type": "markdown",
   "metadata": {}
  },
  {
   "cell_type": "code",
   "execution_count": 106,
   "metadata": {},
   "outputs": [
    {
     "output_type": "execute_result",
     "data": {
      "text/plain": "  Product  #Clients_x  Quantity  Requested_qty  Paid_qty  #Clients_y  \\\n0     DAP        1734   16040.0       34415.00   13698.0      1489.0   \n1     NPK         611   10960.0       26630.00    8465.0       438.0   \n2   PAN53        1716    5070.0         141.25     112.0        36.0   \n3    UREA        2045   20425.5       47862.60   16837.0      1703.0   \n4   WH403           1       2.0            NaN       NaN         NaN   \n\n   Difference In #Clients  Difference In qty  \n0                   245.0             2342.0  \n1                   173.0             2495.0  \n2                  1680.0             4958.0  \n3                   342.0             3588.5  \n4                     NaN                NaN  ",
      "text/html": "<div>\n<style scoped>\n    .dataframe tbody tr th:only-of-type {\n        vertical-align: middle;\n    }\n\n    .dataframe tbody tr th {\n        vertical-align: top;\n    }\n\n    .dataframe thead th {\n        text-align: right;\n    }\n</style>\n<table border=\"1\" class=\"dataframe\">\n  <thead>\n    <tr style=\"text-align: right;\">\n      <th></th>\n      <th>Product</th>\n      <th>#Clients_x</th>\n      <th>Quantity</th>\n      <th>Requested_qty</th>\n      <th>Paid_qty</th>\n      <th>#Clients_y</th>\n      <th>Difference In #Clients</th>\n      <th>Difference In qty</th>\n    </tr>\n  </thead>\n  <tbody>\n    <tr>\n      <th>0</th>\n      <td>DAP</td>\n      <td>1734</td>\n      <td>16040.0</td>\n      <td>34415.00</td>\n      <td>13698.0</td>\n      <td>1489.0</td>\n      <td>245.0</td>\n      <td>2342.0</td>\n    </tr>\n    <tr>\n      <th>1</th>\n      <td>NPK</td>\n      <td>611</td>\n      <td>10960.0</td>\n      <td>26630.00</td>\n      <td>8465.0</td>\n      <td>438.0</td>\n      <td>173.0</td>\n      <td>2495.0</td>\n    </tr>\n    <tr>\n      <th>2</th>\n      <td>PAN53</td>\n      <td>1716</td>\n      <td>5070.0</td>\n      <td>141.25</td>\n      <td>112.0</td>\n      <td>36.0</td>\n      <td>1680.0</td>\n      <td>4958.0</td>\n    </tr>\n    <tr>\n      <th>3</th>\n      <td>UREA</td>\n      <td>2045</td>\n      <td>20425.5</td>\n      <td>47862.60</td>\n      <td>16837.0</td>\n      <td>1703.0</td>\n      <td>342.0</td>\n      <td>3588.5</td>\n    </tr>\n    <tr>\n      <th>4</th>\n      <td>WH403</td>\n      <td>1</td>\n      <td>2.0</td>\n      <td>NaN</td>\n      <td>NaN</td>\n      <td>NaN</td>\n      <td>NaN</td>\n      <td>NaN</td>\n    </tr>\n  </tbody>\n</table>\n</div>"
     },
     "metadata": {},
     "execution_count": 106
    }
   ],
   "source": [
    " MOPAvsIDS = pd.merge(SectorSummary,SummaryMOPA,on='Product',how='outer')\n",
    " MOPAvsIDS['Difference In #Clients'] = MOPAvsIDS['#Clients_x'] - MOPAvsIDS['#Clients_y']\n",
    " MOPAvsIDS['Difference In qty'] = MOPAvsIDS['Quantity'] - MOPAvsIDS['Paid_qty']\n",
    " MOPAvsIDS"
   ]
  },
  {
   "source": [
    "CLIENT LEVEL CHECK"
   ],
   "cell_type": "markdown",
   "metadata": {}
  },
  {
   "cell_type": "code",
   "execution_count": 107,
   "metadata": {},
   "outputs": [],
   "source": [
    "MOPAInputsTxns = MOPA[['Name', 'Surname', 'NationalID','Product','Paid_qty','ProductID']]\n",
    "IDSvsMOPA_Clients = pd.merge(IDSInputsTxns,MOPAInputsTxns,on='ProductID', how='left')\n",
    "IDSvsMOPA_Clients['Match'] = IDSvsMOPA_Clients['Quantity'] == IDSvsMOPA_Clients['Paid_qty']\n",
    "IDSvsMOPA_Clients.to_excel('IDSVSMOPA.xlsx')"
   ]
  },
  {
   "cell_type": "code",
   "execution_count": 108,
   "metadata": {},
   "outputs": [],
   "source": [
    "#clients\n",
    "TotalClientsOnMOPA_IDS = IDSvsMOPA_Clients['OAFID'].nunique()\n",
    "\n",
    "#Transactions\n",
    "MatchingTxn = IDSvsMOPA_Clients[IDSvsMOPA_Clients['Match']==True]['OAFID'].count()\n",
    "NotMatchingTXn = IDSvsMOPA_Clients[IDSvsMOPA_Clients['Match']==False]['OAFID'].count()\n",
    "OnIDSNotInMOPA = IDSvsMOPA_Clients[IDSvsMOPA_Clients['Paid_qty'].isna()]"
   ]
  },
  {
   "cell_type": "code",
   "execution_count": 110,
   "metadata": {
    "tags": []
   },
   "outputs": [
    {
     "output_type": "stream",
     "name": "stdout",
     "text": "Total clients on IDS: 2191\nTotal clients in MOPA: 1743\nTotal clients on IDS_MOPA df: 2079\nTotal Txn on IDS: 6107\nTotal Txn in MOPA: 3666\nTotal Txn IDS match MOPA: 2147\nTotal Txn IDS dont match MOPA: 3960\n"
    }
   ],
   "source": [
    "#Print clients\n",
    "print('Total clients on IDS:',TotalIDSClients)\n",
    "print('Total clients in MOPA:',TotalMOPAClients)\n",
    "print('Total clients on IDS_MOPA df:',TotalClientsOnMOPA_IDS )\n",
    "\n",
    "\n",
    "#Transactions\n",
    "print('Total Txn on IDS:',IDSTotalTxn)\n",
    "print('Total Txn in MOPA:',TotalMOPATxn)\n",
    "print('Total Txn IDS match MOPA:',MatchingTxn)\n",
    "print('Total Txn IDS dont match MOPA:',NotMatchingTXn)"
   ]
  },
  {
   "cell_type": "code",
   "execution_count": null,
   "metadata": {},
   "outputs": [],
   "source": []
  }
 ],
 "metadata": {
  "kernelspec": {
   "display_name": "Python 3.8.4 32-bit",
   "language": "python",
   "name": "python_defaultSpec_1600844272891"
  },
  "language_info": {
   "codemirror_mode": {
    "name": "ipython",
    "version": 3
   },
   "file_extension": ".py",
   "mimetype": "text/x-python",
   "name": "python",
   "nbconvert_exporter": "python",
   "pygments_lexer": "ipython3",
   "version": "3.8.4-final"
  }
 },
 "nbformat": 4,
 "nbformat_minor": 4
}