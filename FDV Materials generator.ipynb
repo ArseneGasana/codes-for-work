{
 "cells": [
  {
   "cell_type": "code",
   "execution_count": 1,
   "metadata": {},
   "outputs": [],
   "source": [
    "import pandas as pd\n",
    "import os\n",
    "from datetime import datetime\n",
    "version = '1_0'"
   ]
  },
  {
   "cell_type": "code",
   "execution_count": 2,
   "metadata": {},
   "outputs": [],
   "source": [
    "main_dir = (r'C:\\Users\\user\\Desktop\\Investigation data generation')\n",
    "os.chdir(main_dir)\n",
    "time = datetime.now()\n",
    "datestring_for_file = '%04d%02d%02d%02d%02d%02d' % (time.year, time.month, time.day, time.hour,time.minute, time.second)\n"
   ]
  },
  {
   "cell_type": "code",
   "execution_count": 3,
   "metadata": {
    "scrolled": true
   },
   "outputs": [
    {
     "name": "stderr",
     "output_type": "stream",
     "text": [
      "C:\\Users\\user\\anaconda3\\lib\\site-packages\\IPython\\core\\interactiveshell.py:3063: DtypeWarning: Columns (4,6,11,29,32,33,34,35) have mixed types.Specify dtype option on import or set low_memory=False.\n",
      "  interactivity=interactivity, compiler=compiler, result=result)\n"
     ]
    }
   ],
   "source": [
    "SCdata = pd.read_csv(r'C:\\Users\\user\\Desktop\\Investigation data generation\\Season Clients Detailed_20200928-093633.csv')\n",
    "VRdata = pd.read_csv(r'C:\\Users\\user\\Desktop\\Investigation data generation\\Light_20200928-073312.csv')\n",
    "SCdata.insert(0, 'UID', SCdata['DistrictName']+'_'+SCdata['OAFID'].astype('str'))\n",
    "VRdata.insert(0, 'UID', VRdata['District']+'_'+VRdata['OAFID'].astype('str'))\n",
    "ListOfSitesUID = ['Nyamagabe_Nkumbure B','Nyagatare_Mahoro','Gatsibo_Nyabisindu A']"
   ]
  },
  {
   "cell_type": "code",
   "execution_count": 22,
   "metadata": {},
   "outputs": [],
   "source": [
    "SCdata['SiteID'] = SCdata['DistrictName']+'_'+SCdata['SiteName']\n",
    "VRdata['SiteID'] = VRdata['District']+'_'+VRdata['Site']\n",
    "inputsdf = SCdata.drop(['SeasonName', 'RegionName', 'DistrictName', 'SectorName','FieldManager', 'SiteName','FieldOfficer', 'GroupName', 'LastName','FirstName', 'OAFID', 'NationalID', 'FirstSeasonDataEntry','FieldOfficerPayrollID', 'FieldManagerPayrollID', 'NewMember','TotalEnrolledSeasons', 'Facilitator', 'TotalCredit', 'TotalRepaid','RemainingCredit', '% Repaid', 'FirstRepayment', 'NbOfRepayments','LastRepayment', 'TotalRepaid_IncludingOverpayments', 'Dropped','Deceased', 'DataEntry', 'ClientPhone', 'AccountNumber','ValidationCode', 'GovLocationGrandParent', 'GovLocationParent','GovLocationChild', 'GovLocationGrandChild', 'SiteProjectCode','GlobalClientID', '2021A_CycleCredit', '2021B_CycleCredit'], axis=1)"
   ]
  },
  {
   "cell_type": "code",
   "execution_count": 30,
   "metadata": {},
   "outputs": [],
   "source": [
    "for site in ListOfSitesUID:\n",
    "    dir_name = '%s-%s-%s' % (site,version, datestring_for_file)\n",
    "    os.chdir(main_dir)\n",
    "    os.mkdir(dir_name)\n",
    "    os.chdir(main_dir +'\\\\'+ dir_name)\n",
    "    identity = SCdata[SCdata['SiteID']==site][['UID', 'RegionName','DistrictName','SiteName','FieldOfficer','GroupName','LastName', 'FirstName', 'OAFID','NationalID', 'NewMember','Facilitator','TotalCredit','TotalRepaid', 'RemainingCredit','% Repaid','FirstRepayment', 'NbOfRepayments','LastRepayment', 'TotalRepaid_IncludingOverpayments','ClientPhone', 'AccountNumber']]\n",
    "    identity = SCdata[SCdata['SiteID']==site][['UID', 'RegionName','DistrictName','SiteName','FieldOfficer','GroupName','LastName', 'FirstName', 'OAFID','NationalID', 'NewMember','Facilitator','TotalCredit','TotalRepaid', 'RemainingCredit','% Repaid','FirstRepayment', 'NbOfRepayments','LastRepayment', 'TotalRepaid_IncludingOverpayments','ClientPhone', 'AccountNumber']]\n",
    "    inputs = inputsdf[inputsdf['SiteID']==site]\n",
    "    inputs=inputs.drop(['SiteID'], axis=1)\n",
    "    repayment = VRdata[VRdata['SiteID']==site][['UID','District','Site', 'Group','LastName', 'FirstName', 'OAFID','Amount', 'ReceiptID', 'Type','RepaymentDate']]\n",
    "    inputs.index.names = ['ID']\n",
    "    repayment.index.names = ['ID']\n",
    "    save_name= site +'.xlsx'\n",
    "    identity.to_excel('identity'+ save_name, index=False)\n",
    "    inputs.to_excel('inputs'+ save_name)\n",
    "    repayment.to_excel('Repayment'+save_name)\n",
    "    save_name= site +'.xlsx'\n",
    "    identity.to_excel('identity'+ save_name, index=False)"
   ]
  },
  {
   "cell_type": "code",
   "execution_count": null,
   "metadata": {},
   "outputs": [],
   "source": [
    "   "
   ]
  },
  {
   "cell_type": "code",
   "execution_count": null,
   "metadata": {},
   "outputs": [],
   "source": []
  }
 ],
 "metadata": {
  "kernelspec": {
   "display_name": "Python 3",
   "language": "python",
   "name": "python3"
  },
  "language_info": {
   "codemirror_mode": {
    "name": "ipython",
    "version": 3
   },
   "file_extension": ".py",
   "mimetype": "text/x-python",
   "name": "python",
   "nbconvert_exporter": "python",
   "pygments_lexer": "ipython3",
   "version": "3.7.6"
  }
 },
 "nbformat": 4,
 "nbformat_minor": 4
}
