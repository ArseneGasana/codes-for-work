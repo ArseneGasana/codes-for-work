{
 "cells": [
  {
   "cell_type": "code",
   "execution_count": 1,
   "metadata": {},
   "outputs": [],
   "source": [
    "import pandas as pd\n",
    "import os\n",
    "from datetime import datetime\n",
    "version = '1_0'"
   ]
  },
  {
   "cell_type": "code",
   "execution_count": 3,
   "metadata": {},
   "outputs": [],
   "source": [
    "main_dir = (r'C:\\Users\\user\\Desktop\\My docs\\FDV\\Investigation data generation\\OUTPUT')\n",
    "os.chdir(main_dir)\n",
    "time = datetime.now()\n",
    "datestring_for_file = '%04d%02d%02d%02d%02d%02d' % (time.year, time.month, time.day, time.hour,time.minute, time.second)\n"
   ]
  },
  {
   "cell_type": "code",
   "execution_count": 4,
   "metadata": {
    "scrolled": true
   },
   "outputs": [],
   "source": [
    "SCdata = pd.read_excel(r'C:\\Users\\user\\Desktop\\season client.xlsx')\n",
    "VRdata = pd.read_excel(r'C:\\Users\\user\\Desktop\\Book1.xlsx')\n",
    "SCdata.insert(0, 'UID', SCdata['DistrictName']+'_'+SCdata['OAFID'].astype('str'))\n",
    "VRdata.insert(0, 'UID', VRdata['District']+'_'+VRdata['OAFID'].astype('str'))"
   ]
  },
  {
   "cell_type": "code",
   "execution_count": 5,
   "metadata": {},
   "outputs": [],
   "source": [
    "SCdata['SiteID'] = SCdata['DistrictName']+'_'+SCdata['SiteName']\n",
    "VRdata['SiteID'] = VRdata['District']+'_'+VRdata['Site']\n",
    "inputsdf = SCdata.drop(['SeasonName', 'RegionName', 'DistrictName', 'SectorName','FieldManager', 'SiteName','FieldOfficer', 'GroupName', 'LastName','FirstName', 'OAFID', 'NationalID', 'FirstSeasonDataEntry','FieldOfficerPayrollID', 'FieldManagerPayrollID', 'NewMember','TotalEnrolledSeasons', 'Facilitator', 'TotalCredit', 'TotalRepaid','RemainingCredit', '% Repaid', 'FirstRepayment', 'NbOfRepayments','LastRepayment', 'TotalRepaid_IncludingOverpayments', 'Dropped','Deceased', 'DataEntry', 'ClientPhone', 'AccountNumber','ValidationCode', 'GovLocationGrandParent', 'GovLocationParent','GovLocationChild', 'GovLocationGrandChild', 'SiteProjectCode','GlobalClientID', '2021A_CycleCredit', '2021B_CycleCredit'], axis=1)"
   ]
  },
  {
   "cell_type": "code",
   "execution_count": null,
   "metadata": {},
   "outputs": [],
   "source": []
  },
  {
   "cell_type": "code",
   "execution_count": 6,
   "metadata": {},
   "outputs": [
    {
     "output_type": "error",
     "ename": "KeyError",
     "evalue": "\"The following 'value_vars' are not present in the DataFrame: ['2019A_19A SHS W_Discount qty', '2019B_19B SHS W_Discount qty', '2019B_SHS-19B qty', '2020B_B_Chickens Top-up_Trial qty', '2021A_Avoka qty', '2021A_DLight S200 qty', '2021A_DLight S200_Trial qty', '2021A_GL Agent Trial qty', '2021A_GLP Pico Trial qty', '2021A_GLP Pico qty', '2021A_Inkoko Confirmation qty', '2021A_Inkoko qty', '2021A_Maize kg', '2021A_Niwa 300XL Trial qty', '2021A_Niwa 300XL qty', '2021A_Tecno qty', '2021A_avocado cash sale_21A qty']\"",
     "traceback": [
      "\u001b[1;31m---------------------------------------------------------------------------\u001b[0m",
      "\u001b[1;31mKeyError\u001b[0m                                  Traceback (most recent call last)",
      "\u001b[1;32m<ipython-input-6-1f7e09d3e197>\u001b[0m in \u001b[0;36m<module>\u001b[1;34m\u001b[0m\n\u001b[1;32m----> 1\u001b[1;33m x=inputsdf.melt(['UID','SiteID'],['2019A_19A SHS W_Discount qty', '2019B_19B SHS W_Discount qty',\n\u001b[0m\u001b[0;32m      2\u001b[0m        \u001b[1;34m'2019B_SHS-19B qty'\u001b[0m\u001b[1;33m,\u001b[0m \u001b[1;34m'2020A_20A SHS W_Discount qty'\u001b[0m\u001b[1;33m,\u001b[0m\u001b[1;33m\u001b[0m\u001b[1;33m\u001b[0m\u001b[0m\n\u001b[0;32m      3\u001b[0m        \u001b[1;34m'2020A_SHS-20A qty'\u001b[0m\u001b[1;33m,\u001b[0m \u001b[1;34m'2020B_B_Chickens Top-up_Trial qty'\u001b[0m\u001b[1;33m,\u001b[0m\u001b[1;33m\u001b[0m\u001b[1;33m\u001b[0m\u001b[0m\n\u001b[0;32m      4\u001b[0m        \u001b[1;34m'2021A_avocado cash sale_21A qty'\u001b[0m\u001b[1;33m,\u001b[0m \u001b[1;34m'2021A_Avoka qty'\u001b[0m\u001b[1;33m,\u001b[0m\u001b[1;33m\u001b[0m\u001b[1;33m\u001b[0m\u001b[0m\n\u001b[0;32m      5\u001b[0m        \u001b[1;34m'2021A_Biolite SHS qty'\u001b[0m\u001b[1;33m,\u001b[0m \u001b[1;34m'2021A_DAP kg'\u001b[0m\u001b[1;33m,\u001b[0m \u001b[1;34m'2021A_DLight S200 qty'\u001b[0m\u001b[1;33m,\u001b[0m\u001b[1;33m\u001b[0m\u001b[1;33m\u001b[0m\u001b[0m\n",
      "\u001b[1;32m~\\AppData\\Local\\Programs\\Python\\Python38-32\\lib\\site-packages\\pandas\\core\\frame.py\u001b[0m in \u001b[0;36mmelt\u001b[1;34m(self, id_vars, value_vars, var_name, value_name, col_level)\u001b[0m\n\u001b[0;32m   6498\u001b[0m         \u001b[1;32mfrom\u001b[0m \u001b[0mpandas\u001b[0m\u001b[1;33m.\u001b[0m\u001b[0mcore\u001b[0m\u001b[1;33m.\u001b[0m\u001b[0mreshape\u001b[0m\u001b[1;33m.\u001b[0m\u001b[0mmelt\u001b[0m \u001b[1;32mimport\u001b[0m \u001b[0mmelt\u001b[0m\u001b[1;33m\u001b[0m\u001b[1;33m\u001b[0m\u001b[0m\n\u001b[0;32m   6499\u001b[0m \u001b[1;33m\u001b[0m\u001b[0m\n\u001b[1;32m-> 6500\u001b[1;33m         return melt(\n\u001b[0m\u001b[0;32m   6501\u001b[0m             \u001b[0mself\u001b[0m\u001b[1;33m,\u001b[0m\u001b[1;33m\u001b[0m\u001b[1;33m\u001b[0m\u001b[0m\n\u001b[0;32m   6502\u001b[0m             \u001b[0mid_vars\u001b[0m\u001b[1;33m=\u001b[0m\u001b[0mid_vars\u001b[0m\u001b[1;33m,\u001b[0m\u001b[1;33m\u001b[0m\u001b[1;33m\u001b[0m\u001b[0m\n",
      "\u001b[1;32m~\\AppData\\Local\\Programs\\Python\\Python38-32\\lib\\site-packages\\pandas\\core\\reshape\\melt.py\u001b[0m in \u001b[0;36mmelt\u001b[1;34m(frame, id_vars, value_vars, var_name, value_name, col_level)\u001b[0m\n\u001b[0;32m     73\u001b[0m             \u001b[0mmissing\u001b[0m \u001b[1;33m=\u001b[0m \u001b[0mIndex\u001b[0m\u001b[1;33m(\u001b[0m\u001b[0mcom\u001b[0m\u001b[1;33m.\u001b[0m\u001b[0mflatten\u001b[0m\u001b[1;33m(\u001b[0m\u001b[0mvalue_vars\u001b[0m\u001b[1;33m)\u001b[0m\u001b[1;33m)\u001b[0m\u001b[1;33m.\u001b[0m\u001b[0mdifference\u001b[0m\u001b[1;33m(\u001b[0m\u001b[0mcols\u001b[0m\u001b[1;33m)\u001b[0m\u001b[1;33m\u001b[0m\u001b[1;33m\u001b[0m\u001b[0m\n\u001b[0;32m     74\u001b[0m             \u001b[1;32mif\u001b[0m \u001b[1;32mnot\u001b[0m \u001b[0mmissing\u001b[0m\u001b[1;33m.\u001b[0m\u001b[0mempty\u001b[0m\u001b[1;33m:\u001b[0m\u001b[1;33m\u001b[0m\u001b[1;33m\u001b[0m\u001b[0m\n\u001b[1;32m---> 75\u001b[1;33m                 raise KeyError(\n\u001b[0m\u001b[0;32m     76\u001b[0m                     \u001b[1;34m\"The following 'value_vars' are not present in \"\u001b[0m\u001b[1;33m\u001b[0m\u001b[1;33m\u001b[0m\u001b[0m\n\u001b[0;32m     77\u001b[0m                     \u001b[1;34m\"the DataFrame: {missing}\"\u001b[0m\u001b[1;33m\u001b[0m\u001b[1;33m\u001b[0m\u001b[0m\n",
      "\u001b[1;31mKeyError\u001b[0m: \"The following 'value_vars' are not present in the DataFrame: ['2019A_19A SHS W_Discount qty', '2019B_19B SHS W_Discount qty', '2019B_SHS-19B qty', '2020B_B_Chickens Top-up_Trial qty', '2021A_Avoka qty', '2021A_DLight S200 qty', '2021A_DLight S200_Trial qty', '2021A_GL Agent Trial qty', '2021A_GLP Pico Trial qty', '2021A_GLP Pico qty', '2021A_Inkoko Confirmation qty', '2021A_Inkoko qty', '2021A_Maize kg', '2021A_Niwa 300XL Trial qty', '2021A_Niwa 300XL qty', '2021A_Tecno qty', '2021A_avocado cash sale_21A qty']\""
     ]
    }
   ],
   "source": [
    "x=inputsdf.melt(['UID','SiteID'],['2019A_19A SHS W_Discount qty', '2019B_19B SHS W_Discount qty',\n",
    "       '2019B_SHS-19B qty', '2020A_20A SHS W_Discount qty',\n",
    "       '2020A_SHS-20A qty', '2020B_B_Chickens Top-up_Trial qty',\n",
    "       '2021A_avocado cash sale_21A qty', '2021A_Avoka qty',\n",
    "       '2021A_Biolite SHS qty', '2021A_DAP kg', '2021A_DLight S200 qty',\n",
    "       '2021A_DLight S200_Trial qty', '2021A_GL Agent Trial qty',\n",
    "       '2021A_GLP Pico qty', '2021A_GLP Pico Trial qty',\n",
    "       '2021A_GLP SKP 200 qty', '2021A_Inkoko qty',\n",
    "       '2021A_Inkoko Confirmation qty', '2021A_KAR qty', '2021A_Maize kg',\n",
    "       '2021A_Niwa 300XL qty', '2021A_Niwa 300XL Trial qty', '2021A_NPK 17 kg',\n",
    "       '2021A_Pan 53 kg', '2021A_Pan 691 kg', '2021A_PICS 100 Kg_Trial qty',\n",
    "       '2021A_PICS 50 Kg _Trial qty', '2021A_PICS100KG qty',\n",
    "       '2021A_PICS50KG qty', '2021A_POV qty', '2021A_SC 403 kg',\n",
    "       '2021A_SC 637 kg', '2021A_SHU qty', '2021A_Tecno qty', '2021A_TOM qty',\n",
    "       '2021A_Travertine kg', '2021A_TUN qty', '2021A_UREA kg',\n",
    "       '2021A_WH 403 kg', '2021A_WH 505 kg', '2021A_WH 605 kg'],'Input','Quantity')\n",
    "Finalinputdf = x[x['Quantity']>0].sort_values(by='UID')"
   ]
  },
  {
   "cell_type": "code",
   "execution_count": 7,
   "metadata": {},
   "outputs": [
    {
     "data": {
      "text/html": [
       "<div>\n",
       "<style scoped>\n",
       "    .dataframe tbody tr th:only-of-type {\n",
       "        vertical-align: middle;\n",
       "    }\n",
       "\n",
       "    .dataframe tbody tr th {\n",
       "        vertical-align: top;\n",
       "    }\n",
       "\n",
       "    .dataframe thead th {\n",
       "        text-align: right;\n",
       "    }\n",
       "</style>\n",
       "<table border=\"1\" class=\"dataframe\">\n",
       "  <thead>\n",
       "    <tr style=\"text-align: right;\">\n",
       "      <th></th>\n",
       "      <th>UID</th>\n",
       "      <th>SiteID</th>\n",
       "      <th>Input</th>\n",
       "      <th>Quantity</th>\n",
       "    </tr>\n",
       "  </thead>\n",
       "  <tbody>\n",
       "    <tr>\n",
       "      <th>26861623</th>\n",
       "      <td>Bugarama_-1001000001</td>\n",
       "      <td>Bugarama_Cyarukara</td>\n",
       "      <td>2021A_UREA kg</td>\n",
       "      <td>5.0</td>\n",
       "    </tr>\n",
       "    <tr>\n",
       "      <th>6874075</th>\n",
       "      <td>Bugarama_-1001000001</td>\n",
       "      <td>Bugarama_Cyarukara</td>\n",
       "      <td>2021A_DAP kg</td>\n",
       "      <td>5.0</td>\n",
       "    </tr>\n",
       "    <tr>\n",
       "      <th>11870962</th>\n",
       "      <td>Bugarama_-1001000001</td>\n",
       "      <td>Bugarama_Cyarukara</td>\n",
       "      <td>2021A_Inkoko qty</td>\n",
       "      <td>2.0</td>\n",
       "    </tr>\n",
       "    <tr>\n",
       "      <th>11157403</th>\n",
       "      <td>Bugarama_-1001000002</td>\n",
       "      <td>Bugarama_Cyarukara</td>\n",
       "      <td>2021A_GLP SKP 200 qty</td>\n",
       "      <td>1.0</td>\n",
       "    </tr>\n",
       "    <tr>\n",
       "      <th>19009649</th>\n",
       "      <td>Bugarama_-1001000003</td>\n",
       "      <td>Bugarama_Cyarukara</td>\n",
       "      <td>2021A_PICS 50 Kg _Trial qty</td>\n",
       "      <td>1.0</td>\n",
       "    </tr>\n",
       "  </tbody>\n",
       "</table>\n",
       "</div>"
      ],
      "text/plain": [
       "                           UID              SiteID  \\\n",
       "26861623  Bugarama_-1001000001  Bugarama_Cyarukara   \n",
       "6874075   Bugarama_-1001000001  Bugarama_Cyarukara   \n",
       "11870962  Bugarama_-1001000001  Bugarama_Cyarukara   \n",
       "11157403  Bugarama_-1001000002  Bugarama_Cyarukara   \n",
       "19009649  Bugarama_-1001000003  Bugarama_Cyarukara   \n",
       "\n",
       "                                Input  Quantity  \n",
       "26861623                2021A_UREA kg       5.0  \n",
       "6874075                  2021A_DAP kg       5.0  \n",
       "11870962             2021A_Inkoko qty       2.0  \n",
       "11157403        2021A_GLP SKP 200 qty       1.0  \n",
       "19009649  2021A_PICS 50 Kg _Trial qty       1.0  "
      ]
     },
     "execution_count": 7,
     "metadata": {},
     "output_type": "execute_result"
    }
   ],
   "source": [
    "Finalinputdf.head()"
   ]
  },
  {
   "cell_type": "code",
   "execution_count": null,
   "metadata": {},
   "outputs": [],
   "source": []
  },
  {
   "cell_type": "code",
   "execution_count": 8,
   "metadata": {},
   "outputs": [],
   "source": [
    "## THIS IS WHERE YOU NEED TO ADD THE SITES THAT ARE ON THE PLAN WITH THEIR DISTRICTS IN THE FORMAT SPECIFIED distric_site\n",
    "\n",
    "ListOfSitesUID = ['Bugesera_Biryogo']"
   ]
  },
  {
   "cell_type": "code",
   "execution_count": 9,
   "metadata": {},
   "outputs": [],
   "source": [
    "for site in ListOfSitesUID:\n",
    "    dir_name = '%s-%s-%s' % (site,version, datestring_for_file)\n",
    "    os.chdir(main_dir)\n",
    "    os.mkdir(dir_name)\n",
    "    os.chdir(main_dir +'\\\\'+ dir_name)\n",
    "    identity = SCdata[SCdata['SiteID']==site][['UID', 'RegionName','DistrictName','SiteName','FieldOfficer','GroupName','LastName', 'FirstName', 'OAFID','NationalID', 'NewMember','Facilitator','TotalCredit','TotalRepaid', 'RemainingCredit','% Repaid','FirstRepayment', 'NbOfRepayments','LastRepayment', 'TotalRepaid_IncludingOverpayments','ClientPhone', 'AccountNumber']]\n",
    "    identity = SCdata[SCdata['SiteID']==site][['UID', 'RegionName','DistrictName','SiteName','FieldOfficer','GroupName','LastName', 'FirstName', 'OAFID','NationalID', 'NewMember','Facilitator','TotalCredit','TotalRepaid', 'RemainingCredit','% Repaid','FirstRepayment', 'NbOfRepayments','LastRepayment', 'TotalRepaid_IncludingOverpayments','ClientPhone', 'AccountNumber']]\n",
    "    inputs = Finalinputdf[Finalinputdf['SiteID']==site]\n",
    "    inputs=inputs.drop(['SiteID'], axis=1)\n",
    "    repayment = VRdata[VRdata['SiteID']==site][['UID','District','Site', 'Group','LastName', 'FirstName', 'OAFID','Amount', 'ReceiptID', 'Type','RepaymentDate']]\n",
    "    inputs.index.names = ['ID']\n",
    "    repayment.index.names = ['ID']\n",
    "    save_name= site +'.xlsx'\n",
    "    identity.to_excel('identity'+ save_name, index=False)\n",
    "    inputs.to_excel('inputs'+ save_name)\n",
    "    repayment.to_excel('Repayment'+save_name)\n",
    "    save_name= site +'.xlsx'\n",
    "    identity.to_excel('identity'+ save_name, index=False)"
   ]
  },
  {
   "cell_type": "code",
   "execution_count": null,
   "metadata": {},
   "outputs": [],
   "source": []
  },
  {
   "cell_type": "code",
   "execution_count": null,
   "metadata": {},
   "outputs": [],
   "source": []
  },
  {
   "cell_type": "code",
   "execution_count": null,
   "metadata": {},
   "outputs": [],
   "source": []
  }
 ],
 "metadata": {
  "kernelspec": {
   "name": "Python 3.8.4 32-bit",
   "display_name": "Python 3.8.4 32-bit",
   "metadata": {
    "interpreter": {
     "hash": "7987c57931f2365761dc2a5f85e647decf73af6edff0c78918b92bfe7c5512ba"
    }
   }
  },
  "language_info": {
   "codemirror_mode": {
    "name": "ipython",
    "version": 3
   },
   "file_extension": ".py",
   "mimetype": "text/x-python",
   "name": "python",
   "nbconvert_exporter": "python",
   "pygments_lexer": "ipython3",
   "version": "3.8.4-final"
  }
 },
 "nbformat": 4,
 "nbformat_minor": 4
}