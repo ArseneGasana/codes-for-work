{
 "metadata": {
  "language_info": {
   "codemirror_mode": {
    "name": "ipython",
    "version": 3
   },
   "file_extension": ".py",
   "mimetype": "text/x-python",
   "name": "python",
   "nbconvert_exporter": "python",
   "pygments_lexer": "ipython3",
   "version": "3.8.4-final"
  },
  "orig_nbformat": 2,
  "kernelspec": {
   "name": "Python 3.8.4 32-bit",
   "display_name": "Python 3.8.4 32-bit",
   "metadata": {
    "interpreter": {
     "hash": "7987c57931f2365761dc2a5f85e647decf73af6edff0c78918b92bfe7c5512ba"
    }
   }
  }
 },
 "nbformat": 4,
 "nbformat_minor": 2,
 "cells": [
  {
   "cell_type": "code",
   "execution_count": 1,
   "metadata": {},
   "outputs": [],
   "source": [
    "import pandas as pd \n",
    "from datetime import date"
   ]
  },
  {
   "cell_type": "code",
   "execution_count": 7,
   "metadata": {},
   "outputs": [],
   "source": [
    "today = date.today()\n",
    "date = today.strftime(\"%d/%m/%Y\")"
   ]
  },
  {
   "cell_type": "code",
   "execution_count": 8,
   "metadata": {},
   "outputs": [
    {
     "output_type": "execute_result",
     "data": {
      "text/plain": [
       "'11/11/2020'"
      ]
     },
     "metadata": {},
     "execution_count": 8
    }
   ],
   "source": [
    "date"
   ]
  },
  {
   "cell_type": "code",
   "execution_count": 9,
   "metadata": {},
   "outputs": [],
   "source": [
    "data = pd.read_excel(r'C:\\Users\\user\\Desktop\\Bug vertical repayment.xlsx')"
   ]
  },
  {
   "cell_type": "code",
   "execution_count": 10,
   "metadata": {},
   "outputs": [],
   "source": [
    "data['Generated on'] = date"
   ]
  },
  {
   "cell_type": "code",
   "execution_count": 11,
   "metadata": {},
   "outputs": [
    {
     "output_type": "execute_result",
     "data": {
      "text/plain": [
       "   District  Sector          Site       Group SiteAtTimeOfRepayment  \\\n",
       "0  Bugesera  Ruhuha  Gikundamvura  TUZAMURANE          Gikundamvura   \n",
       "1  Bugesera  Ruhuha  Gikundamvura  TUZAMURANE          Gikundamvura   \n",
       "2  Bugesera  Ruhuha  Gikundamvura  TUZAMURANE          Gikundamvura   \n",
       "3  Bugesera  Ruhuha  Gikundamvura  TUZAMURANE          Gikundamvura   \n",
       "4  Bugesera  Ruhuha  Gikundamvura  TUZAMURANE          Gikundamvura   \n",
       "\n",
       "  GroupAtTimeOfRepayment      LastName  FirstName       OAFID  Dropped  ...  \\\n",
       "0             TUZAMURANE  NSIMBOYOBOYE     Noheri        6446    False  ...   \n",
       "1             TUZAMURANE  NSIMBOYOBOYE     Noheri        6446    False  ...   \n",
       "2             TUZAMURANE  NSIMBOYOBOYE     Noheri        6446    False  ...   \n",
       "3             TUZAMURANE  NSIMBOYOBOYE     Noheri        6446    False  ...   \n",
       "4             TUZAMURANE     Evarisiti  Uwihoreye -1013000022    False  ...   \n",
       "\n",
       "    ReceiptID         Type RepaymentDate        DataEntryDate  \\\n",
       "0  2830354163  MobileMoney    2020-07-25  2020-07-25 00:15:56   \n",
       "1  2852707891  MobileMoney    2020-07-29  2020-07-29 23:33:55   \n",
       "2  2857817110  MobileMoney    2020-07-31  2020-07-31 05:08:03   \n",
       "3  2875915268  MobileMoney    2020-08-03  2020-08-03 22:26:36   \n",
       "4  3087373923  MobileMoney    2020-09-20  2020-09-20 11:54:05   \n",
       "\n",
       "                         GlobalClientID RepaymentPhoneNumber  AccountNumber  \\\n",
       "0  728d4323-3d0c-ea11-86a8-9822ef6ea250          789271419.0       23022544   \n",
       "1  728d4323-3d0c-ea11-86a8-9822ef6ea250          789271419.0       23022544   \n",
       "2  728d4323-3d0c-ea11-86a8-9822ef6ea250          789271419.0       23022544   \n",
       "3  728d4323-3d0c-ea11-86a8-9822ef6ea250          789271419.0       23022544   \n",
       "4  24e23711-d43e-4e05-ad9c-c38618e8b624          789271419.0       27561024   \n",
       "\n",
       "   BulkUploaded  Autosaved  Generated on  \n",
       "0          True       True    11/11/2020  \n",
       "1          True       True    11/11/2020  \n",
       "2          True       True    11/11/2020  \n",
       "3          True       True    11/11/2020  \n",
       "4          True       True    11/11/2020  \n",
       "\n",
       "[5 rows x 21 columns]"
      ],
      "text/html": "<div>\n<style scoped>\n    .dataframe tbody tr th:only-of-type {\n        vertical-align: middle;\n    }\n\n    .dataframe tbody tr th {\n        vertical-align: top;\n    }\n\n    .dataframe thead th {\n        text-align: right;\n    }\n</style>\n<table border=\"1\" class=\"dataframe\">\n  <thead>\n    <tr style=\"text-align: right;\">\n      <th></th>\n      <th>District</th>\n      <th>Sector</th>\n      <th>Site</th>\n      <th>Group</th>\n      <th>SiteAtTimeOfRepayment</th>\n      <th>GroupAtTimeOfRepayment</th>\n      <th>LastName</th>\n      <th>FirstName</th>\n      <th>OAFID</th>\n      <th>Dropped</th>\n      <th>...</th>\n      <th>ReceiptID</th>\n      <th>Type</th>\n      <th>RepaymentDate</th>\n      <th>DataEntryDate</th>\n      <th>GlobalClientID</th>\n      <th>RepaymentPhoneNumber</th>\n      <th>AccountNumber</th>\n      <th>BulkUploaded</th>\n      <th>Autosaved</th>\n      <th>Generated on</th>\n    </tr>\n  </thead>\n  <tbody>\n    <tr>\n      <th>0</th>\n      <td>Bugesera</td>\n      <td>Ruhuha</td>\n      <td>Gikundamvura</td>\n      <td>TUZAMURANE</td>\n      <td>Gikundamvura</td>\n      <td>TUZAMURANE</td>\n      <td>NSIMBOYOBOYE</td>\n      <td>Noheri</td>\n      <td>6446</td>\n      <td>False</td>\n      <td>...</td>\n      <td>2830354163</td>\n      <td>MobileMoney</td>\n      <td>2020-07-25</td>\n      <td>2020-07-25 00:15:56</td>\n      <td>728d4323-3d0c-ea11-86a8-9822ef6ea250</td>\n      <td>789271419.0</td>\n      <td>23022544</td>\n      <td>True</td>\n      <td>True</td>\n      <td>11/11/2020</td>\n    </tr>\n    <tr>\n      <th>1</th>\n      <td>Bugesera</td>\n      <td>Ruhuha</td>\n      <td>Gikundamvura</td>\n      <td>TUZAMURANE</td>\n      <td>Gikundamvura</td>\n      <td>TUZAMURANE</td>\n      <td>NSIMBOYOBOYE</td>\n      <td>Noheri</td>\n      <td>6446</td>\n      <td>False</td>\n      <td>...</td>\n      <td>2852707891</td>\n      <td>MobileMoney</td>\n      <td>2020-07-29</td>\n      <td>2020-07-29 23:33:55</td>\n      <td>728d4323-3d0c-ea11-86a8-9822ef6ea250</td>\n      <td>789271419.0</td>\n      <td>23022544</td>\n      <td>True</td>\n      <td>True</td>\n      <td>11/11/2020</td>\n    </tr>\n    <tr>\n      <th>2</th>\n      <td>Bugesera</td>\n      <td>Ruhuha</td>\n      <td>Gikundamvura</td>\n      <td>TUZAMURANE</td>\n      <td>Gikundamvura</td>\n      <td>TUZAMURANE</td>\n      <td>NSIMBOYOBOYE</td>\n      <td>Noheri</td>\n      <td>6446</td>\n      <td>False</td>\n      <td>...</td>\n      <td>2857817110</td>\n      <td>MobileMoney</td>\n      <td>2020-07-31</td>\n      <td>2020-07-31 05:08:03</td>\n      <td>728d4323-3d0c-ea11-86a8-9822ef6ea250</td>\n      <td>789271419.0</td>\n      <td>23022544</td>\n      <td>True</td>\n      <td>True</td>\n      <td>11/11/2020</td>\n    </tr>\n    <tr>\n      <th>3</th>\n      <td>Bugesera</td>\n      <td>Ruhuha</td>\n      <td>Gikundamvura</td>\n      <td>TUZAMURANE</td>\n      <td>Gikundamvura</td>\n      <td>TUZAMURANE</td>\n      <td>NSIMBOYOBOYE</td>\n      <td>Noheri</td>\n      <td>6446</td>\n      <td>False</td>\n      <td>...</td>\n      <td>2875915268</td>\n      <td>MobileMoney</td>\n      <td>2020-08-03</td>\n      <td>2020-08-03 22:26:36</td>\n      <td>728d4323-3d0c-ea11-86a8-9822ef6ea250</td>\n      <td>789271419.0</td>\n      <td>23022544</td>\n      <td>True</td>\n      <td>True</td>\n      <td>11/11/2020</td>\n    </tr>\n    <tr>\n      <th>4</th>\n      <td>Bugesera</td>\n      <td>Ruhuha</td>\n      <td>Gikundamvura</td>\n      <td>TUZAMURANE</td>\n      <td>Gikundamvura</td>\n      <td>TUZAMURANE</td>\n      <td>Evarisiti</td>\n      <td>Uwihoreye</td>\n      <td>-1013000022</td>\n      <td>False</td>\n      <td>...</td>\n      <td>3087373923</td>\n      <td>MobileMoney</td>\n      <td>2020-09-20</td>\n      <td>2020-09-20 11:54:05</td>\n      <td>24e23711-d43e-4e05-ad9c-c38618e8b624</td>\n      <td>789271419.0</td>\n      <td>27561024</td>\n      <td>True</td>\n      <td>True</td>\n      <td>11/11/2020</td>\n    </tr>\n  </tbody>\n</table>\n<p>5 rows × 21 columns</p>\n</div>"
     },
     "metadata": {},
     "execution_count": 11
    }
   ],
   "source": [
    "data.head(5)"
   ]
  },
  {
   "cell_type": "code",
   "execution_count": null,
   "metadata": {},
   "outputs": [],
   "source": []
  }
 ]
}