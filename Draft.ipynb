{
 "metadata": {
  "language_info": {
   "codemirror_mode": {
    "name": "ipython",
    "version": 3
   },
   "file_extension": ".py",
   "mimetype": "text/x-python",
   "name": "python",
   "nbconvert_exporter": "python",
   "pygments_lexer": "ipython3",
   "version": "3.8.4-final"
  },
  "orig_nbformat": 2,
  "kernelspec": {
   "name": "Python 3.8.4 32-bit",
   "display_name": "Python 3.8.4 32-bit",
   "metadata": {
    "interpreter": {
     "hash": "7987c57931f2365761dc2a5f85e647decf73af6edff0c78918b92bfe7c5512ba"
    }
   }
  }
 },
 "nbformat": 4,
 "nbformat_minor": 2,
 "cells": [
  {
   "cell_type": "code",
   "execution_count": 3,
   "metadata": {},
   "outputs": [],
   "source": [
    "import pandas as pd \n",
    "import xlsxwriter as xlt \n",
    "import os\n",
    "import numpy as np\n",
    "os.chdir(r'C:\\Users\\user\\Desktop\\MOPA Reconciliation\\Drafts')"
   ]
  },
  {
   "cell_type": "code",
   "execution_count": 5,
   "metadata": {},
   "outputs": [],
   "source": [
    "df = pd.read_excel(r'C:\\Users\\user\\Desktop\\MOPA Reconciliation\\Rwanda sectors.xlsx')\n"
   ]
  },
  {
   "cell_type": "code",
   "execution_count": 9,
   "metadata": {},
   "outputs": [],
   "source": [
    "GetDistrictList = np.unique(df['District'].values)\n",
    "for dist in GetDistrictList:\n",
    "    # = '%s-%s-%s' % (dist,version, datestring_for_file)\n",
    "    #os.chdir(main_dir)\n",
    "    #os.mkdir(dir_name)\n",
    "    #os.chdir(main_dir +'\\\\'+ dir_name)\n",
    "    DistrictDF = df.loc[df['District']==dist]\n",
    "    #site_list=np.unique(DistrictDF['UID'].values)\n",
    "\n",
    "    SaveName = dist + '.xlsx'\n",
    "\n",
    "    with pd.ExcelWriter(SaveName) as writer: \n",
    "        #for sector, data in DistrictDF.groupby('SectorID'):\n",
    "        for sector, data in DistrictDF['SectorID']\n",
    "            SheetName = sector.split('_')[1]\n",
    "            data.to_excel(writer, sheet_name = SheetName)"
   ]
  },
  {
   "cell_type": "code",
   "execution_count": 10,
   "metadata": {},
   "outputs": [],
   "source": [
    "data = DistrictDF['SectorID']"
   ]
  },
  {
   "cell_type": "code",
   "execution_count": 11,
   "metadata": {},
   "outputs": [
    {
     "output_type": "execute_result",
     "data": {
      "text/plain": "396        Rwamagana_Fumbwe\n397     Rwamagana_Gahengeri\n398       Rwamagana_Gishali\n399       Rwamagana_Karenge\n400      Rwamagana_Kigabiro\n401        Rwamagana_Muhazi\n402       Rwamagana_Munyaga\n403    Rwamagana_Munyiginya\n404         Rwamagana_Musha\n405       Rwamagana_Muyumbu\n406       Rwamagana_Mwulire\n407     Rwamagana_Nyakaliro\n408         Rwamagana_Nzige\n409        Rwamagana_Rubona\n410        Rwamagana_Rwanda\nName: SectorID, dtype: object"
     },
     "metadata": {},
     "execution_count": 11
    }
   ],
   "source": [
    "data"
   ]
  },
  {
   "cell_type": "code",
   "execution_count": null,
   "metadata": {},
   "outputs": [],
   "source": []
  }
 ]
}