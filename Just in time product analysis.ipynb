{
 "cells": [
  {
   "cell_type": "markdown",
   "metadata": {},
   "source": [
    "# Just in time products analysis, groups analysis"
   ]
  },
  {
   "cell_type": "code",
   "execution_count": 2,
   "metadata": {},
   "outputs": [],
   "source": [
    "import pandas as pd\n",
    "import os\n",
    "os.chdir(r'C:\\Users\\user\\Desktop\\Analysis\\JIT products analysis')"
   ]
  },
  {
   "cell_type": "code",
   "execution_count": 4,
   "metadata": {},
   "outputs": [],
   "source": [
    "data = pd.read_csv(r'C:\\Users\\user\\Desktop\\Analysis\\Maize allocation Qc\\Season Clients Detailed_20200814-012712.csv')"
   ]
  },
  {
   "cell_type": "code",
   "execution_count": 4,
   "metadata": {},
   "outputs": [
    {
     "name": "stdout",
     "output_type": "stream",
     "text": [
      "12568\n",
      "Both list are equal\n",
      "Wrong groups are: ['10', '2050', '2020', '2030', '20']\n"
     ]
    },
    {
     "name": "stderr",
     "output_type": "stream",
     "text": [
      "C:\\Users\\user\\anaconda3\\lib\\site-packages\\ipykernel_launcher.py:29: SettingWithCopyWarning: \n",
      "A value is trying to be set on a copy of a slice from a DataFrame.\n",
      "Try using .loc[row_indexer,col_indexer] = value instead\n",
      "\n",
      "See the caveats in the documentation: https://pandas.pydata.org/pandas-docs/stable/user_guide/indexing.html#returning-a-view-versus-a-copy\n"
     ]
    }
   ],
   "source": [
    "#list of groups\n",
    "def is_integer(n):\n",
    "    try:\n",
    "        float(n)\n",
    "    except ValueError:\n",
    "        return False\n",
    "    else:\n",
    "        return float(n).is_integer()\n",
    "\n",
    "ListOfGroups = []\n",
    "Groups = data['GroupName'].unique()\n",
    "for x in Groups:\n",
    "    ListOfGroups.append(x)\n",
    "print(len(ListOfGroups))\n",
    "\n",
    "if len(ListOfGroups)==len(data['GroupName'].unique()):\n",
    "    print('Both list are equal')\n",
    "else:\n",
    "    print('list are not equal')\n",
    "    \n",
    "ListOfWrongGroups = []\n",
    "for group in ListOfGroups:\n",
    "    if is_integer(group):\n",
    "        ListOfWrongGroups.append(group) \n",
    "print('Wrong groups are:',ListOfWrongGroups)\n",
    "\n",
    "DfWrongGroups_AllData = data[data['GroupName'].isin(ListOfWrongGroups)]\n",
    "DfWrongGroups_Groups = DfWrongGroups_AllData[['DistrictName','SiteName','GroupName']]\n",
    "DfWrongGroups_Groups['UID']=DfWrongGroups_Groups['DistrictName']+DfWrongGroups_Groups['SiteName']+DfWrongGroups_Groups['GroupName']\n",
    "DfWrongGroups_unique = DfWrongGroups_Groups.drop_duplicates(subset=['UID'])\n",
    "#DfWrongGroups_unique.to_excel('Groups with wrong names.xlsx')\n",
    "#DfWrongGroups_unique"
   ]
  },
  {
   "cell_type": "markdown",
   "metadata": {},
   "source": [
    "#### Check if JIT pics bags are in all groups"
   ]
  },
  {
   "cell_type": "code",
   "execution_count": 43,
   "metadata": {},
   "outputs": [
    {
     "name": "stdout",
     "output_type": "stream",
     "text": [
      "Number of groups without pics 100: 0\n",
      "Number of groups without pics 50: 0\n"
     ]
    }
   ],
   "source": [
    "#data['GroupUID'] = data['DistrictName']+data['SiteName']+data['GroupName']\n",
    "GroupsPicsQty = data.groupby('GroupUID')[['2021A_PICS 100 Kg_Trial qty','2021A_PICS 50 Kg _Trial qty']].sum().reset_index()\n",
    "GroupsPicsQtyWithoutPics100 = GroupsPicsQty[GroupsPicsQty['2021A_PICS 100 Kg_Trial qty']==0]\n",
    "GroupsPicsQtyWithoutPics50 =GroupsPicsQty[GroupsPicsQty['2021A_PICS 50 Kg _Trial qty']==0]\n",
    "TotalNumberOfGroups = GroupsPicsQty['GroupUID'].count()\n",
    "print ('Number of groups without pics 100:',len(GroupsPicsQtyWithoutPics100['GroupUID']))\n",
    "print ('Number of groups without pics 50:',len(GroupsPicsQtyWithoutPics50['GroupUID']))\n",
    "#GroupsPicsQtyWithoutPics100.to_excel('Groups without pics 100 bundles1.xlsx')\n",
    "#GroupsPicsQtyWithoutPics50.to_excel('Groups without pics 50 bundles.xlsx')\n",
    "\n",
    "#How many JIT bags in how many groups\n"
   ]
  },
  {
   "cell_type": "markdown",
   "metadata": {},
   "source": [
    "#### Check if  Niwa is in all groups in Nyaruguru and Nyabihu"
   ]
  },
  {
   "cell_type": "code",
   "execution_count": 44,
   "metadata": {},
   "outputs": [
    {
     "name": "stdout",
     "output_type": "stream",
     "text": [
      "Number of groups without Niwa trial: 0\n"
     ]
    }
   ],
   "source": [
    "NiwaDistricts = data[data['DistrictName'].isin(['Nyaruguru','Nyabihu'])]\n",
    "GroupsNiwaQty = NiwaDistricts.groupby('GroupUID')[['2021A_Niwa 300XL Trial qty']].sum().reset_index()\n",
    "GroupsWithoutNiwa = GroupsNiwaQty[GroupsNiwaQty['2021A_Niwa 300XL Trial qty']==0]\n",
    "print ('Number of groups without Niwa trial:',len(GroupsWithoutNiwa['GroupUID']))\n",
    "GroupsWithoutNiwa.to_excel('Groups without Niwa bundles.xlsx')"
   ]
  },
  {
   "cell_type": "markdown",
   "metadata": {},
   "source": [
    "#### Check if DLight 200 is in all groups in Gatsibo and Muhanga"
   ]
  },
  {
   "cell_type": "code",
   "execution_count": 45,
   "metadata": {},
   "outputs": [
    {
     "name": "stdout",
     "output_type": "stream",
     "text": [
      "Number of groups without Dlight: 0\n"
     ]
    }
   ],
   "source": [
    "DlightDistricts = data[data['DistrictName'].isin(['Gatsibo','Muhanga'])]\n",
    "GroupsDlightQty = DlightDistricts.groupby('GroupUID')[['2021A_DLight S200_Trial qty']].sum().reset_index()\n",
    "GroupsWithoutDlight = GroupsDlightQty[GroupsDlightQty['2021A_DLight S200_Trial qty']==0]\n",
    "print ('Number of groups without Dlight:',len(GroupsWithoutDlight['GroupUID']))\n",
    "GroupsWithoutDlight.to_excel('Groups without DLight 200 bundles.xlsx')"
   ]
  },
  {
   "cell_type": "markdown",
   "metadata": {},
   "source": [
    "#### Check if GLP pico is in all groups in Gatsibo and Muhanga¶"
   ]
  },
  {
   "cell_type": "code",
   "execution_count": 46,
   "metadata": {},
   "outputs": [
    {
     "name": "stdout",
     "output_type": "stream",
     "text": [
      "Number of groups without Pico: 0\n"
     ]
    }
   ],
   "source": [
    "PicoDistricts = data[data['DistrictName'].isin(['Kamonyi', 'Muhanga', 'Nyaruguru','Gatsibo', 'Nyagatare', 'Nyabihu'])]\n",
    "GroupsPicoQty = PicoDistricts.groupby('GroupUID')[['2021A_GLP Pico Trial qty']].sum().reset_index()\n",
    "GroupsWithoutPico = GroupsPicoQty[GroupsPicoQty['2021A_GLP Pico Trial qty']==0]\n",
    "print ('Number of groups without Pico:',len(GroupsWithoutPico['GroupUID']))\n",
    "GroupsWithoutPico.to_excel('Groups without GLP pico bundles.xlsx')"
   ]
  },
  {
   "cell_type": "code",
   "execution_count": null,
   "metadata": {},
   "outputs": [],
   "source": []
  },
  {
   "cell_type": "markdown",
   "metadata": {},
   "source": [
    "#### Check if maize are well allocated in roster"
   ]
  },
  {
   "cell_type": "code",
   "execution_count": null,
   "metadata": {},
   "outputs": [],
   "source": []
  },
  {
   "cell_type": "markdown",
   "metadata": {},
   "source": [
    "#### Check if allocated maize variety is the one in roster"
   ]
  },
  {
   "cell_type": "code",
   "execution_count": 78,
   "metadata": {},
   "outputs": [
    {
     "name": "stderr",
     "output_type": "stream",
     "text": [
      "C:\\Users\\user\\anaconda3\\lib\\site-packages\\ipykernel_launcher.py:3: SettingWithCopyWarning: \n",
      "A value is trying to be set on a copy of a slice from a DataFrame.\n",
      "Try using .loc[row_indexer,col_indexer] = value instead\n",
      "\n",
      "See the caveats in the documentation: https://pandas.pydata.org/pandas-docs/stable/user_guide/indexing.html#returning-a-view-versus-a-copy\n",
      "  This is separate from the ipykernel package so we can avoid doing imports until\n",
      "C:\\Users\\user\\anaconda3\\lib\\site-packages\\ipykernel_launcher.py:4: SettingWithCopyWarning: \n",
      "A value is trying to be set on a copy of a slice from a DataFrame.\n",
      "Try using .loc[row_indexer,col_indexer] = value instead\n",
      "\n",
      "See the caveats in the documentation: https://pandas.pydata.org/pandas-docs/stable/user_guide/indexing.html#returning-a-view-versus-a-copy\n",
      "  after removing the cwd from sys.path.\n"
     ]
    },
    {
     "data": {
      "text/html": [
       "<div>\n",
       "<style scoped>\n",
       "    .dataframe tbody tr th:only-of-type {\n",
       "        vertical-align: middle;\n",
       "    }\n",
       "\n",
       "    .dataframe tbody tr th {\n",
       "        vertical-align: top;\n",
       "    }\n",
       "\n",
       "    .dataframe thead th {\n",
       "        text-align: right;\n",
       "    }\n",
       "</style>\n",
       "<table border=\"1\" class=\"dataframe\">\n",
       "  <thead>\n",
       "    <tr style=\"text-align: right;\">\n",
       "      <th></th>\n",
       "      <th>TUBURA District</th>\n",
       "      <th>TUBURA Site</th>\n",
       "      <th>Roster quantity</th>\n",
       "      <th>Actual Ordered June 20 (KG)</th>\n",
       "      <th>Roster Variety Name</th>\n",
       "      <th>Allocated variety</th>\n",
       "      <th>Difference in qty</th>\n",
       "      <th>Difference in variety</th>\n",
       "    </tr>\n",
       "  </thead>\n",
       "  <tbody>\n",
       "    <tr>\n",
       "      <th>204</th>\n",
       "      <td>NaN</td>\n",
       "      <td>NaN</td>\n",
       "      <td>10.0</td>\n",
       "      <td>NaN</td>\n",
       "      <td>SC403</td>\n",
       "      <td>NaN</td>\n",
       "      <td>NaN</td>\n",
       "      <td>False</td>\n",
       "    </tr>\n",
       "  </tbody>\n",
       "</table>\n",
       "</div>"
      ],
      "text/plain": [
       "    TUBURA District TUBURA Site  Roster quantity  Actual Ordered June 20 (KG)  \\\n",
       "204             NaN         NaN             10.0                          NaN   \n",
       "\n",
       "    Roster Variety Name Allocated variety  Difference in qty  \\\n",
       "204               SC403               NaN                NaN   \n",
       "\n",
       "     Difference in variety  \n",
       "204                  False  "
      ]
     },
     "execution_count": 78,
     "metadata": {},
     "output_type": "execute_result"
    }
   ],
   "source": [
    "MaizeVarietyComparisonDf = BothAllocations[['TUBURA District','TUBURA Site','Roster quantity','Actual Ordered June 20 (KG)','Roster Variety Name','Allocated variety']]\n",
    "\n",
    "MaizeVarietyComparisonDf['Difference in qty']=MaizeVarietyComparisonDf['Roster quantity'] - MaizeVarietyComparisonDf['Actual Ordered June 20 (KG)']\n",
    "MaizeVarietyComparisonDf['Difference in variety'] = MaizeVarietyComparisonDf['Roster Variety Name']== MaizeVarietyComparisonDf['Allocated variety']\n",
    "\n",
    "#Maize allocation where variety in roster is different from allocated maize\n",
    "SiteWithDifferenceInVariety = MaizeVarietyComparisonDf[MaizeVarietyComparisonDf['Difference in variety']==False]\n",
    "SiteWithDifferenceInVariety"
   ]
  },
  {
   "cell_type": "markdown",
   "metadata": {},
   "source": [
    "#### Ordered Inputs per site"
   ]
  },
  {
   "cell_type": "code",
   "execution_count": 13,
   "metadata": {},
   "outputs": [],
   "source": [
    "InputsOrderedPerSite = data.groupby(['DistrictName','SiteName'])[['2021A_Avoka qty',\n",
    "       '2021A_Biolite SHS qty', '2021A_DAP kg', '2021A_DLight S200 qty',\n",
    "       '2021A_DLight S200_Trial qty', '2021A_GL Agent Trial qty',\n",
    "       '2021A_GLP Pico qty', '2021A_GLP Pico Trial qty',\n",
    "       '2021A_GLP SKP 200 qty', '2021A_Inkoko qty', '2021A_KAR qty',\n",
    "       '2021A_Maize kg', '2021A_Niwa 300XL qty', '2021A_Niwa 300XL Trial qty',\n",
    "       '2021A_NPK 17 kg', '2021A_Pan 53 kg', '2021A_Pan 691 kg',\n",
    "       '2021A_PICS 100 Kg_Trial qty', '2021A_PICS 50 Kg _Trial qty',\n",
    "       '2021A_PICS100KG qty', '2021A_PICS50KG qty', '2021A_POV qty',\n",
    "       '2021A_SC 403 kg', '2021A_SC 637 kg', '2021A_SHU qty',\n",
    "       '2021A_Tecno qty', '2021A_TOM qty', '2021A_Travertine kg',\n",
    "       '2021A_TUN qty', '2021A_UREA kg', '2021A_WH 403 kg', '2021A_WH 505 kg',\n",
    "       '2021A_WH 605 kg']].sum().reset_index()"
   ]
  },
  {
   "cell_type": "markdown",
   "metadata": {},
   "source": [
    "#### Unique orders per site & per product"
   ]
  },
  {
   "cell_type": "code",
   "execution_count": 16,
   "metadata": {},
   "outputs": [
    {
     "name": "stderr",
     "output_type": "stream",
     "text": [
      "C:\\Users\\user\\anaconda3\\lib\\site-packages\\ipykernel_launcher.py:15: SettingWithCopyWarning: \n",
      "A value is trying to be set on a copy of a slice from a DataFrame\n",
      "\n",
      "See the caveats in the documentation: https://pandas.pydata.org/pandas-docs/stable/user_guide/indexing.html#returning-a-view-versus-a-copy\n",
      "  from ipykernel import kernelapp as app\n"
     ]
    }
   ],
   "source": [
    "DataToCleanMelt =data.melt(['DistrictName','SiteName','OAFID'],['2021A_Avoka qty',\n",
    "       '2021A_Biolite SHS qty', '2021A_DAP kg', '2021A_DLight S200 qty',\n",
    "       '2021A_DLight S200_Trial qty', '2021A_GL Agent Trial qty',\n",
    "       '2021A_GLP Pico qty', '2021A_GLP Pico Trial qty',\n",
    "       '2021A_GLP SKP 200 qty', '2021A_Inkoko qty', '2021A_KAR qty',\n",
    "       '2021A_Maize kg', '2021A_Niwa 300XL qty', '2021A_Niwa 300XL Trial qty',\n",
    "       '2021A_NPK 17 kg', '2021A_Pan 53 kg', '2021A_Pan 691 kg',\n",
    "       '2021A_PICS 100 Kg_Trial qty', '2021A_PICS 50 Kg _Trial qty',\n",
    "       '2021A_PICS100KG qty', '2021A_PICS50KG qty', '2021A_POV qty',\n",
    "       '2021A_SC 403 kg', '2021A_SC 637 kg', '2021A_SHU qty',\n",
    "       '2021A_Tecno qty', '2021A_TOM qty', '2021A_Travertine kg',\n",
    "       '2021A_TUN qty', '2021A_UREA kg', '2021A_WH 403 kg', '2021A_WH 505 kg',\n",
    "       '2021A_WH 605 kg'],'Input Name','Quantity')\n",
    "PositiveOrders = DataToCleanMelt[DataToCleanMelt['Quantity']>0]\n",
    "PositiveOrders.drop_duplicates(subset='OAFID',keep=False, inplace=True)\n",
    "UniquesOrdersPerSite = PositiveOrders.groupby(['DistrictName','SiteName','Input Name'])['OAFID'].count().reset_index()\n",
    "UniqueOrdersPerProd = PositiveOrders.groupby('Input Name')['OAFID']\n",
    "UniquesOrdersPerSite.rename(columns={'OAFID':'#Clients'}, inplace=True)\n",
    "UniqueOrdersPerProdDf = UniqueOrdersPerProd.count().to_frame().reset_index().rename(columns={'OAFID':'#Clients'})"
   ]
  },
  {
   "cell_type": "markdown",
   "metadata": {},
   "source": [
    "#### Total inputs orderd per each input"
   ]
  },
  {
   "cell_type": "code",
   "execution_count": 22,
   "metadata": {},
   "outputs": [
    {
     "data": {
      "text/html": [
       "<div>\n",
       "<style scoped>\n",
       "    .dataframe tbody tr th:only-of-type {\n",
       "        vertical-align: middle;\n",
       "    }\n",
       "\n",
       "    .dataframe tbody tr th {\n",
       "        vertical-align: top;\n",
       "    }\n",
       "\n",
       "    .dataframe thead th {\n",
       "        text-align: right;\n",
       "    }\n",
       "</style>\n",
       "<table border=\"1\" class=\"dataframe\">\n",
       "  <thead>\n",
       "    <tr style=\"text-align: right;\">\n",
       "      <th></th>\n",
       "      <th>Input Name</th>\n",
       "      <th>Total Quantity</th>\n",
       "    </tr>\n",
       "  </thead>\n",
       "  <tbody>\n",
       "    <tr>\n",
       "      <th>0</th>\n",
       "      <td>2021A_Avoka qty</td>\n",
       "      <td>236.0</td>\n",
       "    </tr>\n",
       "    <tr>\n",
       "      <th>1</th>\n",
       "      <td>2021A_Biolite SHS qty</td>\n",
       "      <td>442.0</td>\n",
       "    </tr>\n",
       "    <tr>\n",
       "      <th>2</th>\n",
       "      <td>2021A_DAP kg</td>\n",
       "      <td>31650.0</td>\n",
       "    </tr>\n",
       "    <tr>\n",
       "      <th>3</th>\n",
       "      <td>2021A_DLight S200 qty</td>\n",
       "      <td>6.0</td>\n",
       "    </tr>\n",
       "    <tr>\n",
       "      <th>4</th>\n",
       "      <td>2021A_GLP Pico qty</td>\n",
       "      <td>23.0</td>\n",
       "    </tr>\n",
       "    <tr>\n",
       "      <th>5</th>\n",
       "      <td>2021A_GLP SKP 200 qty</td>\n",
       "      <td>857.0</td>\n",
       "    </tr>\n",
       "    <tr>\n",
       "      <th>6</th>\n",
       "      <td>2021A_Inkoko qty</td>\n",
       "      <td>10997.0</td>\n",
       "    </tr>\n",
       "    <tr>\n",
       "      <th>7</th>\n",
       "      <td>2021A_KAR qty</td>\n",
       "      <td>1339.0</td>\n",
       "    </tr>\n",
       "    <tr>\n",
       "      <th>8</th>\n",
       "      <td>2021A_Maize kg</td>\n",
       "      <td>604.0</td>\n",
       "    </tr>\n",
       "    <tr>\n",
       "      <th>9</th>\n",
       "      <td>2021A_NPK 17 kg</td>\n",
       "      <td>66525.0</td>\n",
       "    </tr>\n",
       "    <tr>\n",
       "      <th>10</th>\n",
       "      <td>2021A_PICS100KG qty</td>\n",
       "      <td>37.0</td>\n",
       "    </tr>\n",
       "    <tr>\n",
       "      <th>11</th>\n",
       "      <td>2021A_PICS50KG qty</td>\n",
       "      <td>16.0</td>\n",
       "    </tr>\n",
       "    <tr>\n",
       "      <th>12</th>\n",
       "      <td>2021A_POV qty</td>\n",
       "      <td>449.0</td>\n",
       "    </tr>\n",
       "    <tr>\n",
       "      <th>13</th>\n",
       "      <td>2021A_Pan 53 kg</td>\n",
       "      <td>20.0</td>\n",
       "    </tr>\n",
       "    <tr>\n",
       "      <th>14</th>\n",
       "      <td>2021A_Pan 691 kg</td>\n",
       "      <td>20.0</td>\n",
       "    </tr>\n",
       "    <tr>\n",
       "      <th>15</th>\n",
       "      <td>2021A_SC 403 kg</td>\n",
       "      <td>10.0</td>\n",
       "    </tr>\n",
       "    <tr>\n",
       "      <th>16</th>\n",
       "      <td>2021A_SHU qty</td>\n",
       "      <td>1176.0</td>\n",
       "    </tr>\n",
       "    <tr>\n",
       "      <th>17</th>\n",
       "      <td>2021A_TOM qty</td>\n",
       "      <td>542.0</td>\n",
       "    </tr>\n",
       "    <tr>\n",
       "      <th>18</th>\n",
       "      <td>2021A_TUN qty</td>\n",
       "      <td>1945.0</td>\n",
       "    </tr>\n",
       "    <tr>\n",
       "      <th>19</th>\n",
       "      <td>2021A_Tecno qty</td>\n",
       "      <td>447.0</td>\n",
       "    </tr>\n",
       "    <tr>\n",
       "      <th>20</th>\n",
       "      <td>2021A_Travertine kg</td>\n",
       "      <td>15675.0</td>\n",
       "    </tr>\n",
       "    <tr>\n",
       "      <th>21</th>\n",
       "      <td>2021A_UREA kg</td>\n",
       "      <td>1265.0</td>\n",
       "    </tr>\n",
       "    <tr>\n",
       "      <th>22</th>\n",
       "      <td>2021A_WH 403 kg</td>\n",
       "      <td>138.0</td>\n",
       "    </tr>\n",
       "    <tr>\n",
       "      <th>23</th>\n",
       "      <td>2021A_WH 505 kg</td>\n",
       "      <td>2.0</td>\n",
       "    </tr>\n",
       "  </tbody>\n",
       "</table>\n",
       "</div>"
      ],
      "text/plain": [
       "               Input Name  Total Quantity\n",
       "0         2021A_Avoka qty           236.0\n",
       "1   2021A_Biolite SHS qty           442.0\n",
       "2            2021A_DAP kg         31650.0\n",
       "3   2021A_DLight S200 qty             6.0\n",
       "4      2021A_GLP Pico qty            23.0\n",
       "5   2021A_GLP SKP 200 qty           857.0\n",
       "6        2021A_Inkoko qty         10997.0\n",
       "7           2021A_KAR qty          1339.0\n",
       "8          2021A_Maize kg           604.0\n",
       "9         2021A_NPK 17 kg         66525.0\n",
       "10    2021A_PICS100KG qty            37.0\n",
       "11     2021A_PICS50KG qty            16.0\n",
       "12          2021A_POV qty           449.0\n",
       "13        2021A_Pan 53 kg            20.0\n",
       "14       2021A_Pan 691 kg            20.0\n",
       "15        2021A_SC 403 kg            10.0\n",
       "16          2021A_SHU qty          1176.0\n",
       "17          2021A_TOM qty           542.0\n",
       "18          2021A_TUN qty          1945.0\n",
       "19        2021A_Tecno qty           447.0\n",
       "20    2021A_Travertine kg         15675.0\n",
       "21          2021A_UREA kg          1265.0\n",
       "22        2021A_WH 403 kg           138.0\n",
       "23        2021A_WH 505 kg             2.0"
      ]
     },
     "execution_count": 22,
     "metadata": {},
     "output_type": "execute_result"
    }
   ],
   "source": [
    "TotalQuantityOrderedPerInputs = PositiveOrders.groupby('Input Name')['Quantity'].sum()\n",
    "TotalQuantityOrderedPerInputs.to_frame().reset_index().rename(columns=({'Quantity':'Total Quantity'}))"
   ]
  }
 ],
 "metadata": {
  "kernelspec": {
   "display_name": "Python 3.8.4 32-bit",
   "language": "python",
   "name": "python_defaultSpec_1600861299127"
  },
  "language_info": {
   "codemirror_mode": {
    "name": "ipython",
    "version": 3
   },
   "file_extension": ".py",
   "mimetype": "text/x-python",
   "name": "python",
   "nbconvert_exporter": "python",
   "pygments_lexer": "ipython3",
   "version": "3.8.4-final"
  }
 },
 "nbformat": 4,
 "nbformat_minor": 4
}