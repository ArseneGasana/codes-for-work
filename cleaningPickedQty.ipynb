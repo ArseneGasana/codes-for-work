{
 "metadata": {
  "language_info": {
   "codemirror_mode": {
    "name": "ipython",
    "version": 3
   },
   "file_extension": ".py",
   "mimetype": "text/x-python",
   "name": "python",
   "nbconvert_exporter": "python",
   "pygments_lexer": "ipython3",
   "version": "3.8.4-final"
  },
  "orig_nbformat": 2,
  "kernelspec": {
   "name": "Python 3.8.4 32-bit",
   "display_name": "Python 3.8.4 32-bit",
   "metadata": {
    "interpreter": {
     "hash": "7987c57931f2365761dc2a5f85e647decf73af6edff0c78918b92bfe7c5512ba"
    }
   }
  }
 },
 "nbformat": 4,
 "nbformat_minor": 2,
 "cells": [
  {
   "cell_type": "code",
   "execution_count": 1,
   "metadata": {},
   "outputs": [],
   "source": [
    "import os\n",
    "import pandas as pd"
   ]
  },
  {
   "cell_type": "code",
   "execution_count": 17,
   "metadata": {},
   "outputs": [],
   "source": [
    "data = pd.read_excel(r'C:\\Users\\user\\Desktop\\Picked qty\\Kinigi.xlsx',names=[\"District\", \"Sector\", \"Title\", \"Lot number\",\"Bags\",\"Kgs/ bag\",\"Total picked\",\"Total lost\"])\n",
    "#data =pd.DataFrame([Frame], columns = [\"District\", \"Sector\", \"Title\", \"Lot number\",\"Bags\",\"Kgs/ bag\",\"Total picked\",\"Total lost\"])"
   ]
  },
  {
   "cell_type": "code",
   "execution_count": 18,
   "metadata": {},
   "outputs": [],
   "source": [
    "SplitInputs = data['Title'].str.split(\" \", n = 5, expand = True)\n",
    "data['Product'] = SplitInputs[3]\n",
    "data.fillna(method='ffill')\n",
    "RemoveRows = data.drop(data[(data['Title']=='#')&(data['Title'].str.contains('LOTS NUMBER'))].index, inplace=True)\n",
    "#data.drop(data[data['Inputs'].str.contains('LOTS NUMBER')].index, inplace=True)"
   ]
  },
  {
   "cell_type": "code",
   "execution_count": 20,
   "metadata": {},
   "outputs": [],
   "source": [
    "splitInputs = data.Title.str.split(\" \",n=5,expand=True)\n",
    "\n",
    "data['ProdName']=splitInputs[3]\n",
    "\n",
    "dataFilled = data.fillna(method='ffill')"
   ]
  },
  {
   "cell_type": "code",
   "execution_count": 21,
   "metadata": {},
   "outputs": [
    {
     "output_type": "error",
     "ename": "NameError",
     "evalue": "name 'RawDf' is not defined",
     "traceback": [
      "\u001b[1;31m---------------------------------------------------------------------------\u001b[0m",
      "\u001b[1;31mNameError\u001b[0m                                 Traceback (most recent call last)",
      "\u001b[1;32m<ipython-input-21-a85b82db5a98>\u001b[0m in \u001b[0;36m<module>\u001b[1;34m\u001b[0m\n\u001b[1;32m----> 1\u001b[1;33m \u001b[0mSplitTotalPicked\u001b[0m \u001b[1;33m=\u001b[0m \u001b[0mRawDf\u001b[0m\u001b[1;33m[\u001b[0m\u001b[1;34m'Total picked'\u001b[0m\u001b[1;33m]\u001b[0m\u001b[1;33m.\u001b[0m\u001b[0mstr\u001b[0m\u001b[1;33m.\u001b[0m\u001b[0msplit\u001b[0m\u001b[1;33m(\u001b[0m\u001b[1;34m\" \"\u001b[0m\u001b[1;33m,\u001b[0m \u001b[0mn\u001b[0m\u001b[1;33m=\u001b[0m\u001b[1;36m3\u001b[0m\u001b[1;33m,\u001b[0m \u001b[0mexpand\u001b[0m\u001b[1;33m=\u001b[0m\u001b[1;32mTrue\u001b[0m\u001b[1;33m)\u001b[0m\u001b[1;33m\u001b[0m\u001b[1;33m\u001b[0m\u001b[0m\n\u001b[0m\u001b[0;32m      2\u001b[0m \u001b[0mRawDf\u001b[0m\u001b[1;33m[\u001b[0m\u001b[1;34m'Total qty picked'\u001b[0m\u001b[1;33m]\u001b[0m\u001b[1;33m=\u001b[0m \u001b[0mSplitTotalPicked\u001b[0m\u001b[1;33m[\u001b[0m\u001b[1;36m0\u001b[0m\u001b[1;33m]\u001b[0m\u001b[1;33m\u001b[0m\u001b[1;33m\u001b[0m\u001b[0m\n\u001b[0;32m      3\u001b[0m \u001b[0mCleanDf\u001b[0m \u001b[1;33m=\u001b[0m \u001b[0mRawDf\u001b[0m\u001b[1;33m.\u001b[0m\u001b[0mdrop\u001b[0m\u001b[1;33m(\u001b[0m\u001b[1;33m[\u001b[0m\u001b[1;34m'Lot number'\u001b[0m\u001b[1;33m,\u001b[0m \u001b[1;34m'Bags'\u001b[0m\u001b[1;33m,\u001b[0m \u001b[1;34m'Kgs/ bag'\u001b[0m\u001b[1;33m,\u001b[0m\u001b[1;34m'Total picked'\u001b[0m\u001b[1;33m,\u001b[0m \u001b[1;34m'Total lost'\u001b[0m\u001b[1;33m]\u001b[0m\u001b[1;33m,\u001b[0m \u001b[0maxis\u001b[0m\u001b[1;33m=\u001b[0m\u001b[1;36m1\u001b[0m\u001b[1;33m)\u001b[0m\u001b[1;33m\u001b[0m\u001b[1;33m\u001b[0m\u001b[0m\n\u001b[0;32m      4\u001b[0m \u001b[0mCleanDf\u001b[0m\u001b[1;33m[\u001b[0m\u001b[1;34m'Total qty picked'\u001b[0m\u001b[1;33m]\u001b[0m \u001b[1;33m=\u001b[0m \u001b[0mCleanDf\u001b[0m\u001b[1;33m[\u001b[0m\u001b[1;34m'Total qty picked'\u001b[0m\u001b[1;33m]\u001b[0m\u001b[1;33m.\u001b[0m\u001b[0mreplace\u001b[0m\u001b[1;33m(\u001b[0m\u001b[1;34m\",\"\u001b[0m\u001b[1;33m,\u001b[0m\u001b[1;34m\"\"\u001b[0m\u001b[1;33m,\u001b[0m \u001b[0mregex\u001b[0m\u001b[1;33m=\u001b[0m\u001b[1;32mTrue\u001b[0m\u001b[1;33m)\u001b[0m\u001b[1;33m.\u001b[0m\u001b[0mastype\u001b[0m\u001b[1;33m(\u001b[0m\u001b[0mint\u001b[0m\u001b[1;33m)\u001b[0m\u001b[1;33m\u001b[0m\u001b[1;33m\u001b[0m\u001b[0m\n\u001b[0;32m      5\u001b[0m \u001b[0mFinalDf\u001b[0m \u001b[1;33m=\u001b[0m \u001b[0mCleanDf\u001b[0m\u001b[1;33m.\u001b[0m\u001b[0mgroupby\u001b[0m\u001b[1;33m(\u001b[0m\u001b[1;33m[\u001b[0m\u001b[1;34m'District'\u001b[0m\u001b[1;33m,\u001b[0m\u001b[1;34m'Sector'\u001b[0m\u001b[1;33m,\u001b[0m\u001b[1;34m'ProdName'\u001b[0m\u001b[1;33m]\u001b[0m\u001b[1;33m)\u001b[0m\u001b[1;33m[\u001b[0m\u001b[1;34m'Total qty picked'\u001b[0m\u001b[1;33m]\u001b[0m\u001b[1;33m.\u001b[0m\u001b[0msum\u001b[0m\u001b[1;33m(\u001b[0m\u001b[1;33m)\u001b[0m\u001b[1;33m.\u001b[0m\u001b[0mreset_index\u001b[0m\u001b[1;33m(\u001b[0m\u001b[1;33m)\u001b[0m\u001b[1;33m\u001b[0m\u001b[1;33m\u001b[0m\u001b[0m\n",
      "\u001b[1;31mNameError\u001b[0m: name 'RawDf' is not defined"
     ]
    }
   ],
   "source": [
    "SplitTotalPicked = RawDf['Total picked'].str.split(\" \", n=3, expand=True)\n",
    "RawDf['Total qty picked']= SplitTotalPicked[0]\n",
    "CleanDf = RawDf.drop(['Lot number', 'Bags', 'Kgs/ bag','Total picked', 'Total lost'], axis=1)\n",
    "CleanDf['Total qty picked'] = CleanDf['Total qty picked'].replace(\",\",\"\", regex=True).astype(int)\n",
    "FinalDf = CleanDf.groupby(['District','Sector','ProdName'])['Total qty picked'].sum().reset_index()"
   ]
  },
  {
   "cell_type": "code",
   "execution_count": 258,
   "metadata": {},
   "outputs": [
    {
     "output_type": "execute_result",
     "data": {
      "text/plain": [
       "   District   Sector ProdName  Total qty picked\n",
       "0  Bugesera  Gashora      DAP                35\n",
       "1  Bugesera  Gashora     UREA              2480\n",
       "2  Bugesera  Gashora    WH403                10"
      ],
      "text/html": "<div>\n<style scoped>\n    .dataframe tbody tr th:only-of-type {\n        vertical-align: middle;\n    }\n\n    .dataframe tbody tr th {\n        vertical-align: top;\n    }\n\n    .dataframe thead th {\n        text-align: right;\n    }\n</style>\n<table border=\"1\" class=\"dataframe\">\n  <thead>\n    <tr style=\"text-align: right;\">\n      <th></th>\n      <th>District</th>\n      <th>Sector</th>\n      <th>ProdName</th>\n      <th>Total qty picked</th>\n    </tr>\n  </thead>\n  <tbody>\n    <tr>\n      <th>0</th>\n      <td>Bugesera</td>\n      <td>Gashora</td>\n      <td>DAP</td>\n      <td>35</td>\n    </tr>\n    <tr>\n      <th>1</th>\n      <td>Bugesera</td>\n      <td>Gashora</td>\n      <td>UREA</td>\n      <td>2480</td>\n    </tr>\n    <tr>\n      <th>2</th>\n      <td>Bugesera</td>\n      <td>Gashora</td>\n      <td>WH403</td>\n      <td>10</td>\n    </tr>\n  </tbody>\n</table>\n</div>"
     },
     "metadata": {},
     "execution_count": 258
    }
   ],
   "source": [
    "FinalDf"
   ]
  },
  {
   "cell_type": "code",
   "execution_count": 16,
   "metadata": {},
   "outputs": [
    {
     "output_type": "error",
     "ename": "NameError",
     "evalue": "name 'SplitInputs' is not defined",
     "traceback": [
      "\u001b[1;31m---------------------------------------------------------------------------\u001b[0m",
      "\u001b[1;31mNameError\u001b[0m                                 Traceback (most recent call last)",
      "\u001b[1;32m<ipython-input-16-779b3fa36ffb>\u001b[0m in \u001b[0;36m<module>\u001b[1;34m\u001b[0m\n\u001b[1;32m----> 1\u001b[1;33m \u001b[0mSplitInputs\u001b[0m\u001b[1;33m\u001b[0m\u001b[1;33m\u001b[0m\u001b[0m\n\u001b[0m",
      "\u001b[1;31mNameError\u001b[0m: name 'SplitInputs' is not defined"
     ]
    }
   ],
   "source": []
  },
  {
   "cell_type": "code",
   "execution_count": 266,
   "metadata": {},
   "outputs": [
    {
     "output_type": "execute_result",
     "data": {
      "text/plain": [
       "'BugeseraGashora.xlsx'"
      ]
     },
     "metadata": {},
     "execution_count": 266
    }
   ],
   "source": [
    "SaveName"
   ]
  },
  {
   "cell_type": "code",
   "execution_count": null,
   "metadata": {},
   "outputs": [],
   "source": []
  },
  {
   "cell_type": "code",
   "execution_count": 253,
   "metadata": {},
   "outputs": [],
   "source": [
    "row1Index = dataFilled[dataFilled['Lot number']=='Lot number'].index\n",
    "row2Index = dataFilled[dataFilled['Inputs'].str.contains('LOTS NUMBER')].index\n",
    "RemoveRow1 = dataFilled.drop(row1Index)\n",
    "RawDf = RemoveRow1.drop(row2Index).drop(['Inputs'], axis=1)"
   ]
  }
 ]
}