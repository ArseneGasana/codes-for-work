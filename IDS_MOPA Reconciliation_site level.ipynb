{
 "cells": [
  {
   "cell_type": "code",
   "execution_count": 2,
   "metadata": {},
   "outputs": [],
   "source": [
    "import pandas as pd"
   ]
  },
  {
   "source": [
    "ANALYSIS ON IDS"
   ],
   "cell_type": "markdown",
   "metadata": {}
  },
  {
   "cell_type": "code",
   "execution_count": 8,
   "metadata": {
    "tags": []
   },
   "outputs": [],
   "source": [
    "#import IDS data\n",
    "IDS_data = pd.read_csv(r'C:\\Users\\user\\Desktop\\MOPA Reconciliation\\Bugesera\\Season client\\Season Clients Detailed_20200926-021956.csv')\n"
   ]
  },
  {
   "cell_type": "code",
   "execution_count": 79,
   "metadata": {},
   "outputs": [],
   "source": [
    "#Preliminary info on IDS data on subsidized inputs\n",
    "GovLocationParent = 'Shyara'\n",
    "SectorDf = IDS_data [IDS_data ['GovLocationParent']==GovLocationParent ]\n",
    "SectorClients = SectorDf.groupby('GovLocationParent')['OAFID'].count()\n",
    "\n",
    "SubsInputsdf = SectorDf[['GovLocationGrandParent','GovLocationParent','SiteName','LastName','FirstName','OAFID','NationalID','2021A_DAP kg','2021A_NPK 17 kg','2021A_Pan 53 kg','2021A_Pan 691 kg','2021A_SC 403 kg','2021A_SC 637 kg','2021A_UREA kg','2021A_WH 403 kg','2021A_WH 505 kg','2021A_WH 605 kg']]\n",
    "SubsInputsdf['NationalID'] =SubsInputsdf['NationalID'].astype(str).replace('\\.0', '', regex=True)\n",
    "\n",
    "SubsInputsMelt = SubsInputsdf.melt(['GovLocationGrandParent','GovLocationParent','SiteName','LastName','FirstName','OAFID','NationalID'],['2021A_DAP kg','2021A_NPK 17 kg','2021A_Pan 53 kg','2021A_Pan 691 kg','2021A_SC 403 kg','2021A_SC 637 kg','2021A_UREA kg','2021A_WH 403 kg','2021A_WH 505 kg','2021A_WH 605 kg'], 'inputName','Quantity').fillna(0)\n",
    "\n",
    "#Cleaning some IDS columns\n",
    "SubsInputsMelt['NationalID'] =SubsInputsMelt['NationalID'].astype(str).replace('\\.0', '', regex=True)\n",
    "\n",
    "IDSInputsTxns = SubsInputsMelt\n",
    "IDSInputsTxns ['inputName'] = IDSInputsTxns ['inputName'].replace(['2021A_DAP kg','2021A_NPK 17 kg','2021A_UREA kg','2021A_WH 403 kg','2021A_SC 403 kg','2021A_Pan 53 kg'],['DAP','NPK','UREA','WH403','SC403','PAN53'])\n",
    "IDSInputsTxns =IDSInputsTxns.rename(columns={'inputName':'Product'})\n",
    "IDSInputsTxns['ProductID'] = IDSInputsTxns['NationalID'] + IDSInputsTxns['Product']\n",
    "\n",
    "#Check if NID starts with 119\n",
    "SubsInputsdf['NIDStartsWith119'] = SubsInputsdf['NationalID'].str.startswith('119')\n",
    "NIDStartsWith119 = SubsInputsdf[SubsInputsdf['NIDStartsWith119']==False]\n",
    "NIDStartsWith119_site = NIDStartsWith119.groupby('SiteName')['OAFID'].count().fillna(0)\n",
    "\n",
    "#Check if NID contains either 700 for female and 800 for male\n",
    "SubsInputsdf['FemaleCheck'] = SubsInputsdf['NationalID'].str.contains(pat = '700')\n",
    "SubsInputsdf['maleCheck'] = SubsInputsdf['NationalID'].str.contains(pat = '800')\n",
    "SubsInputsdf['FalseGender'] = SubsInputsdf['FemaleCheck']== SubsInputsdf['maleCheck']\n",
    "FalseGender = SubsInputsdf[SubsInputsdf['FalseGender']==True]\n",
    "FalseGender_site = FalseGender.groupby('SiteName')['OAFID'].count().fillna(0)\n",
    "\n",
    "#Check if NID length is equal to 16\n",
    "SubsInputsdf['NIDLength'] = SubsInputsdf['NationalID'].str.len()==16\n",
    "NIDLength = SubsInputsdf[SubsInputsdf['NIDLength']==False]\n",
    "NIDLength_site = NIDLength.groupby('SiteName')['OAFID'].count().fillna(0)\n",
    "\n",
    "#FINAL NID FRAME\n",
    "CheckOnNID = pd.merge(pd.merge(NIDStartsWith119_site,FalseGender_site, on='SiteName', how='outer'),NIDLength_site, on='SiteName',how='outer').fillna(0).reset_index()\n",
    "CheckOnNID['#Wrong NID'] = CheckOnNID['OAFID_x']+CheckOnNID['OAFID_y']+CheckOnNID['OAFID']\n",
    "\n",
    "#IDSClientsPerInput = IDSInputsTxns.groupby('Product')['OAFID'].count().reset_index()\n",
    "#IDSQtyPerInput = IDSInputsTxns.groupby('Product')['Quantity'].sum().reset_index()\n",
    "#SectorSummary = pd.merge(IDSClientsPerInput,IDSQtyPerInput,on='Product',how='outer').rename(columns={'OAFID':'#Clients'})\n",
    "#SectorSummary \n",
    "\n",
    "#(1) FINDING THE TOTAL NUMBER OF CLIENTS IN EACH SITE ON IDS\n",
    "TotalSiteClients = SectorDf.groupby('SiteName')['OAFID'].count().reset_index()\n",
    "\n",
    "#(2)FINDING THE TOTAL NUMBER OF WRONG NID\n",
    "ClientsWithWrongNID = CheckOnNID[['SiteName','#Wrong NID']]\n",
    "\n",
    "#(3)FINDING THE TOTAL QUANTITY ON IDS IN EACH SITE\n",
    "TotalKgsPerSite = pd.pivot_table(IDSInputsTxns, values='Quantity', index=['GovLocationGrandParent', 'GovLocationParent', 'SiteName'],columns=['Product'], aggfunc='sum').reset_index()\n",
    "\n",
    "#(4)TOTAL NUMBER OF CLIENTS WHO TOOK SPECIFIC PRODUCTS\n",
    "ClientsPerInputs = pd.pivot_table(IDSInputsTxns, values='NationalID', index=['GovLocationGrandParent', 'GovLocationParent', 'SiteName'],columns=['Product'], aggfunc='count').reset_index()\n",
    "\n",
    "#(5)MATCHING THE NUMBER OF CLIENTS AND TOTAL KGS TAKEN\n",
    "IDS = pd.merge(pd.merge(ClientsPerInputs,TotalKgsPerSite, on='SiteName', how='outer' ),ClientsWithWrongNID, on='SiteName', how='outer')"
   ]
  },
  {
   "cell_type": "code",
   "execution_count": 80,
   "metadata": {
    "tags": []
   },
   "outputs": [
    {
     "output_type": "execute_result",
     "data": {
      "text/plain": "  GovLocationGrandParent_x GovLocationParent_x    SiteName  DAP_x  NPK_x  \\\n0                 Bugesera              Shyara    Kabagugu    362     48   \n1                 Bugesera              Shyara    Kamabuye    306     22   \n2                 Bugesera              Shyara  Nziranziza    493     58   \n3                 Bugesera              Shyara      Rebero    456     80   \n4                 Bugesera              Shyara      Rutare    472     92   \n\n   SC403_x  UREA_x GovLocationGrandParent_y GovLocationParent_y   DAP_y  \\\n0      354     348                 Bugesera              Shyara  3420.0   \n1      325     276                 Bugesera              Shyara  2555.0   \n2      460     482                 Bugesera              Shyara  7360.0   \n3      449     456                 Bugesera              Shyara  5070.0   \n4      472     418                 Bugesera              Shyara  4700.0   \n\n    NPK_y  SC403_y  UREA_y  #Wrong NID  \n0   775.0    914.0  2810.0       174.0  \n1   215.0    792.0  1985.0       163.0  \n2  1350.0   1077.0  4305.0       282.0  \n3  1475.0   1168.0  4655.0       246.0  \n4  1005.0   1206.0  3405.0       214.0  ",
      "text/html": "<div>\n<style scoped>\n    .dataframe tbody tr th:only-of-type {\n        vertical-align: middle;\n    }\n\n    .dataframe tbody tr th {\n        vertical-align: top;\n    }\n\n    .dataframe thead th {\n        text-align: right;\n    }\n</style>\n<table border=\"1\" class=\"dataframe\">\n  <thead>\n    <tr style=\"text-align: right;\">\n      <th></th>\n      <th>GovLocationGrandParent_x</th>\n      <th>GovLocationParent_x</th>\n      <th>SiteName</th>\n      <th>DAP_x</th>\n      <th>NPK_x</th>\n      <th>SC403_x</th>\n      <th>UREA_x</th>\n      <th>GovLocationGrandParent_y</th>\n      <th>GovLocationParent_y</th>\n      <th>DAP_y</th>\n      <th>NPK_y</th>\n      <th>SC403_y</th>\n      <th>UREA_y</th>\n      <th>#Wrong NID</th>\n    </tr>\n  </thead>\n  <tbody>\n    <tr>\n      <th>0</th>\n      <td>Bugesera</td>\n      <td>Shyara</td>\n      <td>Kabagugu</td>\n      <td>362</td>\n      <td>48</td>\n      <td>354</td>\n      <td>348</td>\n      <td>Bugesera</td>\n      <td>Shyara</td>\n      <td>3420.0</td>\n      <td>775.0</td>\n      <td>914.0</td>\n      <td>2810.0</td>\n      <td>174.0</td>\n    </tr>\n    <tr>\n      <th>1</th>\n      <td>Bugesera</td>\n      <td>Shyara</td>\n      <td>Kamabuye</td>\n      <td>306</td>\n      <td>22</td>\n      <td>325</td>\n      <td>276</td>\n      <td>Bugesera</td>\n      <td>Shyara</td>\n      <td>2555.0</td>\n      <td>215.0</td>\n      <td>792.0</td>\n      <td>1985.0</td>\n      <td>163.0</td>\n    </tr>\n    <tr>\n      <th>2</th>\n      <td>Bugesera</td>\n      <td>Shyara</td>\n      <td>Nziranziza</td>\n      <td>493</td>\n      <td>58</td>\n      <td>460</td>\n      <td>482</td>\n      <td>Bugesera</td>\n      <td>Shyara</td>\n      <td>7360.0</td>\n      <td>1350.0</td>\n      <td>1077.0</td>\n      <td>4305.0</td>\n      <td>282.0</td>\n    </tr>\n    <tr>\n      <th>3</th>\n      <td>Bugesera</td>\n      <td>Shyara</td>\n      <td>Rebero</td>\n      <td>456</td>\n      <td>80</td>\n      <td>449</td>\n      <td>456</td>\n      <td>Bugesera</td>\n      <td>Shyara</td>\n      <td>5070.0</td>\n      <td>1475.0</td>\n      <td>1168.0</td>\n      <td>4655.0</td>\n      <td>246.0</td>\n    </tr>\n    <tr>\n      <th>4</th>\n      <td>Bugesera</td>\n      <td>Shyara</td>\n      <td>Rutare</td>\n      <td>472</td>\n      <td>92</td>\n      <td>472</td>\n      <td>418</td>\n      <td>Bugesera</td>\n      <td>Shyara</td>\n      <td>4700.0</td>\n      <td>1005.0</td>\n      <td>1206.0</td>\n      <td>3405.0</td>\n      <td>214.0</td>\n    </tr>\n  </tbody>\n</table>\n</div>"
     },
     "metadata": {},
     "execution_count": 80
    }
   ],
   "source": [
    "IDS"
   ]
  },
  {
   "source": [
    "ANALYSIS ON MOPA"
   ],
   "cell_type": "markdown",
   "metadata": {}
  },
  {
   "cell_type": "code",
   "execution_count": 82,
   "metadata": {},
   "outputs": [],
   "source": [
    "#import MOPA data\n",
    "MOPA = pd.read_excel(r'C:\\Users\\user\\Desktop\\MOPA Reconciliation\\Bugesera\\MOPA data\\Shyara.xlsx')"
   ]
  },
  {
   "cell_type": "code",
   "execution_count": 83,
   "metadata": {},
   "outputs": [],
   "source": [
    "#Cleaning MOPA data\n",
    "ColSplit = MOPA ['Requested Qty'].str.split(\" \", n = 2, expand = True)\n",
    "MOPA['Requested_qty'] = ColSplit[0].astype(float)\n",
    "MOPA['Paid_qty'] = MOPA['Paid Qty'].str.extract('(\\d+)').astype(float)\n",
    "MOPA['Product'] = MOPA['Product'].str.upper()\n",
    "MOPA = MOPA.rename(columns={'National Id':'NationalID'})\n",
    "MOPA['NationalID'] = MOPA['NationalID'].astype(str)\n",
    "MOPA['ProductID'] = MOPA['NationalID'] + MOPA['Product']\n",
    "MOPA_dataCols = MOPA[['Name','NationalID','Product','Requested_qty','Paid_qty']]"
   ]
  },
  {
   "cell_type": "code",
   "execution_count": 87,
   "metadata": {},
   "outputs": [
    {
     "output_type": "execute_result",
     "data": {
      "text/plain": "  GovLocationGrandParent GovLocationParent  SiteName  LastName    FirstName  \\\n0               Bugesera            Shyara  Kabagugu     Fidel    Bizimungu   \n1               Bugesera            Shyara  Kabagugu  Reverien     Semandwa   \n2               Bugesera            Shyara  Kabagugu     Aloys    Ndayisaba   \n3               Bugesera            Shyara  Kabagugu  Beatrice   Mukabutera   \n4               Bugesera            Shyara  Kabagugu    Dativa  Mukeshimana   \n\n          OAFID      NationalID_x Product_x  Quantity            ProductID  \\\n0 -1.025000e+09  1198080156846063       DAP      10.0  1198080156846063DAP   \n1 -1.025000e+09  1199180125066055       DAP       5.0  1199180125066055DAP   \n2 -1.025000e+09  1197780037399011       DAP       5.0  1197780037399011DAP   \n3 -1.025000e+09  1197370070640008       DAP       5.0  1197370070640008DAP   \n4 -1.025000e+09  1199970038754051       DAP       5.0  1199970038754051DAP   \n\n   ... Name Surname NationalID_y Product_y Requested Qty Paid Qty  \\\n0  ...  NaN     NaN          NaN       NaN           NaN      NaN   \n1  ...  NaN     NaN          NaN       NaN           NaN      NaN   \n2  ...  NaN     NaN          NaN       NaN           NaN      NaN   \n3  ...  NaN     NaN          NaN       NaN           NaN      NaN   \n4  ...  NaN     NaN          NaN       NaN           NaN      NaN   \n\n  Payment Method Unpaid Qty Requested_qty  Paid_qty  \n0            NaN        NaN           NaN       NaN  \n1            NaN        NaN           NaN       NaN  \n2            NaN        NaN           NaN       NaN  \n3            NaN        NaN           NaN       NaN  \n4            NaN        NaN           NaN       NaN  \n\n[5 rows x 21 columns]",
      "text/html": "<div>\n<style scoped>\n    .dataframe tbody tr th:only-of-type {\n        vertical-align: middle;\n    }\n\n    .dataframe tbody tr th {\n        vertical-align: top;\n    }\n\n    .dataframe thead th {\n        text-align: right;\n    }\n</style>\n<table border=\"1\" class=\"dataframe\">\n  <thead>\n    <tr style=\"text-align: right;\">\n      <th></th>\n      <th>GovLocationGrandParent</th>\n      <th>GovLocationParent</th>\n      <th>SiteName</th>\n      <th>LastName</th>\n      <th>FirstName</th>\n      <th>OAFID</th>\n      <th>NationalID_x</th>\n      <th>Product_x</th>\n      <th>Quantity</th>\n      <th>ProductID</th>\n      <th>...</th>\n      <th>Name</th>\n      <th>Surname</th>\n      <th>NationalID_y</th>\n      <th>Product_y</th>\n      <th>Requested Qty</th>\n      <th>Paid Qty</th>\n      <th>Payment Method</th>\n      <th>Unpaid Qty</th>\n      <th>Requested_qty</th>\n      <th>Paid_qty</th>\n    </tr>\n  </thead>\n  <tbody>\n    <tr>\n      <th>0</th>\n      <td>Bugesera</td>\n      <td>Shyara</td>\n      <td>Kabagugu</td>\n      <td>Fidel</td>\n      <td>Bizimungu</td>\n      <td>-1.025000e+09</td>\n      <td>1198080156846063</td>\n      <td>DAP</td>\n      <td>10.0</td>\n      <td>1198080156846063DAP</td>\n      <td>...</td>\n      <td>NaN</td>\n      <td>NaN</td>\n      <td>NaN</td>\n      <td>NaN</td>\n      <td>NaN</td>\n      <td>NaN</td>\n      <td>NaN</td>\n      <td>NaN</td>\n      <td>NaN</td>\n      <td>NaN</td>\n    </tr>\n    <tr>\n      <th>1</th>\n      <td>Bugesera</td>\n      <td>Shyara</td>\n      <td>Kabagugu</td>\n      <td>Reverien</td>\n      <td>Semandwa</td>\n      <td>-1.025000e+09</td>\n      <td>1199180125066055</td>\n      <td>DAP</td>\n      <td>5.0</td>\n      <td>1199180125066055DAP</td>\n      <td>...</td>\n      <td>NaN</td>\n      <td>NaN</td>\n      <td>NaN</td>\n      <td>NaN</td>\n      <td>NaN</td>\n      <td>NaN</td>\n      <td>NaN</td>\n      <td>NaN</td>\n      <td>NaN</td>\n      <td>NaN</td>\n    </tr>\n    <tr>\n      <th>2</th>\n      <td>Bugesera</td>\n      <td>Shyara</td>\n      <td>Kabagugu</td>\n      <td>Aloys</td>\n      <td>Ndayisaba</td>\n      <td>-1.025000e+09</td>\n      <td>1197780037399011</td>\n      <td>DAP</td>\n      <td>5.0</td>\n      <td>1197780037399011DAP</td>\n      <td>...</td>\n      <td>NaN</td>\n      <td>NaN</td>\n      <td>NaN</td>\n      <td>NaN</td>\n      <td>NaN</td>\n      <td>NaN</td>\n      <td>NaN</td>\n      <td>NaN</td>\n      <td>NaN</td>\n      <td>NaN</td>\n    </tr>\n    <tr>\n      <th>3</th>\n      <td>Bugesera</td>\n      <td>Shyara</td>\n      <td>Kabagugu</td>\n      <td>Beatrice</td>\n      <td>Mukabutera</td>\n      <td>-1.025000e+09</td>\n      <td>1197370070640008</td>\n      <td>DAP</td>\n      <td>5.0</td>\n      <td>1197370070640008DAP</td>\n      <td>...</td>\n      <td>NaN</td>\n      <td>NaN</td>\n      <td>NaN</td>\n      <td>NaN</td>\n      <td>NaN</td>\n      <td>NaN</td>\n      <td>NaN</td>\n      <td>NaN</td>\n      <td>NaN</td>\n      <td>NaN</td>\n    </tr>\n    <tr>\n      <th>4</th>\n      <td>Bugesera</td>\n      <td>Shyara</td>\n      <td>Kabagugu</td>\n      <td>Dativa</td>\n      <td>Mukeshimana</td>\n      <td>-1.025000e+09</td>\n      <td>1199970038754051</td>\n      <td>DAP</td>\n      <td>5.0</td>\n      <td>1199970038754051DAP</td>\n      <td>...</td>\n      <td>NaN</td>\n      <td>NaN</td>\n      <td>NaN</td>\n      <td>NaN</td>\n      <td>NaN</td>\n      <td>NaN</td>\n      <td>NaN</td>\n      <td>NaN</td>\n      <td>NaN</td>\n      <td>NaN</td>\n    </tr>\n  </tbody>\n</table>\n<p>5 rows × 21 columns</p>\n</div>"
     },
     "metadata": {},
     "execution_count": 87
    }
   ],
   "source": [
    "MOPA_Sites = pd.merge(IDSInputsTxns, MOPA, on='ProductID',how='outer')\n",
    "\n",
    "MOPA_Sites.groupby('SiteName')[]"
   ]
  },
  {
   "cell_type": "code",
   "execution_count": 50,
   "metadata": {
    "tags": []
   },
   "outputs": [
    {
     "output_type": "execute_result",
     "data": {
      "text/plain": "  Product  Requested_qty  Paid_qty  #Clients\n0     DAP        52997.0   20342.0       980\n1     NPK         1990.0     570.0        19\n2   SC403          314.5      88.0        29\n3    UREA        39882.0    8966.0       792",
      "text/html": "<div>\n<style scoped>\n    .dataframe tbody tr th:only-of-type {\n        vertical-align: middle;\n    }\n\n    .dataframe tbody tr th {\n        vertical-align: top;\n    }\n\n    .dataframe thead th {\n        text-align: right;\n    }\n</style>\n<table border=\"1\" class=\"dataframe\">\n  <thead>\n    <tr style=\"text-align: right;\">\n      <th></th>\n      <th>Product</th>\n      <th>Requested_qty</th>\n      <th>Paid_qty</th>\n      <th>#Clients</th>\n    </tr>\n  </thead>\n  <tbody>\n    <tr>\n      <th>0</th>\n      <td>DAP</td>\n      <td>52997.0</td>\n      <td>20342.0</td>\n      <td>980</td>\n    </tr>\n    <tr>\n      <th>1</th>\n      <td>NPK</td>\n      <td>1990.0</td>\n      <td>570.0</td>\n      <td>19</td>\n    </tr>\n    <tr>\n      <th>2</th>\n      <td>SC403</td>\n      <td>314.5</td>\n      <td>88.0</td>\n      <td>29</td>\n    </tr>\n    <tr>\n      <th>3</th>\n      <td>UREA</td>\n      <td>39882.0</td>\n      <td>8966.0</td>\n      <td>792</td>\n    </tr>\n  </tbody>\n</table>\n</div>"
     },
     "metadata": {},
     "execution_count": 50
    }
   ],
   "source": [
    "#Preliminary info on IDS data on subsidized inputs\n",
    "\n",
    "ClientsqtyPerInput =MOPA_dataCols.groupby('Product')['Requested_qty','Paid_qty'].sum().reset_index()\n",
    "ClientsNumPerInput = MOPA_dataCols.groupby('Product')['NationalID'].count().reset_index()\n",
    "\n",
    "#Number of clients who took each input in mopa and the total quantity taken per each input\n",
    "SummaryMOPA = pd.merge(ClientsqtyPerInput,ClientsNumPerInput,on='Product', how='outer').rename(columns={'NationalID':'#Clients'})\n",
    "SummaryMOPA['Product'] = SummaryMOPA['Product'].replace(['NPK 17:17:17'],['NPK'])\n",
    "SummaryMOPA"
   ]
  },
  {
   "cell_type": "code",
   "execution_count": 51,
   "metadata": {},
   "outputs": [],
   "source": [
    "#Other data on IDS\n",
    "TotalMOPAClients = MOPA['NationalID'].nunique()\n",
    "#Transactions\n",
    "TotalMOPATxn = MOPA['NationalID'].count()"
   ]
  },
  {
   "source": [
    "MATCHING IDS TO MOPA "
   ],
   "cell_type": "markdown",
   "metadata": {}
  },
  {
   "cell_type": "code",
   "execution_count": 52,
   "metadata": {},
   "outputs": [
    {
     "output_type": "execute_result",
     "data": {
      "text/plain": "  Product  #Clients_x  Quantity  Requested_qty  Paid_qty  #Clients_y  \\\n0     DAP        2089   23105.0        52997.0   20342.0         980   \n1     NPK         300    4820.0         1990.0     570.0          19   \n2   SC403        2060    5157.0          314.5      88.0          29   \n3    UREA        1980   17160.0        39882.0    8966.0         792   \n\n   Difference In #Clients  Difference In qty  \n0                    1109             2763.0  \n1                     281             4250.0  \n2                    2031             5069.0  \n3                    1188             8194.0  ",
      "text/html": "<div>\n<style scoped>\n    .dataframe tbody tr th:only-of-type {\n        vertical-align: middle;\n    }\n\n    .dataframe tbody tr th {\n        vertical-align: top;\n    }\n\n    .dataframe thead th {\n        text-align: right;\n    }\n</style>\n<table border=\"1\" class=\"dataframe\">\n  <thead>\n    <tr style=\"text-align: right;\">\n      <th></th>\n      <th>Product</th>\n      <th>#Clients_x</th>\n      <th>Quantity</th>\n      <th>Requested_qty</th>\n      <th>Paid_qty</th>\n      <th>#Clients_y</th>\n      <th>Difference In #Clients</th>\n      <th>Difference In qty</th>\n    </tr>\n  </thead>\n  <tbody>\n    <tr>\n      <th>0</th>\n      <td>DAP</td>\n      <td>2089</td>\n      <td>23105.0</td>\n      <td>52997.0</td>\n      <td>20342.0</td>\n      <td>980</td>\n      <td>1109</td>\n      <td>2763.0</td>\n    </tr>\n    <tr>\n      <th>1</th>\n      <td>NPK</td>\n      <td>300</td>\n      <td>4820.0</td>\n      <td>1990.0</td>\n      <td>570.0</td>\n      <td>19</td>\n      <td>281</td>\n      <td>4250.0</td>\n    </tr>\n    <tr>\n      <th>2</th>\n      <td>SC403</td>\n      <td>2060</td>\n      <td>5157.0</td>\n      <td>314.5</td>\n      <td>88.0</td>\n      <td>29</td>\n      <td>2031</td>\n      <td>5069.0</td>\n    </tr>\n    <tr>\n      <th>3</th>\n      <td>UREA</td>\n      <td>1980</td>\n      <td>17160.0</td>\n      <td>39882.0</td>\n      <td>8966.0</td>\n      <td>792</td>\n      <td>1188</td>\n      <td>8194.0</td>\n    </tr>\n  </tbody>\n</table>\n</div>"
     },
     "metadata": {},
     "execution_count": 52
    }
   ],
   "source": [
    " MOPAvsIDS = pd.merge(SectorSummary,SummaryMOPA,on='Product',how='outer')\n",
    " MOPAvsIDS['Difference In #Clients'] = MOPAvsIDS['#Clients_x'] - MOPAvsIDS['#Clients_y']\n",
    " MOPAvsIDS['Difference In qty'] = MOPAvsIDS['Quantity'] - MOPAvsIDS['Paid_qty']\n",
    " MOPAvsIDS"
   ]
  },
  {
   "source": [
    "CLIENT LEVEL CHECK"
   ],
   "cell_type": "markdown",
   "metadata": {}
  },
  {
   "cell_type": "code",
   "execution_count": 53,
   "metadata": {},
   "outputs": [],
   "source": [
    "IDSInputsTxns = IDSInputsTxns.rename(columns={'NationalID':'IDS_NationalID','Product':'IDS_Product','Quantity':'IDS_Quantity','GovLocationParent':'GovSector','GovLocationGrandParent':'GovDistrict'})\n",
    "IDSInputsTxns['SiteID'] = IDSInputsTxns['GovSector']+IDSInputsTxns['SiteName']\n",
    "MOPAInputsTxns = MOPA[['Name', 'Surname', 'NationalID','Product','Paid_qty','ProductID']]\n",
    "MOPAInputsTxns = MOPAInputsTxns.rename(columns={'NationalID':'SNS_NationalID','Product':'SNS_Product','Paid_qty':'SNS_Quantity'})\n",
    "IDSvsMOPA_Clients = pd.merge(IDSInputsTxns,MOPAInputsTxns,on='ProductID', how='outer')\n",
    "IDSvsMOPA_Clients['Match'] = IDSvsMOPA_Clients['IDS_Quantity'] == IDSvsMOPA_Clients['SNS_Quantity']\n",
    "\n",
    "\n",
    "IDSvsMOPA_Clients['IDS_NationalID'] = \"'\"+ IDSvsMOPA_Clients['IDS_NationalID']\n",
    "IDSvsMOPA_Clients['SNS_NationalID'] = \"'\"+ IDSvsMOPA_Clients['SNS_NationalID']\n",
    "path = r'C:\\Users\\user\\Desktop\\MOPA Reconciliation\\Bugesera\\MOPAvsIDS data'\n",
    "os.chdir(path)\n",
    "IDSvsMOPA_Clients.to_csv('Shyara.csv', index=False)"
   ]
  },
  {
   "cell_type": "code",
   "execution_count": 33,
   "metadata": {
    "tags": []
   },
   "outputs": [],
   "source": [
    " "
   ]
  },
  {
   "cell_type": "code",
   "execution_count": 34,
   "metadata": {},
   "outputs": [
    {
     "output_type": "error",
     "ename": "KeyError",
     "evalue": "'Paid_qty'",
     "traceback": [
      "\u001b[1;31m---------------------------------------------------------------------------\u001b[0m",
      "\u001b[1;31mKeyError\u001b[0m                                  Traceback (most recent call last)",
      "\u001b[1;32m~\\AppData\\Local\\Programs\\Python\\Python38-32\\lib\\site-packages\\pandas\\core\\indexes\\base.py\u001b[0m in \u001b[0;36mget_loc\u001b[1;34m(self, key, method, tolerance)\u001b[0m\n\u001b[0;32m   2645\u001b[0m             \u001b[1;32mtry\u001b[0m\u001b[1;33m:\u001b[0m\u001b[1;33m\u001b[0m\u001b[1;33m\u001b[0m\u001b[0m\n\u001b[1;32m-> 2646\u001b[1;33m                 \u001b[1;32mreturn\u001b[0m \u001b[0mself\u001b[0m\u001b[1;33m.\u001b[0m\u001b[0m_engine\u001b[0m\u001b[1;33m.\u001b[0m\u001b[0mget_loc\u001b[0m\u001b[1;33m(\u001b[0m\u001b[0mkey\u001b[0m\u001b[1;33m)\u001b[0m\u001b[1;33m\u001b[0m\u001b[1;33m\u001b[0m\u001b[0m\n\u001b[0m\u001b[0;32m   2647\u001b[0m             \u001b[1;32mexcept\u001b[0m \u001b[0mKeyError\u001b[0m\u001b[1;33m:\u001b[0m\u001b[1;33m\u001b[0m\u001b[1;33m\u001b[0m\u001b[0m\n",
      "\u001b[1;32mpandas\\_libs\\index.pyx\u001b[0m in \u001b[0;36mpandas._libs.index.IndexEngine.get_loc\u001b[1;34m()\u001b[0m\n",
      "\u001b[1;32mpandas\\_libs\\index.pyx\u001b[0m in \u001b[0;36mpandas._libs.index.IndexEngine.get_loc\u001b[1;34m()\u001b[0m\n",
      "\u001b[1;32mpandas\\_libs\\hashtable_class_helper.pxi\u001b[0m in \u001b[0;36mpandas._libs.hashtable.PyObjectHashTable.get_item\u001b[1;34m()\u001b[0m\n",
      "\u001b[1;32mpandas\\_libs\\hashtable_class_helper.pxi\u001b[0m in \u001b[0;36mpandas._libs.hashtable.PyObjectHashTable.get_item\u001b[1;34m()\u001b[0m\n",
      "\u001b[1;31mKeyError\u001b[0m: 'Paid_qty'",
      "\nDuring handling of the above exception, another exception occurred:\n",
      "\u001b[1;31mKeyError\u001b[0m                                  Traceback (most recent call last)",
      "\u001b[1;32m<ipython-input-34-3bc93e823999>\u001b[0m in \u001b[0;36m<module>\u001b[1;34m\u001b[0m\n\u001b[0;32m      5\u001b[0m \u001b[0mMatchingTxn\u001b[0m \u001b[1;33m=\u001b[0m \u001b[0mIDSvsMOPA_Clients\u001b[0m\u001b[1;33m[\u001b[0m\u001b[0mIDSvsMOPA_Clients\u001b[0m\u001b[1;33m[\u001b[0m\u001b[1;34m'Match'\u001b[0m\u001b[1;33m]\u001b[0m\u001b[1;33m==\u001b[0m\u001b[1;32mTrue\u001b[0m\u001b[1;33m]\u001b[0m\u001b[1;33m[\u001b[0m\u001b[1;34m'OAFID'\u001b[0m\u001b[1;33m]\u001b[0m\u001b[1;33m.\u001b[0m\u001b[0mcount\u001b[0m\u001b[1;33m(\u001b[0m\u001b[1;33m)\u001b[0m\u001b[1;33m\u001b[0m\u001b[1;33m\u001b[0m\u001b[0m\n\u001b[0;32m      6\u001b[0m \u001b[0mNotMatchingTXn\u001b[0m \u001b[1;33m=\u001b[0m \u001b[0mIDSvsMOPA_Clients\u001b[0m\u001b[1;33m[\u001b[0m\u001b[0mIDSvsMOPA_Clients\u001b[0m\u001b[1;33m[\u001b[0m\u001b[1;34m'Match'\u001b[0m\u001b[1;33m]\u001b[0m\u001b[1;33m==\u001b[0m\u001b[1;32mFalse\u001b[0m\u001b[1;33m]\u001b[0m\u001b[1;33m[\u001b[0m\u001b[1;34m'OAFID'\u001b[0m\u001b[1;33m]\u001b[0m\u001b[1;33m.\u001b[0m\u001b[0mcount\u001b[0m\u001b[1;33m(\u001b[0m\u001b[1;33m)\u001b[0m\u001b[1;33m\u001b[0m\u001b[1;33m\u001b[0m\u001b[0m\n\u001b[1;32m----> 7\u001b[1;33m \u001b[0mOnIDSNotInMOPA\u001b[0m \u001b[1;33m=\u001b[0m \u001b[0mIDSvsMOPA_Clients\u001b[0m\u001b[1;33m[\u001b[0m\u001b[0mIDSvsMOPA_Clients\u001b[0m\u001b[1;33m[\u001b[0m\u001b[1;34m'Paid_qty'\u001b[0m\u001b[1;33m]\u001b[0m\u001b[1;33m.\u001b[0m\u001b[0misna\u001b[0m\u001b[1;33m(\u001b[0m\u001b[1;33m)\u001b[0m\u001b[1;33m]\u001b[0m\u001b[1;33m\u001b[0m\u001b[1;33m\u001b[0m\u001b[0m\n\u001b[0m",
      "\u001b[1;32m~\\AppData\\Local\\Programs\\Python\\Python38-32\\lib\\site-packages\\pandas\\core\\frame.py\u001b[0m in \u001b[0;36m__getitem__\u001b[1;34m(self, key)\u001b[0m\n\u001b[0;32m   2798\u001b[0m             \u001b[1;32mif\u001b[0m \u001b[0mself\u001b[0m\u001b[1;33m.\u001b[0m\u001b[0mcolumns\u001b[0m\u001b[1;33m.\u001b[0m\u001b[0mnlevels\u001b[0m \u001b[1;33m>\u001b[0m \u001b[1;36m1\u001b[0m\u001b[1;33m:\u001b[0m\u001b[1;33m\u001b[0m\u001b[1;33m\u001b[0m\u001b[0m\n\u001b[0;32m   2799\u001b[0m                 \u001b[1;32mreturn\u001b[0m \u001b[0mself\u001b[0m\u001b[1;33m.\u001b[0m\u001b[0m_getitem_multilevel\u001b[0m\u001b[1;33m(\u001b[0m\u001b[0mkey\u001b[0m\u001b[1;33m)\u001b[0m\u001b[1;33m\u001b[0m\u001b[1;33m\u001b[0m\u001b[0m\n\u001b[1;32m-> 2800\u001b[1;33m             \u001b[0mindexer\u001b[0m \u001b[1;33m=\u001b[0m \u001b[0mself\u001b[0m\u001b[1;33m.\u001b[0m\u001b[0mcolumns\u001b[0m\u001b[1;33m.\u001b[0m\u001b[0mget_loc\u001b[0m\u001b[1;33m(\u001b[0m\u001b[0mkey\u001b[0m\u001b[1;33m)\u001b[0m\u001b[1;33m\u001b[0m\u001b[1;33m\u001b[0m\u001b[0m\n\u001b[0m\u001b[0;32m   2801\u001b[0m             \u001b[1;32mif\u001b[0m \u001b[0mis_integer\u001b[0m\u001b[1;33m(\u001b[0m\u001b[0mindexer\u001b[0m\u001b[1;33m)\u001b[0m\u001b[1;33m:\u001b[0m\u001b[1;33m\u001b[0m\u001b[1;33m\u001b[0m\u001b[0m\n\u001b[0;32m   2802\u001b[0m                 \u001b[0mindexer\u001b[0m \u001b[1;33m=\u001b[0m \u001b[1;33m[\u001b[0m\u001b[0mindexer\u001b[0m\u001b[1;33m]\u001b[0m\u001b[1;33m\u001b[0m\u001b[1;33m\u001b[0m\u001b[0m\n",
      "\u001b[1;32m~\\AppData\\Local\\Programs\\Python\\Python38-32\\lib\\site-packages\\pandas\\core\\indexes\\base.py\u001b[0m in \u001b[0;36mget_loc\u001b[1;34m(self, key, method, tolerance)\u001b[0m\n\u001b[0;32m   2646\u001b[0m                 \u001b[1;32mreturn\u001b[0m \u001b[0mself\u001b[0m\u001b[1;33m.\u001b[0m\u001b[0m_engine\u001b[0m\u001b[1;33m.\u001b[0m\u001b[0mget_loc\u001b[0m\u001b[1;33m(\u001b[0m\u001b[0mkey\u001b[0m\u001b[1;33m)\u001b[0m\u001b[1;33m\u001b[0m\u001b[1;33m\u001b[0m\u001b[0m\n\u001b[0;32m   2647\u001b[0m             \u001b[1;32mexcept\u001b[0m \u001b[0mKeyError\u001b[0m\u001b[1;33m:\u001b[0m\u001b[1;33m\u001b[0m\u001b[1;33m\u001b[0m\u001b[0m\n\u001b[1;32m-> 2648\u001b[1;33m                 \u001b[1;32mreturn\u001b[0m \u001b[0mself\u001b[0m\u001b[1;33m.\u001b[0m\u001b[0m_engine\u001b[0m\u001b[1;33m.\u001b[0m\u001b[0mget_loc\u001b[0m\u001b[1;33m(\u001b[0m\u001b[0mself\u001b[0m\u001b[1;33m.\u001b[0m\u001b[0m_maybe_cast_indexer\u001b[0m\u001b[1;33m(\u001b[0m\u001b[0mkey\u001b[0m\u001b[1;33m)\u001b[0m\u001b[1;33m)\u001b[0m\u001b[1;33m\u001b[0m\u001b[1;33m\u001b[0m\u001b[0m\n\u001b[0m\u001b[0;32m   2649\u001b[0m         \u001b[0mindexer\u001b[0m \u001b[1;33m=\u001b[0m \u001b[0mself\u001b[0m\u001b[1;33m.\u001b[0m\u001b[0mget_indexer\u001b[0m\u001b[1;33m(\u001b[0m\u001b[1;33m[\u001b[0m\u001b[0mkey\u001b[0m\u001b[1;33m]\u001b[0m\u001b[1;33m,\u001b[0m \u001b[0mmethod\u001b[0m\u001b[1;33m=\u001b[0m\u001b[0mmethod\u001b[0m\u001b[1;33m,\u001b[0m \u001b[0mtolerance\u001b[0m\u001b[1;33m=\u001b[0m\u001b[0mtolerance\u001b[0m\u001b[1;33m)\u001b[0m\u001b[1;33m\u001b[0m\u001b[1;33m\u001b[0m\u001b[0m\n\u001b[0;32m   2650\u001b[0m         \u001b[1;32mif\u001b[0m \u001b[0mindexer\u001b[0m\u001b[1;33m.\u001b[0m\u001b[0mndim\u001b[0m \u001b[1;33m>\u001b[0m \u001b[1;36m1\u001b[0m \u001b[1;32mor\u001b[0m \u001b[0mindexer\u001b[0m\u001b[1;33m.\u001b[0m\u001b[0msize\u001b[0m \u001b[1;33m>\u001b[0m \u001b[1;36m1\u001b[0m\u001b[1;33m:\u001b[0m\u001b[1;33m\u001b[0m\u001b[1;33m\u001b[0m\u001b[0m\n",
      "\u001b[1;32mpandas\\_libs\\index.pyx\u001b[0m in \u001b[0;36mpandas._libs.index.IndexEngine.get_loc\u001b[1;34m()\u001b[0m\n",
      "\u001b[1;32mpandas\\_libs\\index.pyx\u001b[0m in \u001b[0;36mpandas._libs.index.IndexEngine.get_loc\u001b[1;34m()\u001b[0m\n",
      "\u001b[1;32mpandas\\_libs\\hashtable_class_helper.pxi\u001b[0m in \u001b[0;36mpandas._libs.hashtable.PyObjectHashTable.get_item\u001b[1;34m()\u001b[0m\n",
      "\u001b[1;32mpandas\\_libs\\hashtable_class_helper.pxi\u001b[0m in \u001b[0;36mpandas._libs.hashtable.PyObjectHashTable.get_item\u001b[1;34m()\u001b[0m\n",
      "\u001b[1;31mKeyError\u001b[0m: 'Paid_qty'"
     ]
    }
   ],
   "source": [
    "#clients\n",
    "TotalClientsOnMOPA_IDS = IDSvsMOPA_Clients['OAFID'].nunique()\n",
    "\n",
    "#Transactions\n",
    "MatchingTxn = IDSvsMOPA_Clients[IDSvsMOPA_Clients['Match']==True]['OAFID'].count()\n",
    "NotMatchingTXn = IDSvsMOPA_Clients[IDSvsMOPA_Clients['Match']==False]['OAFID'].count()\n",
    "OnIDSNotInMOPA = IDSvsMOPA_Clients[IDSvsMOPA_Clients['Paid_qty'].isna()]"
   ]
  },
  {
   "cell_type": "code",
   "execution_count": 23,
   "metadata": {},
   "outputs": [
    {
     "output_type": "execute_result",
     "data": {
      "text/plain": "     DistrictName SectorName    SiteName       LastName   FirstName  OAFID  \\\n0          Nyanza     Zone 1  Butansinda  URINZWENIMANA     Vianney  79768   \n1          Nyanza     Zone 1        Ngwa   Ahobantegeye      Cecile  69895   \n2          Nyanza     Zone 1        Ngwa   DUSABEMARIYA  Faranswaze  29024   \n3          Nyanza     Zone 1        Ngwa       Kanyanja    Athanase  69896   \n4          Nyanza     Zone 1        Ngwa    Mukarurinda        Hana  20833   \n...           ...        ...         ...            ...         ...    ...   \n6102       Nyanza     Zone 7     Nkomero  Mushimiyimana   Catheline  27094   \n6103       Nyanza     Zone 7     Nkomero       Rucogoza     Aimable  73239   \n6104       Nyanza     Zone 7     Nkomero        Seromba      Yasoni  37554   \n6105       Nyanza     Zone 7     Nkomero      UKOBUKEYE      Eugene  25009   \n6106       Nyanza     Zone 1  Butansinda  URINZWENIMANA     Vianney  79768   \n\n          NationalID_x Product_x  Quantity              ProductID  \\\n0     1197680097920090       DAP       5.0    1197680097920090DAP   \n1     1196570014701050       DAP      10.0    1196570014701050DAP   \n2     1198870015488075       DAP      10.0    1198870015488075DAP   \n3     1194270004772161       DAP      10.0    1194270004772161DAP   \n4     1197170016487095       DAP       5.0    1197170016487095DAP   \n...                ...       ...       ...                    ...   \n6102  1196570014066166      UREA       5.0   1196570014066166UREA   \n6103  1197880036856041      UREA       5.0   1197880036856041UREA   \n6104  1197980033140032      UREA       5.0   1197980033140032UREA   \n6105  1196480014386022      UREA       5.0   1196480014386022UREA   \n6106  1197680097920090     WH403       2.0  1197680097920090WH403   \n\n               Name   Surname      NationalID_y Product_y  Paid_qty  Match  \n0               NaN       NaN               NaN       NaN       NaN  False  \n1               NaN       NaN               NaN       NaN       NaN  False  \n2               NaN       NaN               NaN       NaN       NaN  False  \n3               NaN       NaN               NaN       NaN       NaN  False  \n4               NaN       NaN               NaN       NaN       NaN  False  \n...             ...       ...               ...       ...       ...    ...  \n6102  MUSHIMIYIMANA  GATARINA  1196570014066166      UREA       5.0   True  \n6103       RUCOGOZA   AIMABLE  1197880036856041      UREA       5.0   True  \n6104            NaN       NaN               NaN       NaN       NaN  False  \n6105            NaN       NaN               NaN       NaN       NaN  False  \n6106            NaN       NaN               NaN       NaN       NaN  False  \n\n[6107 rows x 16 columns]",
      "text/html": "<div>\n<style scoped>\n    .dataframe tbody tr th:only-of-type {\n        vertical-align: middle;\n    }\n\n    .dataframe tbody tr th {\n        vertical-align: top;\n    }\n\n    .dataframe thead th {\n        text-align: right;\n    }\n</style>\n<table border=\"1\" class=\"dataframe\">\n  <thead>\n    <tr style=\"text-align: right;\">\n      <th></th>\n      <th>DistrictName</th>\n      <th>SectorName</th>\n      <th>SiteName</th>\n      <th>LastName</th>\n      <th>FirstName</th>\n      <th>OAFID</th>\n      <th>NationalID_x</th>\n      <th>Product_x</th>\n      <th>Quantity</th>\n      <th>ProductID</th>\n      <th>Name</th>\n      <th>Surname</th>\n      <th>NationalID_y</th>\n      <th>Product_y</th>\n      <th>Paid_qty</th>\n      <th>Match</th>\n    </tr>\n  </thead>\n  <tbody>\n    <tr>\n      <th>0</th>\n      <td>Nyanza</td>\n      <td>Zone 1</td>\n      <td>Butansinda</td>\n      <td>URINZWENIMANA</td>\n      <td>Vianney</td>\n      <td>79768</td>\n      <td>1197680097920090</td>\n      <td>DAP</td>\n      <td>5.0</td>\n      <td>1197680097920090DAP</td>\n      <td>NaN</td>\n      <td>NaN</td>\n      <td>NaN</td>\n      <td>NaN</td>\n      <td>NaN</td>\n      <td>False</td>\n    </tr>\n    <tr>\n      <th>1</th>\n      <td>Nyanza</td>\n      <td>Zone 1</td>\n      <td>Ngwa</td>\n      <td>Ahobantegeye</td>\n      <td>Cecile</td>\n      <td>69895</td>\n      <td>1196570014701050</td>\n      <td>DAP</td>\n      <td>10.0</td>\n      <td>1196570014701050DAP</td>\n      <td>NaN</td>\n      <td>NaN</td>\n      <td>NaN</td>\n      <td>NaN</td>\n      <td>NaN</td>\n      <td>False</td>\n    </tr>\n    <tr>\n      <th>2</th>\n      <td>Nyanza</td>\n      <td>Zone 1</td>\n      <td>Ngwa</td>\n      <td>DUSABEMARIYA</td>\n      <td>Faranswaze</td>\n      <td>29024</td>\n      <td>1198870015488075</td>\n      <td>DAP</td>\n      <td>10.0</td>\n      <td>1198870015488075DAP</td>\n      <td>NaN</td>\n      <td>NaN</td>\n      <td>NaN</td>\n      <td>NaN</td>\n      <td>NaN</td>\n      <td>False</td>\n    </tr>\n    <tr>\n      <th>3</th>\n      <td>Nyanza</td>\n      <td>Zone 1</td>\n      <td>Ngwa</td>\n      <td>Kanyanja</td>\n      <td>Athanase</td>\n      <td>69896</td>\n      <td>1194270004772161</td>\n      <td>DAP</td>\n      <td>10.0</td>\n      <td>1194270004772161DAP</td>\n      <td>NaN</td>\n      <td>NaN</td>\n      <td>NaN</td>\n      <td>NaN</td>\n      <td>NaN</td>\n      <td>False</td>\n    </tr>\n    <tr>\n      <th>4</th>\n      <td>Nyanza</td>\n      <td>Zone 1</td>\n      <td>Ngwa</td>\n      <td>Mukarurinda</td>\n      <td>Hana</td>\n      <td>20833</td>\n      <td>1197170016487095</td>\n      <td>DAP</td>\n      <td>5.0</td>\n      <td>1197170016487095DAP</td>\n      <td>NaN</td>\n      <td>NaN</td>\n      <td>NaN</td>\n      <td>NaN</td>\n      <td>NaN</td>\n      <td>False</td>\n    </tr>\n    <tr>\n      <th>...</th>\n      <td>...</td>\n      <td>...</td>\n      <td>...</td>\n      <td>...</td>\n      <td>...</td>\n      <td>...</td>\n      <td>...</td>\n      <td>...</td>\n      <td>...</td>\n      <td>...</td>\n      <td>...</td>\n      <td>...</td>\n      <td>...</td>\n      <td>...</td>\n      <td>...</td>\n      <td>...</td>\n    </tr>\n    <tr>\n      <th>6102</th>\n      <td>Nyanza</td>\n      <td>Zone 7</td>\n      <td>Nkomero</td>\n      <td>Mushimiyimana</td>\n      <td>Catheline</td>\n      <td>27094</td>\n      <td>1196570014066166</td>\n      <td>UREA</td>\n      <td>5.0</td>\n      <td>1196570014066166UREA</td>\n      <td>MUSHIMIYIMANA</td>\n      <td>GATARINA</td>\n      <td>1196570014066166</td>\n      <td>UREA</td>\n      <td>5.0</td>\n      <td>True</td>\n    </tr>\n    <tr>\n      <th>6103</th>\n      <td>Nyanza</td>\n      <td>Zone 7</td>\n      <td>Nkomero</td>\n      <td>Rucogoza</td>\n      <td>Aimable</td>\n      <td>73239</td>\n      <td>1197880036856041</td>\n      <td>UREA</td>\n      <td>5.0</td>\n      <td>1197880036856041UREA</td>\n      <td>RUCOGOZA</td>\n      <td>AIMABLE</td>\n      <td>1197880036856041</td>\n      <td>UREA</td>\n      <td>5.0</td>\n      <td>True</td>\n    </tr>\n    <tr>\n      <th>6104</th>\n      <td>Nyanza</td>\n      <td>Zone 7</td>\n      <td>Nkomero</td>\n      <td>Seromba</td>\n      <td>Yasoni</td>\n      <td>37554</td>\n      <td>1197980033140032</td>\n      <td>UREA</td>\n      <td>5.0</td>\n      <td>1197980033140032UREA</td>\n      <td>NaN</td>\n      <td>NaN</td>\n      <td>NaN</td>\n      <td>NaN</td>\n      <td>NaN</td>\n      <td>False</td>\n    </tr>\n    <tr>\n      <th>6105</th>\n      <td>Nyanza</td>\n      <td>Zone 7</td>\n      <td>Nkomero</td>\n      <td>UKOBUKEYE</td>\n      <td>Eugene</td>\n      <td>25009</td>\n      <td>1196480014386022</td>\n      <td>UREA</td>\n      <td>5.0</td>\n      <td>1196480014386022UREA</td>\n      <td>NaN</td>\n      <td>NaN</td>\n      <td>NaN</td>\n      <td>NaN</td>\n      <td>NaN</td>\n      <td>False</td>\n    </tr>\n    <tr>\n      <th>6106</th>\n      <td>Nyanza</td>\n      <td>Zone 1</td>\n      <td>Butansinda</td>\n      <td>URINZWENIMANA</td>\n      <td>Vianney</td>\n      <td>79768</td>\n      <td>1197680097920090</td>\n      <td>WH403</td>\n      <td>2.0</td>\n      <td>1197680097920090WH403</td>\n      <td>NaN</td>\n      <td>NaN</td>\n      <td>NaN</td>\n      <td>NaN</td>\n      <td>NaN</td>\n      <td>False</td>\n    </tr>\n  </tbody>\n</table>\n<p>6107 rows × 16 columns</p>\n</div>"
     },
     "metadata": {},
     "execution_count": 23
    }
   ],
   "source": []
  },
  {
   "cell_type": "code",
   "execution_count": 14,
   "metadata": {
    "tags": []
   },
   "outputs": [
    {
     "output_type": "stream",
     "name": "stdout",
     "text": "Total clients on IDS: 2191\nTotal clients in MOPA: 1743\nTotal clients on IDS_MOPA df: 2079\nTotal Txn on IDS: 6107\nTotal Txn in MOPA: 3666\nTotal Txn IDS match MOPA: 2147\nTotal Txn IDS dont match MOPA: 3960\n"
    }
   ],
   "source": [
    "#Print clients\n",
    "print('Total clients on IDS:',TotalIDSClients)\n",
    "print('Total clients in MOPA:',TotalMOPAClients)\n",
    "print('Total clients on IDS_MOPA df:',TotalClientsOnMOPA_IDS )\n",
    "\n",
    "\n",
    "#Transactions\n",
    "print('Total Txn on IDS:',IDSTotalTxn)\n",
    "print('Total Txn in MOPA:',TotalMOPATxn)\n",
    "print('Total Txn IDS match MOPA:',MatchingTxn)\n",
    "print('Total Txn IDS dont match MOPA:',NotMatchingTXn)"
   ]
  },
  {
   "cell_type": "code",
   "execution_count": 19,
   "metadata": {},
   "outputs": [],
   "source": [
    "NIDCheck = IDSvsMOPA_Clients[['LastName','FirstName','OAFID','NationalID_x']]\n",
    "NIDCheck['NIDStartsWith'] = NIDCheck['NationalID_x'].str.startswith('119')\n",
    "NIDCheck['FemaleCheck'] = NIDCheck['NationalID_x'].str.contains(pat = '700')\n",
    "NIDCheck['maleCheck'] = NIDCheck['NationalID_x'].str.contains(pat = '800')\n",
    "NIDCheck['GenderCheck'] = NIDCheck['FemaleCheck']== NIDCheck['maleCheck']"
   ]
  },
  {
   "cell_type": "code",
   "execution_count": 23,
   "metadata": {},
   "outputs": [
    {
     "output_type": "execute_result",
     "data": {
      "text/plain": "             LastName  FirstName  OAFID      NationalID_x  NIDStartsWith  \\\n6           Niyonsaba      Aloys  20825  1199080221005077           True   \n21       UWAMURENGEYE     Japhet  77763  1198080141925048           True   \n46           Mukamana  Anastasia  27069  1199480191081057           True   \n57           TWAHIRWA     Osuard  61821  1198080168232064           True   \n68         Ndayisenga     Furaha  62485  1198870036778004           True   \n...               ...        ...    ...               ...            ...   \n6043       Nsanzabera       Tito  60321  1199480125127064           True   \n6054        MUKANKUSI    Pelagie  71162                 0          False   \n6056  NGAYABARAMBIRWA       Gadi  71171                 0          False   \n6066         Mutijima       Joni  62490  1198380163945071           True   \n6080      Nyiratebuka    Jamvier  39016  1198270150042713           True   \n\n      FemaleCheck  maleCheck  GenderCheck  \n6           False      False         True  \n21          False      False         True  \n46          False      False         True  \n57          False      False         True  \n68           True       True         True  \n...           ...        ...          ...  \n6043        False      False         True  \n6054        False      False         True  \n6056        False      False         True  \n6066        False      False         True  \n6080        False      False         True  \n\n[566 rows x 8 columns]",
      "text/html": "<div>\n<style scoped>\n    .dataframe tbody tr th:only-of-type {\n        vertical-align: middle;\n    }\n\n    .dataframe tbody tr th {\n        vertical-align: top;\n    }\n\n    .dataframe thead th {\n        text-align: right;\n    }\n</style>\n<table border=\"1\" class=\"dataframe\">\n  <thead>\n    <tr style=\"text-align: right;\">\n      <th></th>\n      <th>LastName</th>\n      <th>FirstName</th>\n      <th>OAFID</th>\n      <th>NationalID_x</th>\n      <th>NIDStartsWith</th>\n      <th>FemaleCheck</th>\n      <th>maleCheck</th>\n      <th>GenderCheck</th>\n    </tr>\n  </thead>\n  <tbody>\n    <tr>\n      <th>6</th>\n      <td>Niyonsaba</td>\n      <td>Aloys</td>\n      <td>20825</td>\n      <td>1199080221005077</td>\n      <td>True</td>\n      <td>False</td>\n      <td>False</td>\n      <td>True</td>\n    </tr>\n    <tr>\n      <th>21</th>\n      <td>UWAMURENGEYE</td>\n      <td>Japhet</td>\n      <td>77763</td>\n      <td>1198080141925048</td>\n      <td>True</td>\n      <td>False</td>\n      <td>False</td>\n      <td>True</td>\n    </tr>\n    <tr>\n      <th>46</th>\n      <td>Mukamana</td>\n      <td>Anastasia</td>\n      <td>27069</td>\n      <td>1199480191081057</td>\n      <td>True</td>\n      <td>False</td>\n      <td>False</td>\n      <td>True</td>\n    </tr>\n    <tr>\n      <th>57</th>\n      <td>TWAHIRWA</td>\n      <td>Osuard</td>\n      <td>61821</td>\n      <td>1198080168232064</td>\n      <td>True</td>\n      <td>False</td>\n      <td>False</td>\n      <td>True</td>\n    </tr>\n    <tr>\n      <th>68</th>\n      <td>Ndayisenga</td>\n      <td>Furaha</td>\n      <td>62485</td>\n      <td>1198870036778004</td>\n      <td>True</td>\n      <td>True</td>\n      <td>True</td>\n      <td>True</td>\n    </tr>\n    <tr>\n      <th>...</th>\n      <td>...</td>\n      <td>...</td>\n      <td>...</td>\n      <td>...</td>\n      <td>...</td>\n      <td>...</td>\n      <td>...</td>\n      <td>...</td>\n    </tr>\n    <tr>\n      <th>6043</th>\n      <td>Nsanzabera</td>\n      <td>Tito</td>\n      <td>60321</td>\n      <td>1199480125127064</td>\n      <td>True</td>\n      <td>False</td>\n      <td>False</td>\n      <td>True</td>\n    </tr>\n    <tr>\n      <th>6054</th>\n      <td>MUKANKUSI</td>\n      <td>Pelagie</td>\n      <td>71162</td>\n      <td>0</td>\n      <td>False</td>\n      <td>False</td>\n      <td>False</td>\n      <td>True</td>\n    </tr>\n    <tr>\n      <th>6056</th>\n      <td>NGAYABARAMBIRWA</td>\n      <td>Gadi</td>\n      <td>71171</td>\n      <td>0</td>\n      <td>False</td>\n      <td>False</td>\n      <td>False</td>\n      <td>True</td>\n    </tr>\n    <tr>\n      <th>6066</th>\n      <td>Mutijima</td>\n      <td>Joni</td>\n      <td>62490</td>\n      <td>1198380163945071</td>\n      <td>True</td>\n      <td>False</td>\n      <td>False</td>\n      <td>True</td>\n    </tr>\n    <tr>\n      <th>6080</th>\n      <td>Nyiratebuka</td>\n      <td>Jamvier</td>\n      <td>39016</td>\n      <td>1198270150042713</td>\n      <td>True</td>\n      <td>False</td>\n      <td>False</td>\n      <td>True</td>\n    </tr>\n  </tbody>\n</table>\n<p>566 rows × 8 columns</p>\n</div>"
     },
     "metadata": {},
     "execution_count": 23
    }
   ],
   "source": []
  },
  {
   "cell_type": "code",
   "execution_count": null,
   "metadata": {},
   "outputs": [],
   "source": []
  }
 ],
 "metadata": {
  "kernelspec": {
   "name": "Python 3.8.4 32-bit",
   "display_name": "Python 3.8.4 32-bit",
   "metadata": {
    "interpreter": {
     "hash": "7987c57931f2365761dc2a5f85e647decf73af6edff0c78918b92bfe7c5512ba"
    }
   }
  },
  "language_info": {
   "codemirror_mode": {
    "name": "ipython",
    "version": 3
   },
   "file_extension": ".py",
   "mimetype": "text/x-python",
   "name": "python",
   "nbconvert_exporter": "python",
   "pygments_lexer": "ipython3",
   "version": "3.8.4-final"
  }
 },
 "nbformat": 4,
 "nbformat_minor": 4
}