{
 "cells": [
  {
   "cell_type": "code",
   "execution_count": 1,
   "metadata": {},
   "outputs": [],
   "source": [
    "import pandas as pd\n",
    "import numpy as np"
   ]
  },
  {
   "source": [
    "ANALYSIS ON IDS"
   ],
   "cell_type": "markdown",
   "metadata": {}
  },
  {
   "cell_type": "code",
   "execution_count": 2,
   "metadata": {
    "tags": []
   },
   "outputs": [],
   "source": [
    "#import data\n",
    "IDS_data = pd.read_csv(r'C:\\Users\\user\\Desktop\\MOPA Reconciliation\\Bugesera\\Season client\\Season Clients Detailed_20200926-021956.csv')\n",
    "MOPA = pd.read_excel(r'C:\\Users\\user\\Desktop\\MOPA Reconciliation\\Bugesera\\MOPA data\\Gashora.xlsx')"
   ]
  },
  {
   "cell_type": "code",
   "execution_count": 3,
   "metadata": {},
   "outputs": [],
   "source": [
    " #Insert parameters\n",
    " Listofsectors = ['Gashora']"
   ]
  },
  {
   "cell_type": "code",
   "execution_count": 4,
   "metadata": {},
   "outputs": [
    {
     "output_type": "execute_result",
     "data": {
      "text/plain": "  GovDistrict GovSector SiteName      LastName     FirstName OAFID  \\\n0    Bugesera   Gashora  Biryogo      BIHOYIKI        Daniel  2206   \n1    Bugesera   Gashora  Biryogo      BIZIMANA        Joseph  2188   \n2    Bugesera   Gashora  Biryogo    DUSABIMANA  Marie jeanne  2213   \n3    Bugesera   Gashora  Biryogo      HABIMANA     Damascene  2537   \n4    Bugesera   Gashora  Biryogo  HATEGEKIMANA        Eduard  2201   \n\n         NationalID   DAP  UREA  NPK  PAN53  PAN691  SC403  SC637  WH403  \\\n0  1198480141881019   0.0   0.0  0.0    0.0     0.0    0.0    0.0    0.0   \n1               nan   5.0   5.0  0.0    0.0     0.0    0.0    0.0    2.0   \n2  1197870018581193  10.0  10.0  0.0    0.0     0.0    0.0    0.0    4.0   \n3  1198680055163043   5.0   5.0  0.0    0.0     0.0    0.0    0.0    2.0   \n4  1198980050525056   0.0   0.0  0.0    0.0     0.0    0.0    0.0    0.0   \n\n   WH505  WH605  \n0    0.0    0.0  \n1    0.0    0.0  \n2    0.0    0.0  \n3    0.0    0.0  \n4    0.0    0.0  ",
      "text/html": "<div>\n<style scoped>\n    .dataframe tbody tr th:only-of-type {\n        vertical-align: middle;\n    }\n\n    .dataframe tbody tr th {\n        vertical-align: top;\n    }\n\n    .dataframe thead th {\n        text-align: right;\n    }\n</style>\n<table border=\"1\" class=\"dataframe\">\n  <thead>\n    <tr style=\"text-align: right;\">\n      <th></th>\n      <th>GovDistrict</th>\n      <th>GovSector</th>\n      <th>SiteName</th>\n      <th>LastName</th>\n      <th>FirstName</th>\n      <th>OAFID</th>\n      <th>NationalID</th>\n      <th>DAP</th>\n      <th>UREA</th>\n      <th>NPK</th>\n      <th>PAN53</th>\n      <th>PAN691</th>\n      <th>SC403</th>\n      <th>SC637</th>\n      <th>WH403</th>\n      <th>WH505</th>\n      <th>WH605</th>\n    </tr>\n  </thead>\n  <tbody>\n    <tr>\n      <th>0</th>\n      <td>Bugesera</td>\n      <td>Gashora</td>\n      <td>Biryogo</td>\n      <td>BIHOYIKI</td>\n      <td>Daniel</td>\n      <td>2206</td>\n      <td>1198480141881019</td>\n      <td>0.0</td>\n      <td>0.0</td>\n      <td>0.0</td>\n      <td>0.0</td>\n      <td>0.0</td>\n      <td>0.0</td>\n      <td>0.0</td>\n      <td>0.0</td>\n      <td>0.0</td>\n      <td>0.0</td>\n    </tr>\n    <tr>\n      <th>1</th>\n      <td>Bugesera</td>\n      <td>Gashora</td>\n      <td>Biryogo</td>\n      <td>BIZIMANA</td>\n      <td>Joseph</td>\n      <td>2188</td>\n      <td>nan</td>\n      <td>5.0</td>\n      <td>5.0</td>\n      <td>0.0</td>\n      <td>0.0</td>\n      <td>0.0</td>\n      <td>0.0</td>\n      <td>0.0</td>\n      <td>2.0</td>\n      <td>0.0</td>\n      <td>0.0</td>\n    </tr>\n    <tr>\n      <th>2</th>\n      <td>Bugesera</td>\n      <td>Gashora</td>\n      <td>Biryogo</td>\n      <td>DUSABIMANA</td>\n      <td>Marie jeanne</td>\n      <td>2213</td>\n      <td>1197870018581193</td>\n      <td>10.0</td>\n      <td>10.0</td>\n      <td>0.0</td>\n      <td>0.0</td>\n      <td>0.0</td>\n      <td>0.0</td>\n      <td>0.0</td>\n      <td>4.0</td>\n      <td>0.0</td>\n      <td>0.0</td>\n    </tr>\n    <tr>\n      <th>3</th>\n      <td>Bugesera</td>\n      <td>Gashora</td>\n      <td>Biryogo</td>\n      <td>HABIMANA</td>\n      <td>Damascene</td>\n      <td>2537</td>\n      <td>1198680055163043</td>\n      <td>5.0</td>\n      <td>5.0</td>\n      <td>0.0</td>\n      <td>0.0</td>\n      <td>0.0</td>\n      <td>0.0</td>\n      <td>0.0</td>\n      <td>2.0</td>\n      <td>0.0</td>\n      <td>0.0</td>\n    </tr>\n    <tr>\n      <th>4</th>\n      <td>Bugesera</td>\n      <td>Gashora</td>\n      <td>Biryogo</td>\n      <td>HATEGEKIMANA</td>\n      <td>Eduard</td>\n      <td>2201</td>\n      <td>1198980050525056</td>\n      <td>0.0</td>\n      <td>0.0</td>\n      <td>0.0</td>\n      <td>0.0</td>\n      <td>0.0</td>\n      <td>0.0</td>\n      <td>0.0</td>\n      <td>0.0</td>\n      <td>0.0</td>\n      <td>0.0</td>\n    </tr>\n  </tbody>\n</table>\n</div>"
     },
     "metadata": {},
     "execution_count": 4
    }
   ],
   "source": [
    "#Preliminary info on IDS data on subsidized inputs\n",
    "SectorDf = IDS_data [IDS_data ['GovLocationParent'].isin(Listofsectors) ]\n",
    "SubsInputsdf = SectorDf[['GovLocationGrandParent','GovLocationParent','SiteName','LastName','FirstName','OAFID','NationalID','2021A_DAP kg','2021A_UREA kg','2021A_NPK 17 kg','2021A_Pan 53 kg','2021A_Pan 691 kg','2021A_SC 403 kg','2021A_SC 637 kg','2021A_WH 403 kg','2021A_WH 505 kg','2021A_WH 605 kg']]\n",
    "\n",
    "#Cleaning some IDS columns\n",
    "SubsInputsdf['NationalID'] =SubsInputsdf['NationalID'].astype(str).replace('\\.0', '', regex=True)\n",
    "SubsInputsdf['OAFID'] =SubsInputsdf['OAFID'].astype(str).replace('\\.0', '', regex=True)\n",
    "SubsInputsdf = SubsInputsdf.rename(columns={'GovLocationGrandParent':'GovDistrict','GovLocationParent':'GovSector','2021A_DAP kg':'DAP','2021A_NPK 17 kg':'NPK','2021A_Pan 53 kg':'PAN53', '2021A_Pan 691 kg':'PAN691', '2021A_SC 403 kg':'SC403','2021A_SC 637 kg':'SC637','2021A_UREA kg':'UREA', '2021A_WH 403 kg':'WH403','2021A_WH 505 kg':'WH505', '2021A_WH 605 kg':'WH605'})\n",
    "\n",
    "SubsInputsdf.head()"
   ]
  },
  {
   "source": [
    "ANALYSIS ON MOPA"
   ],
   "cell_type": "markdown",
   "metadata": {}
  },
  {
   "cell_type": "code",
   "execution_count": 6,
   "metadata": {},
   "outputs": [
    {
     "output_type": "execute_result",
     "data": {
      "text/plain": "Product        Name           Surname        NationalID  DAP  NPK  UREA  WH403\n0        ABAGIRINKA       ANNONCIATHA  1196970073902041  5.0  0.0   5.0    0.0\n1           ABIMANA           THERESE  1196870059445072  5.0  0.0   5.0    0.0\n2        AHOBANGEZE         CHRISTINE  1198470141927008  5.0  0.0   5.0    0.0\n3         AKARUHIJE  JEAN CHRISOSTOME  1198180114522023  5.0  5.0   5.0    0.0\n4           AKIMANA        BERANCILLA  1198270145874068  5.0  0.0   5.0    0.0",
      "text/html": "<div>\n<style scoped>\n    .dataframe tbody tr th:only-of-type {\n        vertical-align: middle;\n    }\n\n    .dataframe tbody tr th {\n        vertical-align: top;\n    }\n\n    .dataframe thead th {\n        text-align: right;\n    }\n</style>\n<table border=\"1\" class=\"dataframe\">\n  <thead>\n    <tr style=\"text-align: right;\">\n      <th>Product</th>\n      <th>Name</th>\n      <th>Surname</th>\n      <th>NationalID</th>\n      <th>DAP</th>\n      <th>NPK</th>\n      <th>UREA</th>\n      <th>WH403</th>\n    </tr>\n  </thead>\n  <tbody>\n    <tr>\n      <th>0</th>\n      <td>ABAGIRINKA</td>\n      <td>ANNONCIATHA</td>\n      <td>1196970073902041</td>\n      <td>5.0</td>\n      <td>0.0</td>\n      <td>5.0</td>\n      <td>0.0</td>\n    </tr>\n    <tr>\n      <th>1</th>\n      <td>ABIMANA</td>\n      <td>THERESE</td>\n      <td>1196870059445072</td>\n      <td>5.0</td>\n      <td>0.0</td>\n      <td>5.0</td>\n      <td>0.0</td>\n    </tr>\n    <tr>\n      <th>2</th>\n      <td>AHOBANGEZE</td>\n      <td>CHRISTINE</td>\n      <td>1198470141927008</td>\n      <td>5.0</td>\n      <td>0.0</td>\n      <td>5.0</td>\n      <td>0.0</td>\n    </tr>\n    <tr>\n      <th>3</th>\n      <td>AKARUHIJE</td>\n      <td>JEAN CHRISOSTOME</td>\n      <td>1198180114522023</td>\n      <td>5.0</td>\n      <td>5.0</td>\n      <td>5.0</td>\n      <td>0.0</td>\n    </tr>\n    <tr>\n      <th>4</th>\n      <td>AKIMANA</td>\n      <td>BERANCILLA</td>\n      <td>1198270145874068</td>\n      <td>5.0</td>\n      <td>0.0</td>\n      <td>5.0</td>\n      <td>0.0</td>\n    </tr>\n  </tbody>\n</table>\n</div>"
     },
     "metadata": {},
     "execution_count": 6
    }
   ],
   "source": [
    "#Cleaning MOPA data\n",
    "ColSplit = MOPA ['Requested Qty'].str.split(\" \", n = 2, expand = True)\n",
    "MOPA['Requested_qty'] = ColSplit[0].astype(float)\n",
    "MOPA['Paid_qty'] = MOPA['Paid Qty'].str.extract('(\\d+)').astype(float)\n",
    "MOPA['Product'] = MOPA['Product'].str.upper()\n",
    "MOPA = MOPA.rename(columns={'National Id':'NationalID'})\n",
    "MOPA['NationalID'] = MOPA['NationalID'].astype(str)\n",
    "MOPA['Product'] = MOPA['Product'].replace(['NPK 17:17:17'],['NPK'])\n",
    "MOPA_dataCols = MOPA[['Name','Surname','NationalID','Product','Paid_qty']]\n",
    "\n",
    "MOPA_table = pd.pivot_table(MOPA_dataCols, values='Paid_qty', index=['Name','Surname','NationalID'],columns=['Product'], aggfunc=np.sum).reset_index().fillna(0)\n",
    "\n",
    "MOPA_table.head()"
   ]
  },
  {
   "cell_type": "code",
   "execution_count": 7,
   "metadata": {},
   "outputs": [],
   "source": [
    "#Mactching subsidy input dataframe from season client to mopa table from SNS\n",
    "IDSvsMOPA = pd.merge(SubsInputsdf,MOPA_table,on='NationalID', how='outer')\n",
    "\n",
    "#cleaning export\n",
    "IDSvsMOPA['NationalID'] = \"'\"+ IDSvsMOPA['NationalID']\n",
    "path = r'C:\\Users\\user\\Desktop\\MOPA Reconciliation\\Bugesera\\MOPAvsIDS data'\n",
    "os.chdir(path)\n",
    "IDSvsMOPA.to_csv('Gashoratest.csv', index=False)"
   ]
  },
  {
   "cell_type": "code",
   "execution_count": null,
   "metadata": {},
   "outputs": [],
   "source": []
  }
 ],
 "metadata": {
  "kernelspec": {
   "name": "Python 3.8.4 32-bit",
   "display_name": "Python 3.8.4 32-bit",
   "metadata": {
    "interpreter": {
     "hash": "7987c57931f2365761dc2a5f85e647decf73af6edff0c78918b92bfe7c5512ba"
    }
   }
  },
  "language_info": {
   "codemirror_mode": {
    "name": "ipython",
    "version": 3
   },
   "file_extension": ".py",
   "mimetype": "text/x-python",
   "name": "python",
   "nbconvert_exporter": "python",
   "pygments_lexer": "ipython3",
   "version": "3.8.4-final"
  }
 },
 "nbformat": 4,
 "nbformat_minor": 4
}