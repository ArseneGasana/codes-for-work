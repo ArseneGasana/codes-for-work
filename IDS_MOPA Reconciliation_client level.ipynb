{
 "cells": [
  {
   "cell_type": "code",
   "execution_count": 1,
   "metadata": {},
   "outputs": [],
   "source": [
    "import pandas as pd\n",
    "import numpy as np\n",
    "import xlsxwriter as xlt"
   ]
  },
  {
   "source": [
    "ANALYSIS ON IDS"
   ],
   "cell_type": "markdown",
   "metadata": {}
  },
  {
   "cell_type": "code",
   "execution_count": 2,
   "metadata": {
    "tags": []
   },
   "outputs": [],
   "source": [
    "#import data\n",
    "IDS_data = pd.read_csv(r'C:\\Users\\user\\Desktop\\MOPA Reconciliation\\Bugesera\\Season client\\Season Clients Detailed_20200926-021956.csv')\n",
    "MOPA = pd.read_excel(r'C:\\Users\\user\\Desktop\\MOPA Reconciliation\\Bugesera\\MOPA data\\Bugesera MOPA data.xlsx')"
   ]
  },
  {
   "cell_type": "code",
   "execution_count": 3,
   "metadata": {},
   "outputs": [],
   "source": [
    "IDS_data['SiteID'] = IDS_data['DistrictName'] +'_'+ IDS_data['SiteName']\n",
    "IDS_data['SectorID'] = IDS_data['DistrictName'] +'_'+ IDS_data['GovLocationParent']\n",
    "MOPA['SiteID'] = MOPA['District'] +'_'+ MOPA['Sector']\n",
    "MOPA['SectorID'] = MOPA['District'] +'_'+ MOPA['Sector']"
   ]
  },
  {
   "cell_type": "code",
   "execution_count": 4,
   "metadata": {},
   "outputs": [],
   "source": [
    " #Insert parameters\n",
    "Listofsectors = []\n",
    "for sector in MOPA['SectorID'].unique().tolist():\n",
    "     Listofsectors.append(sector)"
   ]
  },
  {
   "cell_type": "code",
   "execution_count": 5,
   "metadata": {},
   "outputs": [],
   "source": [
    "#Preliminary info on IDS data on subsidized inputs\n",
    "\n",
    "SectorDf = IDS_data [IDS_data ['SectorID'].isin(Listofsectors)]\n",
    "SubsInputsdf = SectorDf[['GovLocationGrandParent','GovLocationParent','SiteName','LastName','FirstName','OAFID','NationalID','2021A_DAP kg','2021A_UREA kg','2021A_NPK 17 kg','2021A_Pan 53 kg','2021A_Pan 691 kg','2021A_SC 403 kg','2021A_SC 637 kg','2021A_WH 403 kg','2021A_WH 505 kg','2021A_WH 605 kg']]\n",
    "\n",
    "#Cleaning some IDS columns\n",
    "SubsInputsdf['NationalID'] =SubsInputsdf['NationalID'].astype(str).replace('\\.0', '', regex=True)\n",
    "SubsInputsdf['OAFID'] =SubsInputsdf['OAFID'].astype(str).replace('\\.0', '', regex=True)\n",
    "SubsInputsdf = SubsInputsdf.rename(columns={'GovLocationGrandParent':'GovDistrict','GovLocationParent':'GovSector','2021A_DAP kg':'DAP','2021A_NPK 17 kg':'NPK','2021A_Pan 53 kg':'PAN53', '2021A_Pan 691 kg':'PAN691', '2021A_SC 403 kg':'SC403','2021A_SC 637 kg':'SC637','2021A_UREA kg':'UREA', '2021A_WH 403 kg':'WH403','2021A_WH 505 kg':'WH505', '2021A_WH 605 kg':'WH605'})\n",
    "\n",
    "SubsInputsdf = SubsInputsdf.rename(columns={'DAP':'I_DAP','NPK':'I_NPK','PAN53':'I_PAN53', 'PAN691':'I_PAN691', 'SC403':'I_SC403','SC637':'I_SC637','UREA':'I_UREA', 'WH403':'I_WH403','WH505':'I_WH505', 'WH605':'I_WH605'})\n",
    "        "
   ]
  },
  {
   "source": [
    "ANALYSIS ON MOPA"
   ],
   "cell_type": "markdown",
   "metadata": {}
  },
  {
   "cell_type": "code",
   "execution_count": 6,
   "metadata": {},
   "outputs": [],
   "source": [
    "#Cleaning MOPA data\n",
    "ColSplit = MOPA ['Requested Qty'].str.split(\" \", n = 2, expand = True)\n",
    "MOPA['Requested_qty'] = ColSplit[0].astype(float)\n",
    "MOPA['Paid_qty'] = MOPA['Paid Qty'].str.extract('(\\d+)').astype(float)\n",
    "MOPA['Product'] = MOPA['Product'].str.upper()\n",
    "MOPA = MOPA.rename(columns={'National Id':'NationalID'})\n",
    "MOPA['NationalID'] = MOPA['NationalID'].astype(str)\n",
    "MOPA['Product'] = MOPA['Product'].replace(['NPK 17:17:17'],['NPK'])\n",
    "MOPA_dataCols = MOPA[['Name','Surname','NationalID','Product','Paid_qty']]\n",
    "Products = pd.DataFrame({'Product':['DAP', 'UREA', 'NPK', 'WH403','WH505','PAN53','SC403','SC637','WH605','PAN691']})\n",
    "MOPA_dataCols =pd.merge(MOPA_dataCols,Products, on='Product', how='outer').fillna(0).drop([0])\n",
    "\n",
    "\n",
    "MOPA_table = pd.pivot_table(MOPA_dataCols, values='Paid_qty', index=['Name','Surname','NationalID'],columns=['Product'], aggfunc=np.sum).reset_index().fillna(0)\n",
    "\n",
    "MOPA_table = MOPA_table.rename(columns={'DAP':'M_DAP','NPK':'M_NPK','PAN53':'M_PAN53', 'PAN691':'M_PAN691', 'SC403':'M_SC403','SC637':'M_SC637','UREA':'M_UREA', 'WH403':'M_WH403','WH505':'M_WH505', 'WH605':'M_WH605'})"
   ]
  },
  {
   "cell_type": "code",
   "execution_count": 7,
   "metadata": {},
   "outputs": [],
   "source": [
    " #COMBINING MOPA AND IDS\n",
    " IDS_MOPA = pd.merge(SubsInputsdf,MOPA_table, on='NationalID', how='left' ).drop(['Name','Surname'], axis=1)\n",
    " IDS_MOPA['SiteID'] = IDS_MOPA['GovDistrict'] +'_'+ IDS_MOPA['SiteName']\n",
    "\n",
    " #FINDING DIFFERENCES\n",
    "IDS_MOPA['#DAP'] = IDS_MOPA['I_DAP']-IDS_MOPA['M_DAP']\n",
    "IDS_MOPA['#NPK'] = IDS_MOPA['I_NPK']-IDS_MOPA['M_NPK']\n",
    "IDS_MOPA['#UREA'] = IDS_MOPA['I_UREA']-IDS_MOPA['M_UREA']\n",
    "IDS_MOPA['#SC403'] = IDS_MOPA['I_SC403']-IDS_MOPA['M_SC403']\n",
    "IDS_MOPA['#SC637'] = IDS_MOPA['I_SC637']-IDS_MOPA['M_SC637']\n",
    "IDS_MOPA['#PAN53'] = IDS_MOPA['I_PAN53'] - IDS_MOPA['M_PAN53']\n",
    "IDS_MOPA['#PAN691'] = IDS_MOPA['I_PAN691'] - IDS_MOPA['M_PAN691'] \n",
    "IDS_MOPA['#WH505'] = IDS_MOPA['I_WH505']-IDS_MOPA['M_WH505']\n",
    "IDS_MOPA['#WH403'] = IDS_MOPA['I_WH403']-IDS_MOPA['M_WH403']\n",
    "IDS_MOPA['#WH605'] = IDS_MOPA['I_WH605']-IDS_MOPA['M_WH605']"
   ]
  },
  {
   "cell_type": "code",
   "execution_count": 8,
   "metadata": {},
   "outputs": [],
   "source": [
    "MeltIDS_MOPA = IDS_MOPA.melt(['SiteID','GovDistrict', 'GovSector', 'SiteName', 'LastName', 'FirstName','OAFID', 'NationalID'],['I_DAP', 'I_UREA', 'I_NPK', 'I_PAN53','I_PAN691', 'I_SC403', 'I_SC637', 'I_WH403', 'I_WH505', 'I_WH605', 'M_DAP', 'M_NPK', 'M_PAN53','M_PAN691', 'M_SC403', 'M_SC637', 'M_UREA','M_WH403', 'M_WH505', 'M_WH605', '#DAP', '#NPK','#UREA', '#SC403', '#SC637','#PAN53', '#PAN691', '#WH505','#WH403', '#WH605'],'Product','Quantity').groupby('Product')['Quantity'].sum().reset_index()\n"
   ]
  },
  {
   "cell_type": "code",
   "execution_count": 14,
   "metadata": {},
   "outputs": [],
   "source": [
    "Site = IDS_MOPA[IDS_MOPA['SiteID']=='Bugesera_Biryogo']\n",
    "ProductsTaken = MeltIDS_MOPA[MeltIDS_MOPA['Quantity']!=0]\n",
    "ListOfproducts = sorted(ProductsTaken['Product'].tolist(), reverse=True)\n",
    "CustomList = ['I_DAP','I_UREA','I_NPK','I_PAN53','I_PAN691', 'I_SC403', 'I_SC637', 'I_WH403', 'I_WH505', 'I_WH605','M_DAP','M_UREA','M_NPK','M_PAN53','M_PAN691', 'M_SC403', 'M_SC637', 'M_WH403', 'M_WH505', 'M_WH605','#DAP','#UREA','#NPK','#PAN53','#PAN691', '#SC403', '#SC637', '#WH403', '#WH505', '#WH605']\n",
    "\n",
    "zipped_lists = zip(ListOfproducts, CustomList)\n",
    "sorted_zipped_lists = sorted(zipped_lists,reverse=True)\n",
    "sorted_list1 = [element for _, element in sorted_zipped_lists]\n",
    "sorted_list1\n",
    "OtherColumns = Site.columns.tolist()[:7]\n",
    "AllColumns = OtherColumns + sorted_list1\n",
    "SiteDf = Site[AllColumns]\n",
    "District = SiteDf['GovDistrict'].unique().tolist()[0]\n",
    "Sector = SiteDf['GovSector'].unique().tolist()[0]\n",
    "Site = SiteDf['SiteName'].unique().tolist()[0]\n",
    "FinalSiteDf = SiteDf.drop(['GovDistrict', 'GovSector', 'SiteName'], axis=1)\n",
    "FinalSiteDf = FinalSiteDf.fillna('-')"
   ]
  },
  {
   "cell_type": "code",
   "execution_count": 21,
   "metadata": {
    "tags": []
   },
   "outputs": [
    {
     "output_type": "error",
     "ename": "ValueError",
     "evalue": "list.remove(x): x not in list",
     "traceback": [
      "\u001b[1;31m---------------------------------------------------------------------------\u001b[0m",
      "\u001b[1;31mValueError\u001b[0m                                Traceback (most recent call last)",
      "\u001b[1;32m<ipython-input-21-957c738ffed4>\u001b[0m in \u001b[0;36m<module>\u001b[1;34m\u001b[0m\n\u001b[0;32m      1\u001b[0m \u001b[0mdiff\u001b[0m \u001b[1;33m=\u001b[0m \u001b[0mset\u001b[0m\u001b[1;33m(\u001b[0m\u001b[0mCustomList\u001b[0m\u001b[1;33m)\u001b[0m \u001b[1;33m-\u001b[0m \u001b[0mset\u001b[0m\u001b[1;33m(\u001b[0m\u001b[0mListOfproducts\u001b[0m\u001b[1;33m)\u001b[0m\u001b[1;33m\u001b[0m\u001b[1;33m\u001b[0m\u001b[0m\n\u001b[0;32m      2\u001b[0m \u001b[0mlistDiff\u001b[0m \u001b[1;33m=\u001b[0m \u001b[0mlist\u001b[0m\u001b[1;33m(\u001b[0m\u001b[0mdiff\u001b[0m\u001b[1;33m)\u001b[0m\u001b[1;33m\u001b[0m\u001b[1;33m\u001b[0m\u001b[0m\n\u001b[1;32m----> 3\u001b[1;33m \u001b[0mCustomList\u001b[0m\u001b[1;33m.\u001b[0m\u001b[0mremove\u001b[0m\u001b[1;33m(\u001b[0m\u001b[0mlistDiff\u001b[0m\u001b[1;33m)\u001b[0m\u001b[1;33m\u001b[0m\u001b[1;33m\u001b[0m\u001b[0m\n\u001b[0m\u001b[0;32m      4\u001b[0m \u001b[1;33m\u001b[0m\u001b[0m\n\u001b[0;32m      5\u001b[0m \u001b[0mCustomList\u001b[0m\u001b[1;33m\u001b[0m\u001b[1;33m\u001b[0m\u001b[0m\n",
      "\u001b[1;31mValueError\u001b[0m: list.remove(x): x not in list"
     ]
    }
   ],
   "source": [
    "diff = set(CustomList) - set(ListOfproducts)\n",
    "listDiff = list(diff)\n",
    "CustomList.remove(listDiff)\n",
    "\n",
    "CustomList"
   ]
  },
  {
   "cell_type": "code",
   "execution_count": 117,
   "metadata": {},
   "outputs": [],
   "source": [
    "save_name= 'gasana001' +'.xlsx'\n",
    "writer = pd.ExcelWriter(save_name, engine='xlsxwriter')\n",
    "\n",
    "import pandas.io.formats.excel\n",
    "pandas.io.formats.excel.header_style = None\n",
    "FinalSiteDf.to_excel(writer, header=True, sheet_name='site', startrow=8, index=False)\n",
    "\n",
    "\n",
    "\n",
    "workbook = writer.book\n",
    "workbook.formats[0].set_font_size(10)\n",
    "worksheet = writer.sheets['site']\n",
    "\n",
    "title_format = workbook.add_format({'bold': True,\n",
    "                                    'text_wrap':True, \n",
    "                                    'border':5,\n",
    "                                    'font_size':18}) \n",
    "worksheet.set_column(4, 18, 4)\n",
    "worksheet.set_column(0, 1, 14.5)\n",
    "worksheet.set_column(2, 2, 10.5)\n",
    "#worksheet.set_column(1, 2, 20)\n",
    "worksheet.set_column(3, 3, 15.5)\n",
    "\n",
    "worksheet.set_row(9, 24)\n",
    "\n",
    "title_format.set_align('center')\n",
    "title_format.set_align('vcenter')\n",
    "worksheet.merge_range('A2:H2','IHUZAMAKURU RYA IDS NA TMS RYA 2019 A\\n KUMENYESHA INYONGERAMUSARURO ZABUZE',title_format)\n",
    "\n",
    "id_format = workbook.add_format({'bold': True,\n",
    "                                    'text_wrap':True, \n",
    "                                    'font_size':12})\n",
    "id_format.set_align('top')\n",
    "id_format.set_align('left')\n",
    "\n",
    "head_format = workbook.add_format({'bold': True,\n",
    "                                    'text_wrap':True, \n",
    "                                    'font_size':10})\n",
    "head_format.set_rotation(90)\n",
    "for col_num, value in enumerate(FinalSiteDf.columns.values[4:]):\n",
    "    worksheet.write(8, col_num+4, value, head_format)\n",
    "\n",
    "\n",
    "\n",
    "\n",
    "worksheet.set_row(8, 50, head_format)\n",
    "\n",
    "#identity titles and their cell locations\n",
    "worksheet.merge_range('A4:B4', 'Akarere',id_format)\n",
    "worksheet.merge_range('A5:B5', 'Umurenge',id_format)\n",
    "worksheet.merge_range('A6:B6', \"Site\",id_format)\n",
    "\n",
    "\n",
    "#identity values and their cell locations\n",
    "worksheet.merge_range('C4:D4',District, id_format)\n",
    "worksheet.merge_range('C5:D5',Sector, id_format)\n",
    "worksheet.merge_range('C6:D6',Site, id_format)\n",
    "\n",
    "#add borders to the table\n",
    "border_format = workbook.add_format({'border':1})\n",
    "bor_last_row = str(len(FinalSiteDf['NationalID'])+8)\n",
    "bor_range = 'A9' + ':' + 'S'+ bor_last_row\n",
    "worksheet.conditional_format(bor_range, {'type':'no_blanks',\n",
    "                                        'format':border_format})\n",
    "\n",
    "writer.save()\n",
    "\n",
    "\n",
    "\n",
    "\n"
   ]
  },
  {
   "cell_type": "code",
   "execution_count": 111,
   "metadata": {},
   "outputs": [
    {
     "output_type": "execute_result",
     "data": {
      "text/plain": "array(['M_WH403', 'M_UREA', 'M_SC403', 'M_NPK', 'M_DAP', 'I_WH403',\n       'I_UREA', 'I_SC403', 'I_NPK', 'I_DAP', '#WH403', '#UREA', '#SC403',\n       '#NPK', '#DAP'], dtype=object)"
     },
     "metadata": {},
     "execution_count": 111
    }
   ],
   "source": [
    "FinalSiteDf.columns.values[4:]"
   ]
  },
  {
   "cell_type": "code",
   "execution_count": 80,
   "metadata": {},
   "outputs": [],
   "source": []
  },
  {
   "cell_type": "code",
   "execution_count": null,
   "metadata": {},
   "outputs": [],
   "source": []
  }
 ],
 "metadata": {
  "kernelspec": {
   "name": "Python 3.8.4 32-bit",
   "display_name": "Python 3.8.4 32-bit",
   "metadata": {
    "interpreter": {
     "hash": "7987c57931f2365761dc2a5f85e647decf73af6edff0c78918b92bfe7c5512ba"
    }
   }
  },
  "language_info": {
   "codemirror_mode": {
    "name": "ipython",
    "version": 3
   },
   "file_extension": ".py",
   "mimetype": "text/x-python",
   "name": "python",
   "nbconvert_exporter": "python",
   "pygments_lexer": "ipython3",
   "version": "3.8.4-final"
  }
 },
 "nbformat": 4,
 "nbformat_minor": 4
}