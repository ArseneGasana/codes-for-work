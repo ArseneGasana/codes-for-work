{
 "cells": [
  {
   "cell_type": "code",
   "execution_count": 1,
   "metadata": {},
   "outputs": [],
   "source": [
    "import pandas as pd\n",
    "import numpy as np"
   ]
  },
  {
   "source": [
    "ANALYSIS ON IDS"
   ],
   "cell_type": "markdown",
   "metadata": {}
  },
  {
   "cell_type": "code",
   "execution_count": 47,
   "metadata": {
    "tags": []
   },
   "outputs": [],
   "source": [
    "#import IDS data\n",
    "IDS_data = pd.read_csv(r'C:\\Users\\user\\Desktop\\MOPA Reconciliation\\Reconciliation week of 28 Sept\\Season Clients Detailed_20200928-093633.csv', usecols=['GovLocationGrandParent','GovLocationParent','SiteName','LastName','FirstName','OAFID','NationalID','2021A_DAP kg','2021A_NPK 17 kg','2021A_Pan 53 kg','2021A_Pan 691 kg','2021A_SC 403 kg','2021A_SC 637 kg','2021A_UREA kg','2021A_WH 403 kg','2021A_WH 505 kg','2021A_WH 605 kg'])\n"
   ]
  },
  {
   "cell_type": "code",
   "execution_count": 86,
   "metadata": {},
   "outputs": [],
   "source": [
    "MOPA = pd.read_excel(r'C:\\Users\\user\\Desktop\\MOPA Reconciliation\\Reconciliation week of 28 Sept\\MOPA data.xlsx')\n",
    "MOPA['SectorID']=MOPA['District']+'_'+MOPA['Sector']"
   ]
  },
  {
   "cell_type": "code",
   "execution_count": 87,
   "metadata": {},
   "outputs": [],
   "source": [
    "#Preliminary info on IDS data on subsidized inputs\n",
    "IDS_data['SectorID'] = IDS_data['GovLocationGrandParent']+'_'+IDS_data['GovLocationParent']\n",
    "SectorID = MOPA['SectorID'].unique().tolist()\n",
    "#GovLocationGrandParent = 'Bugesera'\n",
    "#GovLocationParent = 'Shyara'\n",
    "SectorDf = IDS_data [IDS_data ['SectorID'].isin(SectorID)]\n",
    "SectorClients = SectorDf.groupby('SectorID')['OAFID'].count()\n",
    "SectorDf = SectorDf.rename(columns={'GovLocationGrandParent':'GovDistrict', 'GovLocationParent':'Sector'})\n",
    "\n",
    "SubsInputsdf = SectorDf[['SectorID','GovDistrict','Sector','SiteName','LastName','FirstName','OAFID','NationalID','2021A_DAP kg','2021A_NPK 17 kg','2021A_Pan 53 kg','2021A_Pan 691 kg','2021A_SC 403 kg','2021A_SC 637 kg','2021A_UREA kg','2021A_WH 403 kg','2021A_WH 505 kg','2021A_WH 605 kg']]\n",
    "SubsInputsdf['NationalID'] =SubsInputsdf['NationalID'].astype(str).replace('\\.0', '', regex=True)\n",
    "\n",
    "SubsInputsMelt = SubsInputsdf.melt(['SectorID','GovDistrict','Sector','SiteName','LastName','FirstName','OAFID','NationalID'],['2021A_DAP kg','2021A_NPK 17 kg','2021A_Pan 53 kg','2021A_Pan 691 kg','2021A_SC 403 kg','2021A_SC 637 kg','2021A_UREA kg','2021A_WH 403 kg','2021A_WH 505 kg','2021A_WH 605 kg'], 'inputName','Quantity').fillna(0)\n",
    "\n",
    "#Cleaning some IDS columns\n",
    "SubsInputsMelt['NationalID'] =SubsInputsMelt['NationalID'].astype(str).replace('\\.0', '', regex=True)\n",
    "\n",
    "IDSInputsTxns = SubsInputsMelt[SubsInputsMelt['Quantity']>0]\n",
    "IDSInputsTxns ['inputName'] = IDSInputsTxns ['inputName'].replace(['2021A_DAP kg','2021A_NPK 17 kg','2021A_UREA kg','2021A_WH 403 kg','2021A_SC 403 kg','2021A_Pan 53 kg','2021A_Pan 691 kg','2021A_SC 637 kg','2021A_WH 505 kg','2021A_WH 605 kg'],['DAP','NPK','UREA','WH403','SC403','PAN53','PAN691','SC637','WH505','WH605'])\n",
    "IDSInputsTxns =IDSInputsTxns.rename(columns={'inputName':'Product'})\n",
    "IDSInputsTxns['ProductID'] = IDSInputsTxns['NationalID'] + IDSInputsTxns['Product']\n",
    "\n",
    "#Check if NID starts with 119\n",
    "SubsInputsdf['NIDStartsWith119'] = SubsInputsdf['NationalID'].str.startswith('119')\n",
    "NIDStartsWith119 = SubsInputsdf[SubsInputsdf['NIDStartsWith119']==False]\n",
    "NIDStartsWith119_sector = NIDStartsWith119.groupby('SectorID')['OAFID'].count().fillna(0).reset_index()\n",
    "\n",
    "#Check if NID contains either 700 for female and 800 for male\n",
    "SubsInputsdf['FemaleCheck'] = SubsInputsdf['NationalID'].str.contains(pat = '700')\n",
    "SubsInputsdf['maleCheck'] = SubsInputsdf['NationalID'].str.contains(pat = '800')\n",
    "SubsInputsdf['FalseGender'] = SubsInputsdf['FemaleCheck']== SubsInputsdf['maleCheck']\n",
    "FalseGender = SubsInputsdf[SubsInputsdf['FalseGender']==True]\n",
    "FalseGender_sector = FalseGender.groupby('SectorID')['OAFID'].count().fillna(0).reset_index()\n",
    "\n",
    "#Check if NID length is equal to 16\n",
    "SubsInputsdf['NIDLength'] = SubsInputsdf['NationalID'].str.len()==16\n",
    "NIDLength = SubsInputsdf[SubsInputsdf['NIDLength']==False]\n",
    "NIDLength_sector = NIDLength.groupby('SectorID')['OAFID'].count().fillna(0).reset_index()\n",
    "\n",
    "#FINAL NID FRAME\n",
    "x = pd.merge(NIDStartsWith119_sector,FalseGender_sector, on='SectorID', how='outer').reset_index()\n",
    "CheckOnNID = pd.merge(x,NIDLength_sector, on='SectorID',how='outer').fillna(0).reset_index()\n",
    "CheckOnNID['#Wrong NID'] = CheckOnNID['OAFID_x']+CheckOnNID['OAFID_y']+CheckOnNID['OAFID']\n",
    "\n",
    "#IDSClientsPerInput = IDSInputsTxns.groupby('Product')['OAFID'].count().reset_index()\n",
    "#IDSQtyPerInput = IDSInputsTxns.groupby('Product')['Quantity'].sum().reset_index()\n",
    "#SectorSummary = pd.merge(IDSClientsPerInput,IDSQtyPerInput,on='Product',how='outer').rename(columns={'OAFID':'#Clients'})\n",
    "#SectorSummary \n",
    "\n",
    "#(1) FINDING THE TOTAL NUMBER OF CLIENTS IN EACH SECTOR ON IDS\n",
    "TotalSectorClients = SectorDf.groupby('SectorID')['OAFID'].count().reset_index()\n",
    "\n",
    "#(2)FINDING THE TOTAL NUMBER OF WRONG NID\n",
    "ClientsWithWrongNID = CheckOnNID[['SectorID','#Wrong NID']]\n",
    "\n",
    "#(3)FINDING THE TOTAL QUANTITY ON IDS IN EACH SECTOR\n",
    "TotalKgsPerSector = pd.pivot_table(IDSInputsTxns, values='Quantity', index=['SectorID'],columns=['Product'], aggfunc='sum').reset_index().rename(columns={'DAP':'DAP I_kgs', 'NPK':'NPK I_kgs', 'SC403':'SC403 I_kgs' , 'UREA':'UREA I_kgs','WH403':'WH403 I_kgs','PAN53':'PAN53 I_kgs','PAN691':'PAN691 I_kgs','SC637':'SC637 I_kgs','WH505':'WH505 I_kgs'})\n",
    "\n",
    "#(4)TOTAL NUMBER OF CLIENTS WHO TOOK SPECIFIC PRODUCTS\n",
    "ClientsPerInputs = pd.pivot_table(IDSInputsTxns, values='OAFID', index=['SectorID'],columns=['Product'], aggfunc='count').reset_index().rename(columns={'DAP':'DAP I#', 'NPK':'NPK I#', 'SC403':'SC403 I#' , 'UREA':'UREA I#','WH403':'WH403 I#','PAN53':'PAN53 I#','PAN691':'PAN691 I#','SC637':'SC637 I#','WH505':'WH505 I#'})\n",
    "\n",
    "#(5)MATCHING THE NUMBER OF CLIENTS AND TOTAL KGS TAKEN\n",
    "IDS = pd.merge(pd.merge(ClientsPerInputs,TotalKgsPerSector, on='SectorID', how='outer' ),ClientsWithWrongNID, on='SectorID', how='outer').fillna(0)"
   ]
  },
  {
   "cell_type": "code",
   "execution_count": 88,
   "metadata": {
    "tags": []
   },
   "outputs": [
    {
     "output_type": "execute_result",
     "data": {
      "text/plain": "             SectorID  DAP I#  NPK I#  PAN53 I#  PAN691 I#  SC403 I#  \\\n0    Bugesera_Gashora  1528.0    50.0       0.0        0.0     474.0   \n1    Bugesera_Ngeruka   995.0    21.0       0.0        0.0     936.0   \n2     Bugesera_Shyara  2089.0   300.0       0.0        0.0    2060.0   \n3       Burera_Butaro  2536.0  1059.0       0.0     2814.0       0.0   \n4      Gatsibo_Gitoki  2081.0   308.0       1.0        0.0    2008.0   \n5    Gisagara_Gikonko  1150.0   117.0     316.0        0.0     777.0   \n6          Huye_Tumba   705.0   169.0       9.0        0.0     663.0   \n7      Kamonyi_Rukoma  1769.0   513.0       0.0        0.0    1582.0   \n8  Nyamasheke_Karambi  4089.0   772.0    1192.0        0.0       0.0   \n\n   SC637 I#  UREA I#  WH403 I#  WH505 I#  DAP I_kgs  NPK I_kgs  PAN53 I_kgs  \\\n0       0.0   1343.0    1179.0       0.0    15200.0      900.0          0.0   \n1       0.0    798.0       0.0       0.0    20270.0      510.0          0.0   \n2       0.0   1980.0       0.0       0.0    23105.0     4820.0          0.0   \n3       0.0   1670.0       0.0       0.0    45215.0    53215.0          0.0   \n4       0.0   2125.0       0.0       0.0    30795.0     5380.0         10.0   \n5       0.0   1133.0       0.0       0.0    15975.0     2415.0        880.0   \n6       0.0    766.0       0.0       0.0     8145.0     3110.0         27.0   \n7       0.0   1757.0       0.0       0.0    15025.0     4735.0          0.0   \n8      24.0   4014.0       0.0       1.0    68230.0    11780.0       2476.0   \n\n   PAN691 I_kgs  SC403 I_kgs  SC637 I_kgs  UREA I_kgs  WH403 I_kgs  \\\n0           0.0       1408.0          0.0     10622.5       3266.0   \n1           0.0       2918.0          0.0      8825.0          0.0   \n2           0.0       5157.0          0.0     17160.0          0.0   \n3       19658.0          0.0          0.0     18930.0          0.0   \n4           0.0       7936.0          0.0     25485.0          0.0   \n5           0.0       2754.0          0.0      9958.0          0.0   \n6           0.0       1560.0          0.0      8702.5          0.0   \n7           0.0       3507.0          0.0     13608.0          0.0   \n8           0.0          0.0         48.0     54688.5          0.0   \n\n   WH505 I_kgs  #Wrong NID  \n0          0.0       908.0  \n1          0.0       408.0  \n2          0.0      1079.0  \n3          0.0      1366.0  \n4          0.0      1313.0  \n5          0.0       226.0  \n6          0.0       113.0  \n7          0.0       256.0  \n8          2.0       470.0  ",
      "text/html": "<div>\n<style scoped>\n    .dataframe tbody tr th:only-of-type {\n        vertical-align: middle;\n    }\n\n    .dataframe tbody tr th {\n        vertical-align: top;\n    }\n\n    .dataframe thead th {\n        text-align: right;\n    }\n</style>\n<table border=\"1\" class=\"dataframe\">\n  <thead>\n    <tr style=\"text-align: right;\">\n      <th></th>\n      <th>SectorID</th>\n      <th>DAP I#</th>\n      <th>NPK I#</th>\n      <th>PAN53 I#</th>\n      <th>PAN691 I#</th>\n      <th>SC403 I#</th>\n      <th>SC637 I#</th>\n      <th>UREA I#</th>\n      <th>WH403 I#</th>\n      <th>WH505 I#</th>\n      <th>DAP I_kgs</th>\n      <th>NPK I_kgs</th>\n      <th>PAN53 I_kgs</th>\n      <th>PAN691 I_kgs</th>\n      <th>SC403 I_kgs</th>\n      <th>SC637 I_kgs</th>\n      <th>UREA I_kgs</th>\n      <th>WH403 I_kgs</th>\n      <th>WH505 I_kgs</th>\n      <th>#Wrong NID</th>\n    </tr>\n  </thead>\n  <tbody>\n    <tr>\n      <th>0</th>\n      <td>Bugesera_Gashora</td>\n      <td>1528.0</td>\n      <td>50.0</td>\n      <td>0.0</td>\n      <td>0.0</td>\n      <td>474.0</td>\n      <td>0.0</td>\n      <td>1343.0</td>\n      <td>1179.0</td>\n      <td>0.0</td>\n      <td>15200.0</td>\n      <td>900.0</td>\n      <td>0.0</td>\n      <td>0.0</td>\n      <td>1408.0</td>\n      <td>0.0</td>\n      <td>10622.5</td>\n      <td>3266.0</td>\n      <td>0.0</td>\n      <td>908.0</td>\n    </tr>\n    <tr>\n      <th>1</th>\n      <td>Bugesera_Ngeruka</td>\n      <td>995.0</td>\n      <td>21.0</td>\n      <td>0.0</td>\n      <td>0.0</td>\n      <td>936.0</td>\n      <td>0.0</td>\n      <td>798.0</td>\n      <td>0.0</td>\n      <td>0.0</td>\n      <td>20270.0</td>\n      <td>510.0</td>\n      <td>0.0</td>\n      <td>0.0</td>\n      <td>2918.0</td>\n      <td>0.0</td>\n      <td>8825.0</td>\n      <td>0.0</td>\n      <td>0.0</td>\n      <td>408.0</td>\n    </tr>\n    <tr>\n      <th>2</th>\n      <td>Bugesera_Shyara</td>\n      <td>2089.0</td>\n      <td>300.0</td>\n      <td>0.0</td>\n      <td>0.0</td>\n      <td>2060.0</td>\n      <td>0.0</td>\n      <td>1980.0</td>\n      <td>0.0</td>\n      <td>0.0</td>\n      <td>23105.0</td>\n      <td>4820.0</td>\n      <td>0.0</td>\n      <td>0.0</td>\n      <td>5157.0</td>\n      <td>0.0</td>\n      <td>17160.0</td>\n      <td>0.0</td>\n      <td>0.0</td>\n      <td>1079.0</td>\n    </tr>\n    <tr>\n      <th>3</th>\n      <td>Burera_Butaro</td>\n      <td>2536.0</td>\n      <td>1059.0</td>\n      <td>0.0</td>\n      <td>2814.0</td>\n      <td>0.0</td>\n      <td>0.0</td>\n      <td>1670.0</td>\n      <td>0.0</td>\n      <td>0.0</td>\n      <td>45215.0</td>\n      <td>53215.0</td>\n      <td>0.0</td>\n      <td>19658.0</td>\n      <td>0.0</td>\n      <td>0.0</td>\n      <td>18930.0</td>\n      <td>0.0</td>\n      <td>0.0</td>\n      <td>1366.0</td>\n    </tr>\n    <tr>\n      <th>4</th>\n      <td>Gatsibo_Gitoki</td>\n      <td>2081.0</td>\n      <td>308.0</td>\n      <td>1.0</td>\n      <td>0.0</td>\n      <td>2008.0</td>\n      <td>0.0</td>\n      <td>2125.0</td>\n      <td>0.0</td>\n      <td>0.0</td>\n      <td>30795.0</td>\n      <td>5380.0</td>\n      <td>10.0</td>\n      <td>0.0</td>\n      <td>7936.0</td>\n      <td>0.0</td>\n      <td>25485.0</td>\n      <td>0.0</td>\n      <td>0.0</td>\n      <td>1313.0</td>\n    </tr>\n    <tr>\n      <th>5</th>\n      <td>Gisagara_Gikonko</td>\n      <td>1150.0</td>\n      <td>117.0</td>\n      <td>316.0</td>\n      <td>0.0</td>\n      <td>777.0</td>\n      <td>0.0</td>\n      <td>1133.0</td>\n      <td>0.0</td>\n      <td>0.0</td>\n      <td>15975.0</td>\n      <td>2415.0</td>\n      <td>880.0</td>\n      <td>0.0</td>\n      <td>2754.0</td>\n      <td>0.0</td>\n      <td>9958.0</td>\n      <td>0.0</td>\n      <td>0.0</td>\n      <td>226.0</td>\n    </tr>\n    <tr>\n      <th>6</th>\n      <td>Huye_Tumba</td>\n      <td>705.0</td>\n      <td>169.0</td>\n      <td>9.0</td>\n      <td>0.0</td>\n      <td>663.0</td>\n      <td>0.0</td>\n      <td>766.0</td>\n      <td>0.0</td>\n      <td>0.0</td>\n      <td>8145.0</td>\n      <td>3110.0</td>\n      <td>27.0</td>\n      <td>0.0</td>\n      <td>1560.0</td>\n      <td>0.0</td>\n      <td>8702.5</td>\n      <td>0.0</td>\n      <td>0.0</td>\n      <td>113.0</td>\n    </tr>\n    <tr>\n      <th>7</th>\n      <td>Kamonyi_Rukoma</td>\n      <td>1769.0</td>\n      <td>513.0</td>\n      <td>0.0</td>\n      <td>0.0</td>\n      <td>1582.0</td>\n      <td>0.0</td>\n      <td>1757.0</td>\n      <td>0.0</td>\n      <td>0.0</td>\n      <td>15025.0</td>\n      <td>4735.0</td>\n      <td>0.0</td>\n      <td>0.0</td>\n      <td>3507.0</td>\n      <td>0.0</td>\n      <td>13608.0</td>\n      <td>0.0</td>\n      <td>0.0</td>\n      <td>256.0</td>\n    </tr>\n    <tr>\n      <th>8</th>\n      <td>Nyamasheke_Karambi</td>\n      <td>4089.0</td>\n      <td>772.0</td>\n      <td>1192.0</td>\n      <td>0.0</td>\n      <td>0.0</td>\n      <td>24.0</td>\n      <td>4014.0</td>\n      <td>0.0</td>\n      <td>1.0</td>\n      <td>68230.0</td>\n      <td>11780.0</td>\n      <td>2476.0</td>\n      <td>0.0</td>\n      <td>0.0</td>\n      <td>48.0</td>\n      <td>54688.5</td>\n      <td>0.0</td>\n      <td>2.0</td>\n      <td>470.0</td>\n    </tr>\n  </tbody>\n</table>\n</div>"
     },
     "metadata": {},
     "execution_count": 88
    }
   ],
   "source": [
    "IDS"
   ]
  },
  {
   "source": [
    "ANALYSIS ON MOPA"
   ],
   "cell_type": "markdown",
   "metadata": {}
  },
  {
   "cell_type": "code",
   "execution_count": 89,
   "metadata": {},
   "outputs": [],
   "source": [
    "#Cleaning MOPA data\n",
    "#ColSplit = MOPA ['Requested Qty'].str.split(\" \", n = 2, expand = True)\n",
    "#MOPA['Requested_qty'] = ColSplit[0].astype(float)\n",
    "MOPA['Paid_qty'] = MOPA['Paid Qty'].str.extract('(\\d+)').astype(float)\n",
    "MOPA['Product'] = MOPA['Product'].str.upper()\n",
    "MOPA = MOPA.rename(columns={'National Id':'NationalID'})\n",
    "MOPA['NationalID'] = MOPA['NationalID'].astype(str)\n",
    "MOPA['ProductID'] = MOPA['NationalID'] + MOPA['Product']\n",
    "MOPA['Product'] = MOPA['Product'].replace(['NPK 17:17:17'],['NPK'])\n",
    "MOPA_dataCols = MOPA[['District','SectorID','Name','Surname','NationalID','Product','Paid_qty']]"
   ]
  },
  {
   "cell_type": "code",
   "execution_count": 93,
   "metadata": {},
   "outputs": [],
   "source": [
    "MOPATotalKgsPerSector = pd.pivot_table(MOPA_dataCols, values='Paid_qty', index=['SectorID'],columns=['Product'], aggfunc='sum').reset_index().rename(columns={'DAP':'DAP M_kgs', 'NPK':'NPK M_kgs', 'SC403':'SC403 M_kgs' , 'UREA':'UREA M_kgs','WH403':'WH403 M_kgs','PAN691':'PAN691 M_kgs','SC637':'SC637 M_kgs','WH505':'WH505 M_kgs','PAN53':'PAN53 M_kgs','SC637':'SC637 M_kgs'}).fillna(0)\n",
    "\n",
    "MOPAClientsPerInputs = pd.pivot_table(MOPA_dataCols, values='NationalID', index=['SectorID'],columns=['Product'], aggfunc='count').reset_index().rename(columns={'DAP':'DAP M#', 'NPK':'NPK M#', 'SC403':'SC403 M#' , 'UREA':'UREA M#','WH403':'WH403 M#','PAN691':'PAN691 M#','SC637':'SC637 M#','WH505':'WH505 M#','PAN53':'PAN53 M#','SC637':'SC637 M#'}).fillna(0)\n",
    "\n",
    "MOPA_data = pd.merge(MOPATotalKgsPerSector,MOPAClientsPerInputs, on='SectorID', how='outer' )\n"
   ]
  },
  {
   "cell_type": "code",
   "execution_count": 95,
   "metadata": {},
   "outputs": [
    {
     "output_type": "execute_result",
     "data": {
      "text/plain": "Product            SectorID  DAP M_kgs  NPK M_kgs  PAN53 M_kgs  PAN691 M_kgs  \\\n0          Bugesera_Gashora     6689.0      530.0          0.0           0.0   \n1          Bugesera_Ngeruka    20342.0      570.0          0.0           0.0   \n2           Bugesera_Shyara    21717.0     4640.0          0.0           0.0   \n3             Burera_Butaro    38678.0    45529.0          0.0         113.0   \n4            Gatsibo_Gitoki    37049.0     5430.0          0.0           0.0   \n5           Gatsibo_Ngarama    61229.0     2325.0        351.0           0.0   \n6          Gisagara_Gikonko    20423.0     2760.0         18.0           0.0   \n7                Huye_Tumba    11375.0     3855.0          0.0           0.0   \n8           Kamonyi_Kayenzi     5295.0     3238.0          0.0           0.0   \n9            Kamonyi_Rukoma    22062.0     5460.0          0.0           0.0   \n10       Nyamasheke_Karambi    61600.0    10604.0         14.0           0.0   \n\nProduct  SC403 M_kgs  UREA M_kgs  WH403 M_kgs  WH505 M_kgs  DAP M#  NPK M#  \\\n0                0.0      5994.0         46.0          0.0   854.0    22.0   \n1               88.0      8966.0          0.0          0.0   980.0    19.0   \n2               84.0     16464.0          0.0          0.0  1936.0   283.0   \n3                0.0     16205.0          0.0          0.0  1982.0   739.0   \n4              150.0     31102.0          0.0          0.0  2331.0   312.0   \n5                0.0     58018.0          0.0          0.0  2426.0   117.0   \n6               14.0     12843.0          0.0          0.0  1483.0   143.0   \n7               99.0     12063.0          0.0          0.0   991.0   220.0   \n8                0.0      4425.0          0.0         60.0   630.0   236.0   \n9               66.0     20033.0          0.0          0.0  2556.0   562.0   \n10               0.0     48108.0          0.0          0.0  3805.0   688.0   \n\nProduct  PAN53 M#  PAN691 M#  SC403 M#  UREA M#  WH403 M#  WH505 M#  \n0             0.0        0.0       0.0    807.0      20.0       0.0  \n1             0.0        0.0      29.0    792.0       0.0       0.0  \n2             0.0        0.0      26.0   1838.0       0.0       0.0  \n3             0.0       19.0       0.0   1226.0       0.0       0.0  \n4             0.0        0.0      28.0   2376.0       0.0       0.0  \n5            42.0        0.0       0.0   2464.0       0.0       0.0  \n6             6.0        0.0       2.0   1458.0       0.0       0.0  \n7             0.0        0.0      35.0   1079.0       0.0       0.0  \n8             0.0        0.0       0.0    570.0       0.0      28.0  \n9             0.0        0.0      31.0   2542.0       0.0       0.0  \n10            6.0        0.0       0.0   3718.0       0.0       0.0  ",
      "text/html": "<div>\n<style scoped>\n    .dataframe tbody tr th:only-of-type {\n        vertical-align: middle;\n    }\n\n    .dataframe tbody tr th {\n        vertical-align: top;\n    }\n\n    .dataframe thead th {\n        text-align: right;\n    }\n</style>\n<table border=\"1\" class=\"dataframe\">\n  <thead>\n    <tr style=\"text-align: right;\">\n      <th>Product</th>\n      <th>SectorID</th>\n      <th>DAP M_kgs</th>\n      <th>NPK M_kgs</th>\n      <th>PAN53 M_kgs</th>\n      <th>PAN691 M_kgs</th>\n      <th>SC403 M_kgs</th>\n      <th>UREA M_kgs</th>\n      <th>WH403 M_kgs</th>\n      <th>WH505 M_kgs</th>\n      <th>DAP M#</th>\n      <th>NPK M#</th>\n      <th>PAN53 M#</th>\n      <th>PAN691 M#</th>\n      <th>SC403 M#</th>\n      <th>UREA M#</th>\n      <th>WH403 M#</th>\n      <th>WH505 M#</th>\n    </tr>\n  </thead>\n  <tbody>\n    <tr>\n      <th>0</th>\n      <td>Bugesera_Gashora</td>\n      <td>6689.0</td>\n      <td>530.0</td>\n      <td>0.0</td>\n      <td>0.0</td>\n      <td>0.0</td>\n      <td>5994.0</td>\n      <td>46.0</td>\n      <td>0.0</td>\n      <td>854.0</td>\n      <td>22.0</td>\n      <td>0.0</td>\n      <td>0.0</td>\n      <td>0.0</td>\n      <td>807.0</td>\n      <td>20.0</td>\n      <td>0.0</td>\n    </tr>\n    <tr>\n      <th>1</th>\n      <td>Bugesera_Ngeruka</td>\n      <td>20342.0</td>\n      <td>570.0</td>\n      <td>0.0</td>\n      <td>0.0</td>\n      <td>88.0</td>\n      <td>8966.0</td>\n      <td>0.0</td>\n      <td>0.0</td>\n      <td>980.0</td>\n      <td>19.0</td>\n      <td>0.0</td>\n      <td>0.0</td>\n      <td>29.0</td>\n      <td>792.0</td>\n      <td>0.0</td>\n      <td>0.0</td>\n    </tr>\n    <tr>\n      <th>2</th>\n      <td>Bugesera_Shyara</td>\n      <td>21717.0</td>\n      <td>4640.0</td>\n      <td>0.0</td>\n      <td>0.0</td>\n      <td>84.0</td>\n      <td>16464.0</td>\n      <td>0.0</td>\n      <td>0.0</td>\n      <td>1936.0</td>\n      <td>283.0</td>\n      <td>0.0</td>\n      <td>0.0</td>\n      <td>26.0</td>\n      <td>1838.0</td>\n      <td>0.0</td>\n      <td>0.0</td>\n    </tr>\n    <tr>\n      <th>3</th>\n      <td>Burera_Butaro</td>\n      <td>38678.0</td>\n      <td>45529.0</td>\n      <td>0.0</td>\n      <td>113.0</td>\n      <td>0.0</td>\n      <td>16205.0</td>\n      <td>0.0</td>\n      <td>0.0</td>\n      <td>1982.0</td>\n      <td>739.0</td>\n      <td>0.0</td>\n      <td>19.0</td>\n      <td>0.0</td>\n      <td>1226.0</td>\n      <td>0.0</td>\n      <td>0.0</td>\n    </tr>\n    <tr>\n      <th>4</th>\n      <td>Gatsibo_Gitoki</td>\n      <td>37049.0</td>\n      <td>5430.0</td>\n      <td>0.0</td>\n      <td>0.0</td>\n      <td>150.0</td>\n      <td>31102.0</td>\n      <td>0.0</td>\n      <td>0.0</td>\n      <td>2331.0</td>\n      <td>312.0</td>\n      <td>0.0</td>\n      <td>0.0</td>\n      <td>28.0</td>\n      <td>2376.0</td>\n      <td>0.0</td>\n      <td>0.0</td>\n    </tr>\n    <tr>\n      <th>5</th>\n      <td>Gatsibo_Ngarama</td>\n      <td>61229.0</td>\n      <td>2325.0</td>\n      <td>351.0</td>\n      <td>0.0</td>\n      <td>0.0</td>\n      <td>58018.0</td>\n      <td>0.0</td>\n      <td>0.0</td>\n      <td>2426.0</td>\n      <td>117.0</td>\n      <td>42.0</td>\n      <td>0.0</td>\n      <td>0.0</td>\n      <td>2464.0</td>\n      <td>0.0</td>\n      <td>0.0</td>\n    </tr>\n    <tr>\n      <th>6</th>\n      <td>Gisagara_Gikonko</td>\n      <td>20423.0</td>\n      <td>2760.0</td>\n      <td>18.0</td>\n      <td>0.0</td>\n      <td>14.0</td>\n      <td>12843.0</td>\n      <td>0.0</td>\n      <td>0.0</td>\n      <td>1483.0</td>\n      <td>143.0</td>\n      <td>6.0</td>\n      <td>0.0</td>\n      <td>2.0</td>\n      <td>1458.0</td>\n      <td>0.0</td>\n      <td>0.0</td>\n    </tr>\n    <tr>\n      <th>7</th>\n      <td>Huye_Tumba</td>\n      <td>11375.0</td>\n      <td>3855.0</td>\n      <td>0.0</td>\n      <td>0.0</td>\n      <td>99.0</td>\n      <td>12063.0</td>\n      <td>0.0</td>\n      <td>0.0</td>\n      <td>991.0</td>\n      <td>220.0</td>\n      <td>0.0</td>\n      <td>0.0</td>\n      <td>35.0</td>\n      <td>1079.0</td>\n      <td>0.0</td>\n      <td>0.0</td>\n    </tr>\n    <tr>\n      <th>8</th>\n      <td>Kamonyi_Kayenzi</td>\n      <td>5295.0</td>\n      <td>3238.0</td>\n      <td>0.0</td>\n      <td>0.0</td>\n      <td>0.0</td>\n      <td>4425.0</td>\n      <td>0.0</td>\n      <td>60.0</td>\n      <td>630.0</td>\n      <td>236.0</td>\n      <td>0.0</td>\n      <td>0.0</td>\n      <td>0.0</td>\n      <td>570.0</td>\n      <td>0.0</td>\n      <td>28.0</td>\n    </tr>\n    <tr>\n      <th>9</th>\n      <td>Kamonyi_Rukoma</td>\n      <td>22062.0</td>\n      <td>5460.0</td>\n      <td>0.0</td>\n      <td>0.0</td>\n      <td>66.0</td>\n      <td>20033.0</td>\n      <td>0.0</td>\n      <td>0.0</td>\n      <td>2556.0</td>\n      <td>562.0</td>\n      <td>0.0</td>\n      <td>0.0</td>\n      <td>31.0</td>\n      <td>2542.0</td>\n      <td>0.0</td>\n      <td>0.0</td>\n    </tr>\n    <tr>\n      <th>10</th>\n      <td>Nyamasheke_Karambi</td>\n      <td>61600.0</td>\n      <td>10604.0</td>\n      <td>14.0</td>\n      <td>0.0</td>\n      <td>0.0</td>\n      <td>48108.0</td>\n      <td>0.0</td>\n      <td>0.0</td>\n      <td>3805.0</td>\n      <td>688.0</td>\n      <td>6.0</td>\n      <td>0.0</td>\n      <td>0.0</td>\n      <td>3718.0</td>\n      <td>0.0</td>\n      <td>0.0</td>\n    </tr>\n  </tbody>\n</table>\n</div>"
     },
     "metadata": {},
     "execution_count": 95
    }
   ],
   "source": [
    "MOPA_data"
   ]
  },
  {
   "cell_type": "code",
   "execution_count": 96,
   "metadata": {},
   "outputs": [
    {
     "output_type": "error",
     "ename": "KeyError",
     "evalue": "'SC637 M#'",
     "traceback": [
      "\u001b[1;31m---------------------------------------------------------------------------\u001b[0m",
      "\u001b[1;31mKeyError\u001b[0m                                  Traceback (most recent call last)",
      "\u001b[1;32m~\\AppData\\Local\\Programs\\Python\\Python38-32\\lib\\site-packages\\pandas\\core\\indexes\\base.py\u001b[0m in \u001b[0;36mget_loc\u001b[1;34m(self, key, method, tolerance)\u001b[0m\n\u001b[0;32m   2645\u001b[0m             \u001b[1;32mtry\u001b[0m\u001b[1;33m:\u001b[0m\u001b[1;33m\u001b[0m\u001b[1;33m\u001b[0m\u001b[0m\n\u001b[1;32m-> 2646\u001b[1;33m                 \u001b[1;32mreturn\u001b[0m \u001b[0mself\u001b[0m\u001b[1;33m.\u001b[0m\u001b[0m_engine\u001b[0m\u001b[1;33m.\u001b[0m\u001b[0mget_loc\u001b[0m\u001b[1;33m(\u001b[0m\u001b[0mkey\u001b[0m\u001b[1;33m)\u001b[0m\u001b[1;33m\u001b[0m\u001b[1;33m\u001b[0m\u001b[0m\n\u001b[0m\u001b[0;32m   2647\u001b[0m             \u001b[1;32mexcept\u001b[0m \u001b[0mKeyError\u001b[0m\u001b[1;33m:\u001b[0m\u001b[1;33m\u001b[0m\u001b[1;33m\u001b[0m\u001b[0m\n",
      "\u001b[1;32mpandas\\_libs\\index.pyx\u001b[0m in \u001b[0;36mpandas._libs.index.IndexEngine.get_loc\u001b[1;34m()\u001b[0m\n",
      "\u001b[1;32mpandas\\_libs\\index.pyx\u001b[0m in \u001b[0;36mpandas._libs.index.IndexEngine.get_loc\u001b[1;34m()\u001b[0m\n",
      "\u001b[1;32mpandas\\_libs\\hashtable_class_helper.pxi\u001b[0m in \u001b[0;36mpandas._libs.hashtable.PyObjectHashTable.get_item\u001b[1;34m()\u001b[0m\n",
      "\u001b[1;32mpandas\\_libs\\hashtable_class_helper.pxi\u001b[0m in \u001b[0;36mpandas._libs.hashtable.PyObjectHashTable.get_item\u001b[1;34m()\u001b[0m\n",
      "\u001b[1;31mKeyError\u001b[0m: 'SC637 M#'",
      "\nDuring handling of the above exception, another exception occurred:\n",
      "\u001b[1;31mKeyError\u001b[0m                                  Traceback (most recent call last)",
      "\u001b[1;32m<ipython-input-96-179aaf63aaaf>\u001b[0m in \u001b[0;36m<module>\u001b[1;34m\u001b[0m\n\u001b[0;32m      8\u001b[0m \u001b[0mIDSvsMOPA\u001b[0m\u001b[1;33m[\u001b[0m\u001b[1;34m'Diff in PAN53#'\u001b[0m\u001b[1;33m]\u001b[0m \u001b[1;33m=\u001b[0m \u001b[0mIDSvsMOPA\u001b[0m\u001b[1;33m[\u001b[0m\u001b[1;34m'PAN53 I#'\u001b[0m\u001b[1;33m]\u001b[0m \u001b[1;33m-\u001b[0m \u001b[0mIDSvsMOPA\u001b[0m\u001b[1;33m[\u001b[0m\u001b[1;34m'PAN53 M#'\u001b[0m\u001b[1;33m]\u001b[0m\u001b[1;33m\u001b[0m\u001b[1;33m\u001b[0m\u001b[0m\n\u001b[0;32m      9\u001b[0m \u001b[0mIDSvsMOPA\u001b[0m\u001b[1;33m[\u001b[0m\u001b[1;34m'Diff in PAN691#'\u001b[0m\u001b[1;33m]\u001b[0m \u001b[1;33m=\u001b[0m \u001b[0mIDSvsMOPA\u001b[0m\u001b[1;33m[\u001b[0m\u001b[1;34m'PAN691 I#'\u001b[0m\u001b[1;33m]\u001b[0m \u001b[1;33m-\u001b[0m \u001b[0mIDSvsMOPA\u001b[0m\u001b[1;33m[\u001b[0m\u001b[1;34m'PAN691 M#'\u001b[0m\u001b[1;33m]\u001b[0m\u001b[1;33m\u001b[0m\u001b[1;33m\u001b[0m\u001b[0m\n\u001b[1;32m---> 10\u001b[1;33m \u001b[0mIDSvsMOPA\u001b[0m\u001b[1;33m[\u001b[0m\u001b[1;34m'Diff in SC637#'\u001b[0m\u001b[1;33m]\u001b[0m \u001b[1;33m=\u001b[0m \u001b[0mIDSvsMOPA\u001b[0m\u001b[1;33m[\u001b[0m\u001b[1;34m'SC637 I#'\u001b[0m\u001b[1;33m]\u001b[0m\u001b[1;33m-\u001b[0m\u001b[0mIDSvsMOPA\u001b[0m\u001b[1;33m[\u001b[0m\u001b[1;34m'SC637 M#'\u001b[0m\u001b[1;33m]\u001b[0m\u001b[1;33m\u001b[0m\u001b[1;33m\u001b[0m\u001b[0m\n\u001b[0m\u001b[0;32m     11\u001b[0m \u001b[0mIDSvsMOPA\u001b[0m\u001b[1;33m[\u001b[0m\u001b[1;34m'Diff in WH505#'\u001b[0m\u001b[1;33m]\u001b[0m \u001b[1;33m=\u001b[0m \u001b[0mIDSvsMOPA\u001b[0m\u001b[1;33m[\u001b[0m\u001b[1;34m'WH505 I#'\u001b[0m\u001b[1;33m]\u001b[0m\u001b[1;33m-\u001b[0m\u001b[0mIDSvsMOPA\u001b[0m\u001b[1;33m[\u001b[0m\u001b[1;34m'WH505 M#'\u001b[0m\u001b[1;33m]\u001b[0m\u001b[1;33m\u001b[0m\u001b[1;33m\u001b[0m\u001b[0m\n\u001b[0;32m     12\u001b[0m \u001b[1;33m\u001b[0m\u001b[0m\n",
      "\u001b[1;32m~\\AppData\\Local\\Programs\\Python\\Python38-32\\lib\\site-packages\\pandas\\core\\frame.py\u001b[0m in \u001b[0;36m__getitem__\u001b[1;34m(self, key)\u001b[0m\n\u001b[0;32m   2798\u001b[0m             \u001b[1;32mif\u001b[0m \u001b[0mself\u001b[0m\u001b[1;33m.\u001b[0m\u001b[0mcolumns\u001b[0m\u001b[1;33m.\u001b[0m\u001b[0mnlevels\u001b[0m \u001b[1;33m>\u001b[0m \u001b[1;36m1\u001b[0m\u001b[1;33m:\u001b[0m\u001b[1;33m\u001b[0m\u001b[1;33m\u001b[0m\u001b[0m\n\u001b[0;32m   2799\u001b[0m                 \u001b[1;32mreturn\u001b[0m \u001b[0mself\u001b[0m\u001b[1;33m.\u001b[0m\u001b[0m_getitem_multilevel\u001b[0m\u001b[1;33m(\u001b[0m\u001b[0mkey\u001b[0m\u001b[1;33m)\u001b[0m\u001b[1;33m\u001b[0m\u001b[1;33m\u001b[0m\u001b[0m\n\u001b[1;32m-> 2800\u001b[1;33m             \u001b[0mindexer\u001b[0m \u001b[1;33m=\u001b[0m \u001b[0mself\u001b[0m\u001b[1;33m.\u001b[0m\u001b[0mcolumns\u001b[0m\u001b[1;33m.\u001b[0m\u001b[0mget_loc\u001b[0m\u001b[1;33m(\u001b[0m\u001b[0mkey\u001b[0m\u001b[1;33m)\u001b[0m\u001b[1;33m\u001b[0m\u001b[1;33m\u001b[0m\u001b[0m\n\u001b[0m\u001b[0;32m   2801\u001b[0m             \u001b[1;32mif\u001b[0m \u001b[0mis_integer\u001b[0m\u001b[1;33m(\u001b[0m\u001b[0mindexer\u001b[0m\u001b[1;33m)\u001b[0m\u001b[1;33m:\u001b[0m\u001b[1;33m\u001b[0m\u001b[1;33m\u001b[0m\u001b[0m\n\u001b[0;32m   2802\u001b[0m                 \u001b[0mindexer\u001b[0m \u001b[1;33m=\u001b[0m \u001b[1;33m[\u001b[0m\u001b[0mindexer\u001b[0m\u001b[1;33m]\u001b[0m\u001b[1;33m\u001b[0m\u001b[1;33m\u001b[0m\u001b[0m\n",
      "\u001b[1;32m~\\AppData\\Local\\Programs\\Python\\Python38-32\\lib\\site-packages\\pandas\\core\\indexes\\base.py\u001b[0m in \u001b[0;36mget_loc\u001b[1;34m(self, key, method, tolerance)\u001b[0m\n\u001b[0;32m   2646\u001b[0m                 \u001b[1;32mreturn\u001b[0m \u001b[0mself\u001b[0m\u001b[1;33m.\u001b[0m\u001b[0m_engine\u001b[0m\u001b[1;33m.\u001b[0m\u001b[0mget_loc\u001b[0m\u001b[1;33m(\u001b[0m\u001b[0mkey\u001b[0m\u001b[1;33m)\u001b[0m\u001b[1;33m\u001b[0m\u001b[1;33m\u001b[0m\u001b[0m\n\u001b[0;32m   2647\u001b[0m             \u001b[1;32mexcept\u001b[0m \u001b[0mKeyError\u001b[0m\u001b[1;33m:\u001b[0m\u001b[1;33m\u001b[0m\u001b[1;33m\u001b[0m\u001b[0m\n\u001b[1;32m-> 2648\u001b[1;33m                 \u001b[1;32mreturn\u001b[0m \u001b[0mself\u001b[0m\u001b[1;33m.\u001b[0m\u001b[0m_engine\u001b[0m\u001b[1;33m.\u001b[0m\u001b[0mget_loc\u001b[0m\u001b[1;33m(\u001b[0m\u001b[0mself\u001b[0m\u001b[1;33m.\u001b[0m\u001b[0m_maybe_cast_indexer\u001b[0m\u001b[1;33m(\u001b[0m\u001b[0mkey\u001b[0m\u001b[1;33m)\u001b[0m\u001b[1;33m)\u001b[0m\u001b[1;33m\u001b[0m\u001b[1;33m\u001b[0m\u001b[0m\n\u001b[0m\u001b[0;32m   2649\u001b[0m         \u001b[0mindexer\u001b[0m \u001b[1;33m=\u001b[0m \u001b[0mself\u001b[0m\u001b[1;33m.\u001b[0m\u001b[0mget_indexer\u001b[0m\u001b[1;33m(\u001b[0m\u001b[1;33m[\u001b[0m\u001b[0mkey\u001b[0m\u001b[1;33m]\u001b[0m\u001b[1;33m,\u001b[0m \u001b[0mmethod\u001b[0m\u001b[1;33m=\u001b[0m\u001b[0mmethod\u001b[0m\u001b[1;33m,\u001b[0m \u001b[0mtolerance\u001b[0m\u001b[1;33m=\u001b[0m\u001b[0mtolerance\u001b[0m\u001b[1;33m)\u001b[0m\u001b[1;33m\u001b[0m\u001b[1;33m\u001b[0m\u001b[0m\n\u001b[0;32m   2650\u001b[0m         \u001b[1;32mif\u001b[0m \u001b[0mindexer\u001b[0m\u001b[1;33m.\u001b[0m\u001b[0mndim\u001b[0m \u001b[1;33m>\u001b[0m \u001b[1;36m1\u001b[0m \u001b[1;32mor\u001b[0m \u001b[0mindexer\u001b[0m\u001b[1;33m.\u001b[0m\u001b[0msize\u001b[0m \u001b[1;33m>\u001b[0m \u001b[1;36m1\u001b[0m\u001b[1;33m:\u001b[0m\u001b[1;33m\u001b[0m\u001b[1;33m\u001b[0m\u001b[0m\n",
      "\u001b[1;32mpandas\\_libs\\index.pyx\u001b[0m in \u001b[0;36mpandas._libs.index.IndexEngine.get_loc\u001b[1;34m()\u001b[0m\n",
      "\u001b[1;32mpandas\\_libs\\index.pyx\u001b[0m in \u001b[0;36mpandas._libs.index.IndexEngine.get_loc\u001b[1;34m()\u001b[0m\n",
      "\u001b[1;32mpandas\\_libs\\hashtable_class_helper.pxi\u001b[0m in \u001b[0;36mpandas._libs.hashtable.PyObjectHashTable.get_item\u001b[1;34m()\u001b[0m\n",
      "\u001b[1;32mpandas\\_libs\\hashtable_class_helper.pxi\u001b[0m in \u001b[0;36mpandas._libs.hashtable.PyObjectHashTable.get_item\u001b[1;34m()\u001b[0m\n",
      "\u001b[1;31mKeyError\u001b[0m: 'SC637 M#'"
     ]
    }
   ],
   "source": [
    "#COMBINING IDS AND MOPA DATA\n",
    "IDSvsMOPA = pd.merge(IDS,MOPA_data, on='SectorID',how='outer')\n",
    "IDSvsMOPA['Diff in DAP#'] = IDSvsMOPA['DAP I#']-IDSvsMOPA['DAP M#']\n",
    "IDSvsMOPA['Diff in NPK#'] = IDSvsMOPA['NPK I#']-IDSvsMOPA['NPK M#']\n",
    "IDSvsMOPA['Diff in UREA#'] = IDSvsMOPA['UREA I#']-IDSvsMOPA['UREA M#']\n",
    "#IDSvsMOPA['Diff in SC403#'] = IDSvsMOPA['SC403 I#']-IDSvsMOPA['SC403 M#']\n",
    "IDSvsMOPA['Diff in WH403#'] = IDSvsMOPA['WH403 I#']-IDSvsMOPA['WH403 M#']\n",
    "IDSvsMOPA['Diff in PAN53#'] = IDSvsMOPA['PAN53 I#'] - IDSvsMOPA['PAN53 M#']\n",
    "IDSvsMOPA['Diff in PAN691#'] = IDSvsMOPA['PAN691 I#'] - IDSvsMOPA['PAN691 M#'] \n",
    "IDSvsMOPA['Diff in SC637#'] = IDSvsMOPA['SC637 I#']-IDSvsMOPA['SC637 M#']\n",
    "IDSvsMOPA['Diff in WH505#'] = IDSvsMOPA['WH505 I#']-IDSvsMOPA['WH505 M#']\n",
    "\n",
    "IDSvsMOPA['Diff in DAP Kgs'] = IDSvsMOPA['DAP I_kgs']-IDSvsMOPA['DAP M_kgs']\n",
    "IDSvsMOPA['Diff in NPK Kgs'] = IDSvsMOPA['NPK I_kgs']-IDSvsMOPA['NPK M_kgs']\n",
    "IDSvsMOPA['Diff in UREA Kgs'] = IDSvsMOPA['UREA I_kgs']-IDSvsMOPA['UREA M_kgs']\n",
    "IDSvsMOPA['Diff in SC403 Kgs'] = IDSvsMOPA['SC403 I_kgs']-IDSvsMOPA['SC403 M_kgs']\n",
    "IDSvsMOPA['Diff in WH403 Kgs'] = IDSvsMOPA['WH403 I_kgs']-IDSvsMOPA['WH403 M_kgs']\n",
    "#IDSvsMOPA['Diff in SC403#'] = IDSvsMOPA['SC403 I#']-IDSvsMOPA['SC403 M#']\n",
    "#IDSvsMOPA['Diff in PAN53 Kgs'] = IDSvsMOPA['PAN53 I_kgs'] - IDSvsMOPA['PAN53 M_kgs']\n",
    "IDSvsMOPA['Diff in PAN691 Kgs'] = IDSvsMOPA['PAN691 I_kgs'] - IDSvsMOPA['PAN691 M_kgs'] \n",
    "IDSvsMOPA['Diff in SC637 Kgs'] = IDSvsMOPA['SC637 I_kgs']-IDSvsMOPA['SC637 M_kgs']\n",
    "IDSvsMOPA['Diff in WH505 Kgs'] = IDSvsMOPA['WH505 I_kgs']-IDSvsMOPA['WH505 M_kgs']\n",
    "\n",
    "\n",
    "\n",
    "IDSvsMOPA.to_excel('ArseneMOPA4.xlsx')\n"
   ]
  },
  {
   "cell_type": "code",
   "execution_count": 61,
   "metadata": {},
   "outputs": [
    {
     "output_type": "execute_result",
     "data": {
      "text/plain": "array(['UREA', 'DAP', 'NPK', 'WH403', 'SC403'], dtype=object)"
     },
     "metadata": {},
     "execution_count": 61
    }
   ],
   "source": [
    "MOPA_dataCols['Product'].unique()"
   ]
  },
  {
   "cell_type": "code",
   "execution_count": 73,
   "metadata": {},
   "outputs": [
    {
     "output_type": "execute_result",
     "data": {
      "text/plain": "Index(['SectorID', 'DAP I#', 'NPK I#', 'PAN53 I#', 'PAN691 I#', 'SC403 I#',\n       'SC637 I#', 'UREA I#', 'WH403 I#', 'WH505 I#', 'DAP I_kgs', 'NPK I_kgs',\n       'PAN53 I_kgs', 'PAN691 I_kgs', 'SC403 I_kgs', 'SC637 I_kgs',\n       'UREA I_kgs', 'WH403 I_kgs', 'WH505 I_kgs', '#Wrong NID', 'DAP M_kgs',\n       'NPK M_kgs', 'PAN53 M_kgs', 'PAN691 M_kgs', 'PRODUCT_x', 'SC403 M_kgs',\n       'UREA M_kgs', 'WH403 M_kgs', 'WH505 M_kgs', 'DAP M#', 'NPK M#',\n       'PAN53 M#', 'PAN691 M#', 'PRODUCT_y', 'SC403 M#', 'UREA M#', 'WH403 M#',\n       'WH505 M#', 'Diff in DAP#', 'Diff in NPK#', 'Diff in UREA#',\n       'Diff in WH403#', 'Diff in PAN53#', 'Diff in PAN691#'],\n      dtype='object')"
     },
     "metadata": {},
     "execution_count": 73
    }
   ],
   "source": [
    "IDSvsMOPA.columns"
   ]
  },
  {
   "cell_type": "code",
   "execution_count": null,
   "metadata": {
    "tags": []
   },
   "outputs": [],
   "source": [
    "#Preliminary info on IDS data on subsidized inputs\n",
    "\n",
    "ClientsqtyPerInput =MOPA_dataCols.groupby('Product')['Requested_qty','Paid_qty'].sum().reset_index()\n",
    "ClientsNumPerInput = MOPA_dataCols.groupby('Product')['NationalID'].count().reset_index()\n",
    "\n",
    "#Number of clients who took each input in mopa and the total quantity taken per each input\n",
    "SummaryMOPA = pd.merge(ClientsqtyPerInput,ClientsNumPerInput,on='Product', how='outer').rename(columns={'NationalID':'#Clients'})\n",
    "SummaryMOPA['Product'] = SummaryMOPA['Product'].replace(['NPK 17:17:17'],['NPK'])\n",
    "SummaryMOPA"
   ]
  },
  {
   "cell_type": "code",
   "execution_count": null,
   "metadata": {},
   "outputs": [],
   "source": [
    "#Other data on IDS\n",
    "TotalMOPAClients = MOPA['NationalID'].nunique()\n",
    "#Transactions\n",
    "TotalMOPATxn = MOPA['NationalID'].count()"
   ]
  },
  {
   "source": [
    "MATCHING IDS TO MOPA "
   ],
   "cell_type": "markdown",
   "metadata": {}
  },
  {
   "cell_type": "code",
   "execution_count": null,
   "metadata": {},
   "outputs": [],
   "source": [
    " MOPAvsIDS = pd.merge(SectorSummary,SummaryMOPA,on='Product',how='outer')\n",
    " MOPAvsIDS['Difference In #Clients'] = MOPAvsIDS['#Clients_x'] - MOPAvsIDS['#Clients_y']\n",
    " MOPAvsIDS['Difference In qty'] = MOPAvsIDS['Quantity'] - MOPAvsIDS['Paid_qty']\n",
    " MOPAvsIDS"
   ]
  },
  {
   "source": [
    "CLIENT LEVEL CHECK"
   ],
   "cell_type": "markdown",
   "metadata": {}
  },
  {
   "cell_type": "code",
   "execution_count": null,
   "metadata": {},
   "outputs": [],
   "source": [
    "IDSInputsTxns = IDSInputsTxns.rename(columns={'NationalID':'IDS_NationalID','Product':'IDS_Product','Quantity':'IDS_Quantity','GovLocationParent':'GovSector','GovLocationGrandParent':'GovDistrict'})\n",
    "IDSInputsTxns['SiteID'] = IDSInputsTxns['GovSector']+IDSInputsTxns['SiteName']\n",
    "MOPAInputsTxns = MOPA[['Name', 'Surname', 'NationalID','Product','Paid_qty','ProductID']]\n",
    "MOPAInputsTxns = MOPAInputsTxns.rename(columns={'NationalID':'SNS_NationalID','Product':'SNS_Product','Paid_qty':'SNS_Quantity'})\n",
    "IDSvsMOPA_Clients = pd.merge(IDSInputsTxns,MOPAInputsTxns,on='ProductID', how='outer')\n",
    "IDSvsMOPA_Clients['Match'] = IDSvsMOPA_Clients['IDS_Quantity'] == IDSvsMOPA_Clients['SNS_Quantity']\n",
    "\n",
    "\n",
    "IDSvsMOPA_Clients['IDS_NationalID'] = \"'\"+ IDSvsMOPA_Clients['IDS_NationalID']\n",
    "IDSvsMOPA_Clients['SNS_NationalID'] = \"'\"+ IDSvsMOPA_Clients['SNS_NationalID']\n",
    "path = r'C:\\Users\\user\\Desktop\\MOPA Reconciliation\\Bugesera\\MOPAvsIDS data'\n",
    "os.chdir(path)\n",
    "IDSvsMOPA_Clients.to_csv('Shyara.csv', index=False)"
   ]
  },
  {
   "cell_type": "code",
   "execution_count": null,
   "metadata": {
    "tags": []
   },
   "outputs": [],
   "source": [
    " "
   ]
  },
  {
   "cell_type": "code",
   "execution_count": null,
   "metadata": {},
   "outputs": [],
   "source": [
    "#clients\n",
    "TotalClientsOnMOPA_IDS = IDSvsMOPA_Clients['OAFID'].nunique()\n",
    "\n",
    "#Transactions\n",
    "MatchingTxn = IDSvsMOPA_Clients[IDSvsMOPA_Clients['Match']==True]['OAFID'].count()\n",
    "NotMatchingTXn = IDSvsMOPA_Clients[IDSvsMOPA_Clients['Match']==False]['OAFID'].count()\n",
    "OnIDSNotInMOPA = IDSvsMOPA_Clients[IDSvsMOPA_Clients['Paid_qty'].isna()]"
   ]
  },
  {
   "cell_type": "code",
   "execution_count": null,
   "metadata": {},
   "outputs": [],
   "source": []
  },
  {
   "cell_type": "code",
   "execution_count": null,
   "metadata": {
    "tags": []
   },
   "outputs": [],
   "source": [
    "#Print clients\n",
    "print('Total clients on IDS:',TotalIDSClients)\n",
    "print('Total clients in MOPA:',TotalMOPAClients)\n",
    "print('Total clients on IDS_MOPA df:',TotalClientsOnMOPA_IDS )\n",
    "\n",
    "\n",
    "#Transactions\n",
    "print('Total Txn on IDS:',IDSTotalTxn)\n",
    "print('Total Txn in MOPA:',TotalMOPATxn)\n",
    "print('Total Txn IDS match MOPA:',MatchingTxn)\n",
    "print('Total Txn IDS dont match MOPA:',NotMatchingTXn)"
   ]
  },
  {
   "cell_type": "code",
   "execution_count": null,
   "metadata": {},
   "outputs": [],
   "source": [
    "NIDCheck = IDSvsMOPA_Clients[['LastName','FirstName','OAFID','NationalID_x']]\n",
    "NIDCheck['NIDStartsWith'] = NIDCheck['NationalID_x'].str.startswith('119')\n",
    "NIDCheck['FemaleCheck'] = NIDCheck['NationalID_x'].str.contains(pat = '700')\n",
    "NIDCheck['maleCheck'] = NIDCheck['NationalID_x'].str.contains(pat = '800')\n",
    "NIDCheck['GenderCheck'] = NIDCheck['FemaleCheck']== NIDCheck['maleCheck']"
   ]
  },
  {
   "cell_type": "code",
   "execution_count": null,
   "metadata": {},
   "outputs": [],
   "source": []
  },
  {
   "cell_type": "code",
   "execution_count": null,
   "metadata": {},
   "outputs": [],
   "source": []
  }
 ],
 "metadata": {
  "kernelspec": {
   "name": "Python 3.8.4 32-bit",
   "display_name": "Python 3.8.4 32-bit",
   "metadata": {
    "interpreter": {
     "hash": "7987c57931f2365761dc2a5f85e647decf73af6edff0c78918b92bfe7c5512ba"
    }
   }
  },
  "language_info": {
   "codemirror_mode": {
    "name": "ipython",
    "version": 3
   },
   "file_extension": ".py",
   "mimetype": "text/x-python",
   "name": "python",
   "nbconvert_exporter": "python",
   "pygments_lexer": "ipython3",
   "version": "3.8.4-final"
  }
 },
 "nbformat": 4,
 "nbformat_minor": 4
}