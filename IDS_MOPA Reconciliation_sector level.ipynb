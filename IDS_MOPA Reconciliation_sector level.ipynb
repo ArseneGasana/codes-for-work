{
 "cells": [
  {
   "cell_type": "code",
   "execution_count": 9,
   "metadata": {},
   "outputs": [],
   "source": [
    "import pandas as pd\n",
    "import numpy as np\n",
    "import os"
   ]
  },
  {
   "source": [
    "ANALYSIS ON IDS"
   ],
   "cell_type": "markdown",
   "metadata": {}
  },
  {
   "cell_type": "code",
   "execution_count": 10,
   "metadata": {
    "tags": []
   },
   "outputs": [],
   "source": [
    "#import IDS data\n",
    "IDS_data = pd.read_csv(r'C:\\Users\\user\\Desktop\\MOPA Reconciliation\\Reconciliation week of 28 Sept\\Season Clients Detailed_20200928-093633.csv', usecols=['GovLocationGrandParent','GovLocationParent','SiteName','LastName','FirstName','OAFID','NationalID','2021A_DAP kg','2021A_NPK 17 kg','2021A_Pan 53 kg','2021A_Pan 691 kg','2021A_SC 403 kg','2021A_SC 637 kg','2021A_UREA kg','2021A_WH 403 kg','2021A_WH 505 kg','2021A_WH 605 kg'])\n"
   ]
  },
  {
   "cell_type": "code",
   "execution_count": 11,
   "metadata": {},
   "outputs": [],
   "source": [
    "MOPA = pd.read_excel(r'C:\\Users\\user\\Desktop\\MOPA Reconciliation\\Reconciliation week of 28 Sept\\MOPA data.xlsx')\n",
    "MOPA['SectorID']=MOPA['District']+'_'+MOPA['Sector']"
   ]
  },
  {
   "cell_type": "code",
   "execution_count": 12,
   "metadata": {},
   "outputs": [],
   "source": [
    "#Preliminary info on IDS data on subsidized inputs\n",
    "IDS_data['SectorID'] = IDS_data['GovLocationGrandParent']+'_'+IDS_data['GovLocationParent']\n",
    "SectorID = MOPA['SectorID'].unique().tolist()\n",
    "#GovLocationGrandParent = 'Bugesera'\n",
    "#GovLocationParent = 'Shyara'\n",
    "SectorDf = IDS_data [IDS_data ['SectorID'].isin(SectorID)]\n",
    "SectorClients = SectorDf.groupby('SectorID')['OAFID'].count()\n",
    "SectorDf = SectorDf.rename(columns={'GovLocationGrandParent':'GovDistrict', 'GovLocationParent':'Sector'})\n",
    "\n",
    "SubsInputsdf = SectorDf[['SectorID','GovDistrict','Sector','SiteName','LastName','FirstName','OAFID','NationalID','2021A_DAP kg','2021A_NPK 17 kg','2021A_UREA kg','2021A_Pan 53 kg','2021A_Pan 691 kg','2021A_SC 403 kg','2021A_SC 637 kg','2021A_WH 403 kg','2021A_WH 505 kg','2021A_WH 605 kg']]\n",
    "SubsInputsdf['NationalID'] =SubsInputsdf['NationalID'].astype(str).replace('\\.0', '', regex=True)\n",
    "\n",
    "SubsInputsMelt = SubsInputsdf.melt(['SectorID','GovDistrict','Sector','SiteName','LastName','FirstName','OAFID','NationalID'],['2021A_DAP kg','2021A_NPK 17 kg','2021A_UREA kg','2021A_Pan 53 kg','2021A_Pan 691 kg','2021A_SC 403 kg','2021A_SC 637 kg','2021A_WH 403 kg','2021A_WH 505 kg','2021A_WH 605 kg'], 'inputName','Quantity').fillna(0)\n",
    "\n",
    "#Cleaning some IDS columns\n",
    "SubsInputsMelt['NationalID'] =SubsInputsMelt['NationalID'].astype(str).replace('\\.0', '', regex=True)\n",
    "\n",
    "IDSInputsTxns = SubsInputsMelt[SubsInputsMelt['Quantity']>0]\n",
    "IDSInputsTxns ['inputName'] = IDSInputsTxns ['inputName'].replace(['2021A_DAP kg','2021A_NPK 17 kg','2021A_UREA kg','2021A_WH 403 kg','2021A_SC 403 kg','2021A_Pan 53 kg','2021A_Pan 691 kg','2021A_SC 637 kg','2021A_WH 505 kg','2021A_WH 605 kg'],['DAP','NPK','UREA','WH403','SC403','PAN53','PAN691','SC637','WH505','WH605'])\n",
    "IDSInputsTxns =IDSInputsTxns.rename(columns={'inputName':'Product'})\n",
    "IDSInputsTxns['ProductID'] = IDSInputsTxns['NationalID'] + IDSInputsTxns['Product']\n",
    "Products = pd.DataFrame({'Product':['DAP', 'UREA', 'NPK', 'WH403','WH505','PAN53','SC403','SC637','WH605','PAN691']})\n",
    "IDSInputsTxns = pd.merge(IDSInputsTxns,Products, on='Product', how='outer').fillna(0)\n",
    "\n",
    "#Check if NID starts with 119\n",
    "SubsInputsdf['NIDStartsWith119'] = SubsInputsdf['NationalID'].str.startswith('119')\n",
    "NIDStartsWith119 = SubsInputsdf[SubsInputsdf['NIDStartsWith119']==False]\n",
    "NIDStartsWith119_sector = NIDStartsWith119.groupby('SectorID')['OAFID'].count().fillna(0).reset_index()\n",
    "\n",
    "#Check if NID contains either 700 for female and 800 for male\n",
    "SubsInputsdf['FemaleCheck'] = SubsInputsdf['NationalID'].str.contains(pat = '700')\n",
    "SubsInputsdf['maleCheck'] = SubsInputsdf['NationalID'].str.contains(pat = '800')\n",
    "SubsInputsdf['FalseGender'] = SubsInputsdf['FemaleCheck']== SubsInputsdf['maleCheck']\n",
    "FalseGender = SubsInputsdf[SubsInputsdf['FalseGender']==True]\n",
    "FalseGender_sector = FalseGender.groupby('SectorID')['OAFID'].count().fillna(0).reset_index()\n",
    "\n",
    "#Check if NID length is equal to 16\n",
    "SubsInputsdf['NIDLength'] = SubsInputsdf['NationalID'].str.len()==16\n",
    "NIDLength = SubsInputsdf[SubsInputsdf['NIDLength']==False]\n",
    "NIDLength_sector = NIDLength.groupby('SectorID')['OAFID'].count().fillna(0).reset_index()\n",
    "\n",
    "#FINAL NID FRAME\n",
    "x = pd.merge(NIDStartsWith119_sector,FalseGender_sector, on='SectorID', how='outer').reset_index()\n",
    "CheckOnNID = pd.merge(x,NIDLength_sector, on='SectorID',how='outer').fillna(0).reset_index()\n",
    "CheckOnNID['#Wrong NID'] = CheckOnNID['OAFID_x']+CheckOnNID['OAFID_y']+CheckOnNID['OAFID']\n",
    "\n",
    "#IDSClientsPerInput = IDSInputsTxns.groupby('Product')['OAFID'].count().reset_index()\n",
    "#IDSQtyPerInput = IDSInputsTxns.groupby('Product')['Quantity'].sum().reset_index()\n",
    "#SectorSummary = pd.merge(IDSClientsPerInput,IDSQtyPerInput,on='Product',how='outer').rename(columns={'OAFID':'#Clients'})\n",
    "#SectorSummary \n",
    "\n",
    "#(1) FINDING THE TOTAL NUMBER OF CLIENTS IN EACH SECTOR ON IDS\n",
    "TotalSectorClients = SectorDf.groupby('SectorID')['OAFID'].count().reset_index()\n",
    "\n",
    "#(2)FINDING THE TOTAL NUMBER OF WRONG NID\n",
    "ClientsWithWrongNID = CheckOnNID[['SectorID','#Wrong NID']]\n",
    "\n",
    "#(3)FINDING THE TOTAL QUANTITY ON IDS IN EACH SECTOR\n",
    "TotalKgsPerSector = pd.pivot_table(IDSInputsTxns, values='Quantity', index=['SectorID'],columns=['Product'], aggfunc='sum').reset_index().rename(columns={'DAP':'DAP I_kgs', 'NPK':'NPK I_kgs', 'SC403':'SC403 I_kgs' , 'UREA':'UREA I_kgs','WH403':'WH403 I_kgs','PAN53':'PAN53 I_kgs','PAN691':'PAN691 I_kgs','SC637':'SC637 I_kgs','WH505':'WH505 I_kgs','WH605':'WH605 I_kgs' })\n",
    "\n",
    "#(4)TOTAL NUMBER OF CLIENTS WHO TOOK SPECIFIC PRODUCTS\n",
    "ClientsPerInputs = pd.pivot_table(IDSInputsTxns, values='OAFID', index=['SectorID'],columns=['Product'], aggfunc='count').reset_index().rename(columns={'DAP':'DAP I#', 'NPK':'NPK I#', 'SC403':'SC403 I#' , 'UREA':'UREA I#','WH403':'WH403 I#','PAN53':'PAN53 I#','PAN691':'PAN691 I#','SC637':'SC637 I#','WH505':'WH505 I#','WH605':'WH605 I#'})\n",
    "\n",
    "#(5)MATCHING THE NUMBER OF CLIENTS AND TOTAL KGS TAKEN\n",
    "IDS = pd.merge(pd.merge(ClientsPerInputs,TotalKgsPerSector, on='SectorID', how='outer' ),ClientsWithWrongNID, on='SectorID', how='outer').fillna(0).drop([0])"
   ]
  },
  {
   "cell_type": "code",
   "execution_count": 12,
   "metadata": {
    "tags": []
   },
   "outputs": [],
   "source": [
    " "
   ]
  },
  {
   "source": [
    "ANALYSIS ON MOPA"
   ],
   "cell_type": "markdown",
   "metadata": {}
  },
  {
   "cell_type": "code",
   "execution_count": 13,
   "metadata": {},
   "outputs": [],
   "source": [
    "#Cleaning MOPA data\n",
    "#ColSplit = MOPA ['Requested Qty'].str.split(\" \", n = 2, expand = True)\n",
    "#MOPA['Requested_qty'] = ColSplit[0].astype(float)\n",
    "MOPA['Paid_qty'] = MOPA['Paid Qty'].str.extract('(\\d+)').astype(float)\n",
    "MOPA['Product'] = MOPA['Product'].str.upper()\n",
    "MOPA = MOPA.rename(columns={'National Id':'NationalID'})\n",
    "MOPA['NationalID'] = MOPA['NationalID'].astype(str)\n",
    "MOPA['ProductID'] = MOPA['NationalID'] + MOPA['Product']\n",
    "MOPA['Product'] = MOPA['Product'].replace(['NPK 17:17:17'],['NPK'])\n",
    "MOPA_dataCols1 = MOPA[['District','SectorID','Name','Surname','NationalID','Product','Paid_qty']]\n",
    "MOPA_dataCols = pd.merge(MOPA_dataCols1,Products,on='Product',how='outer').fillna(0)\n"
   ]
  },
  {
   "cell_type": "code",
   "execution_count": 14,
   "metadata": {},
   "outputs": [],
   "source": [
    "MOPATotalKgsPerSector = pd.pivot_table(MOPA_dataCols, values='Paid_qty', index=['SectorID'],columns=['Product'], aggfunc='sum').reset_index().rename(columns={'DAP':'DAP M_kgs', 'NPK':'NPK M_kgs', 'SC403':'SC403 M_kgs' , 'UREA':'UREA M_kgs','WH403':'WH403 M_kgs','PAN691':'PAN691 M_kgs','SC637':'SC637 M_kgs','WH505':'WH505 M_kgs','PAN53':'PAN53 M_kgs','SC637':'SC637 M_kgs','WH605':'WH605 M_kgs'}).fillna(0)\n",
    "\n",
    "MOPAClientsPerInputs = pd.pivot_table(MOPA_dataCols, values='NationalID', index=['SectorID'],columns=['Product'], aggfunc='count').reset_index().rename(columns={'DAP':'DAP M#', 'NPK':'NPK M#', 'SC403':'SC403 M#' , 'UREA':'UREA M#','WH403':'WH403 M#','PAN691':'PAN691 M#','SC637':'SC637 M#','WH505':'WH505 M#','PAN53':'PAN53 M#','SC637':'SC637 M#','WH605':'WH605 M#'}).fillna(0)\n",
    "\n",
    "MOPA_data = pd.merge(MOPATotalKgsPerSector,MOPAClientsPerInputs, on='SectorID', how='outer' ).drop([0])\n"
   ]
  },
  {
   "cell_type": "code",
   "execution_count": 16,
   "metadata": {},
   "outputs": [],
   "source": [
    "#COMBINING IDS AND MOPA DATA\n",
    "IDSvsMOPA = pd.merge(IDS,MOPA_data, on='SectorID',how='outer').fillna(0)\n",
    "IDSvsMOPA['Diff in DAP#'] = IDSvsMOPA['DAP I#']-IDSvsMOPA['DAP M#']\n",
    "IDSvsMOPA['Diff in NPK#'] = IDSvsMOPA['NPK I#']-IDSvsMOPA['NPK M#']\n",
    "IDSvsMOPA['Diff in UREA#'] = IDSvsMOPA['UREA I#']-IDSvsMOPA['UREA M#']\n",
    "IDSvsMOPA['Diff in SC403#'] = IDSvsMOPA['SC403 I#']-IDSvsMOPA['SC403 M#']\n",
    "IDSvsMOPA['Diff in SC637#'] = IDSvsMOPA['SC637 I#']-IDSvsMOPA['SC637 M#']\n",
    "IDSvsMOPA['Diff in PAN53#'] = IDSvsMOPA['PAN53 I#'] - IDSvsMOPA['PAN53 M#']\n",
    "IDSvsMOPA['Diff in PAN691#'] = IDSvsMOPA['PAN691 I#'] - IDSvsMOPA['PAN691 M#'] \n",
    "IDSvsMOPA['Diff in WH403#'] = IDSvsMOPA['WH403 I#']-IDSvsMOPA['WH403 M#']\n",
    "IDSvsMOPA['Diff in WH505#'] = IDSvsMOPA['WH505 I#']-IDSvsMOPA['WH505 M#']\n",
    "IDSvsMOPA['Diff in WH605#'] = IDSvsMOPA['WH605 I#']-IDSvsMOPA['WH605 M#']\n",
    "\n",
    "IDSvsMOPA['Diff in DAP Kgs'] = IDSvsMOPA['DAP I_kgs']-IDSvsMOPA['DAP M_kgs']\n",
    "IDSvsMOPA['Diff in NPK Kgs'] = IDSvsMOPA['NPK I_kgs']-IDSvsMOPA['NPK M_kgs']\n",
    "IDSvsMOPA['Diff in UREA Kgs'] = IDSvsMOPA['UREA I_kgs']-IDSvsMOPA['UREA M_kgs']\n",
    "IDSvsMOPA['Diff in SC403 Kgs'] = IDSvsMOPA['SC403 I_kgs']-IDSvsMOPA['SC403 M_kgs']\n",
    "IDSvsMOPA['Diff in SC637 Kgs'] = IDSvsMOPA['SC637 I_kgs']-IDSvsMOPA['SC637 M_kgs']\n",
    "IDSvsMOPA['Diff in PAN53 Kgs'] = IDSvsMOPA['PAN53 I_kgs'] - IDSvsMOPA['PAN53 M_kgs']\n",
    "IDSvsMOPA['Diff in PAN691 Kgs'] = IDSvsMOPA['PAN691 I_kgs'] - IDSvsMOPA['PAN691 M_kgs'] \n",
    "IDSvsMOPA['Diff in WH505 Kgs'] = IDSvsMOPA['WH505 I_kgs']-IDSvsMOPA['WH505 M_kgs']\n",
    "IDSvsMOPA['Diff in WH403 Kgs'] = IDSvsMOPA['WH403 I_kgs']-IDSvsMOPA['WH403 M_kgs']\n",
    "IDSvsMOPA['Diff in WH605 Kgs'] = IDSvsMOPA['WH605 I_kgs']-IDSvsMOPA['WH605 M_kgs']\n",
    "\n",
    "os.chdir(r'C:\\Users\\user\\Desktop\\MOPA Reconciliation\\Reconciliation week of 28 Sept')\n",
    "\n",
    "IDSvsMOPA.to_excel('Reconciliation1.xlsx')"
   ]
  },
  {
   "cell_type": "code",
   "execution_count": null,
   "metadata": {},
   "outputs": [],
   "source": []
  }
 ],
 "metadata": {
  "kernelspec": {
   "name": "Python 3.8.4 32-bit",
   "display_name": "Python 3.8.4 32-bit",
   "metadata": {
    "interpreter": {
     "hash": "7987c57931f2365761dc2a5f85e647decf73af6edff0c78918b92bfe7c5512ba"
    }
   }
  },
  "language_info": {
   "codemirror_mode": {
    "name": "ipython",
    "version": 3
   },
   "file_extension": ".py",
   "mimetype": "text/x-python",
   "name": "python",
   "nbconvert_exporter": "python",
   "pygments_lexer": "ipython3",
   "version": "3.8.4-final"
  }
 },
 "nbformat": 4,
 "nbformat_minor": 4
}