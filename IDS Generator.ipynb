{
 "metadata": {
  "language_info": {
   "codemirror_mode": {
    "name": "ipython",
    "version": 3
   },
   "file_extension": ".py",
   "mimetype": "text/x-python",
   "name": "python",
   "nbconvert_exporter": "python",
   "pygments_lexer": "ipython3",
   "version": "3.8.4-final"
  },
  "orig_nbformat": 2,
  "kernelspec": {
   "name": "python_defaultSpec_1599823071769",
   "display_name": "Python 3.8.4 32-bit"
  }
 },
 "nbformat": 4,
 "nbformat_minor": 2,
 "cells": [
  {
   "cell_type": "code",
   "execution_count": 2,
   "metadata": {},
   "outputs": [],
   "source": [
    "import os\n",
    "import pandas as pd"
   ]
  },
  {
   "cell_type": "code",
   "execution_count": 3,
   "metadata": {},
   "outputs": [],
   "source": [
    "data = pd.read_csv(r'C:\\Users\\user\\Desktop\\Chicken client.csv')\n",
    "data['indexName'] = data.index.tolist()\n",
    "data['indexName'].astype(str)\n",
    "indexDf = pd.DataFrame({'index_list':data.index.tolist(), 'index_name':'  '})\n",
    "indexDf['indexName']=indexDf['index_list'].astype(str) + indexDf['index_name']\n",
    "#indexDf.set_index('indexName')\n",
    "Final = data.append(indexDf, ignore_index=False)\n",
    "Final['indexName'] = Final['indexName'].astype(str)\n",
    "Final.sort_values(by='indexName').to_csv('ids test.csv')"
   ]
  },
  {
   "cell_type": "code",
   "execution_count": 4,
   "metadata": {},
   "outputs": [
    {
     "output_type": "execute_result",
     "data": {
      "text/plain": "  DistrictName   SiteName           FieldOfficer         GroupName  \\\n0      Kayonza  Bugambira  Murebwayire Epiphanie    ABAKUNDAMAHORO   \n1      Kayonza  Bugambira  Murebwayire Epiphanie    ABAKUNDAMAHORO   \n2      Kayonza  Bugambira  Murebwayire Epiphanie  ABAKUNDAMAHORO B   \n3      Kayonza  Bugambira  Murebwayire Epiphanie  ABISHYIZEHAMWE A   \n4      Kayonza  Bugambira  Murebwayire Epiphanie      ABIZERANYE A   \n\n        LastName   FirstName    OAFID  2021A_Inkoko qty indexName  index_list  \\\n0   MUKAPEREZIDA  Didacienne  31307.0               8.0         0         NaN   \n1     NKUNDABERE     Vincent  31339.0              15.0         1         NaN   \n2     MUREKATETE    Colletha  33034.0               4.0         2         NaN   \n3  MUKANTAGANZWA   Ernestine  43234.0               4.0         3         NaN   \n4       NIRAGIRE      Mariam  41890.0               4.0         4         NaN   \n\n  index_name  \n0        NaN  \n1        NaN  \n2        NaN  \n3        NaN  \n4        NaN  ",
      "text/html": "<div>\n<style scoped>\n    .dataframe tbody tr th:only-of-type {\n        vertical-align: middle;\n    }\n\n    .dataframe tbody tr th {\n        vertical-align: top;\n    }\n\n    .dataframe thead th {\n        text-align: right;\n    }\n</style>\n<table border=\"1\" class=\"dataframe\">\n  <thead>\n    <tr style=\"text-align: right;\">\n      <th></th>\n      <th>DistrictName</th>\n      <th>SiteName</th>\n      <th>FieldOfficer</th>\n      <th>GroupName</th>\n      <th>LastName</th>\n      <th>FirstName</th>\n      <th>OAFID</th>\n      <th>2021A_Inkoko qty</th>\n      <th>indexName</th>\n      <th>index_list</th>\n      <th>index_name</th>\n    </tr>\n  </thead>\n  <tbody>\n    <tr>\n      <th>0</th>\n      <td>Kayonza</td>\n      <td>Bugambira</td>\n      <td>Murebwayire Epiphanie</td>\n      <td>ABAKUNDAMAHORO</td>\n      <td>MUKAPEREZIDA</td>\n      <td>Didacienne</td>\n      <td>31307.0</td>\n      <td>8.0</td>\n      <td>0</td>\n      <td>NaN</td>\n      <td>NaN</td>\n    </tr>\n    <tr>\n      <th>1</th>\n      <td>Kayonza</td>\n      <td>Bugambira</td>\n      <td>Murebwayire Epiphanie</td>\n      <td>ABAKUNDAMAHORO</td>\n      <td>NKUNDABERE</td>\n      <td>Vincent</td>\n      <td>31339.0</td>\n      <td>15.0</td>\n      <td>1</td>\n      <td>NaN</td>\n      <td>NaN</td>\n    </tr>\n    <tr>\n      <th>2</th>\n      <td>Kayonza</td>\n      <td>Bugambira</td>\n      <td>Murebwayire Epiphanie</td>\n      <td>ABAKUNDAMAHORO B</td>\n      <td>MUREKATETE</td>\n      <td>Colletha</td>\n      <td>33034.0</td>\n      <td>4.0</td>\n      <td>2</td>\n      <td>NaN</td>\n      <td>NaN</td>\n    </tr>\n    <tr>\n      <th>3</th>\n      <td>Kayonza</td>\n      <td>Bugambira</td>\n      <td>Murebwayire Epiphanie</td>\n      <td>ABISHYIZEHAMWE A</td>\n      <td>MUKANTAGANZWA</td>\n      <td>Ernestine</td>\n      <td>43234.0</td>\n      <td>4.0</td>\n      <td>3</td>\n      <td>NaN</td>\n      <td>NaN</td>\n    </tr>\n    <tr>\n      <th>4</th>\n      <td>Kayonza</td>\n      <td>Bugambira</td>\n      <td>Murebwayire Epiphanie</td>\n      <td>ABIZERANYE A</td>\n      <td>NIRAGIRE</td>\n      <td>Mariam</td>\n      <td>41890.0</td>\n      <td>4.0</td>\n      <td>4</td>\n      <td>NaN</td>\n      <td>NaN</td>\n    </tr>\n  </tbody>\n</table>\n</div>"
     },
     "metadata": {},
     "execution_count": 4
    }
   ],
   "source": [
    "Final.head()"
   ]
  },
  {
   "cell_type": "code",
   "execution_count": 5,
   "metadata": {},
   "outputs": [
    {
     "output_type": "execute_result",
     "data": {
      "text/plain": "Index(['DistrictName', 'SiteName', 'FieldOfficer', 'GroupName', 'LastName',\n       'FirstName', 'OAFID', '2021A_Inkoko qty', 'indexName'],\n      dtype='object')"
     },
     "metadata": {},
     "execution_count": 5
    }
   ],
   "source": [
    "data.columns"
   ]
  },
  {
   "cell_type": "code",
   "execution_count": 53,
   "metadata": {},
   "outputs": [],
   "source": [
    "\n",
    "\n"
   ]
  },
  {
   "cell_type": "code",
   "execution_count": null,
   "metadata": {},
   "outputs": [],
   "source": []
  }
 ]
}